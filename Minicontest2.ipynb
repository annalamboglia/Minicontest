{
  "nbformat": 4,
  "nbformat_minor": 0,
  "metadata": {
    "colab": {
      "name": "Minicontest2.ipynb",
      "provenance": [],
      "collapsed_sections": [
        "8D2wzoU3ZACu",
        "9ksHfkD4dL11"
      ],
      "authorship_tag": "ABX9TyOha72GtRLxXr4utK2U5kLu",
      "include_colab_link": true
    },
    "kernelspec": {
      "name": "python3",
      "display_name": "Python 3"
    },
    "language_info": {
      "name": "python"
    }
  },
  "cells": [
    {
      "cell_type": "markdown",
      "metadata": {
        "id": "view-in-github",
        "colab_type": "text"
      },
      "source": [
        "<a href=\"https://colab.research.google.com/github/annalamboglia/Minicontest1/blob/main/Minicontest2.ipynb\" target=\"_parent\"><img src=\"https://colab.research.google.com/assets/colab-badge.svg\" alt=\"Open In Colab\"/></a>"
      ]
    },
    {
      "cell_type": "code",
      "metadata": {
        "id": "GGqvGCN5x_CE"
      },
      "source": [
        "#importing libraries\n",
        "import numpy as np\n",
        "import pandas as pd\n",
        "import matplotlib.pyplot as plt\n",
        "import seaborn as sns; sns.set()"
      ],
      "execution_count": 1,
      "outputs": []
    },
    {
      "cell_type": "code",
      "metadata": {
        "colab": {
          "base_uri": "https://localhost:8080/"
        },
        "id": "TKs9qbAJyCy8",
        "outputId": "537216e7-140a-4671-dec5-78a484dcd32a"
      },
      "source": [
        "#Collegamento al Drive\n",
        "from google.colab import drive\n",
        "drive.mount('/content/drive')"
      ],
      "execution_count": 2,
      "outputs": [
        {
          "output_type": "stream",
          "name": "stdout",
          "text": [
            "Drive already mounted at /content/drive; to attempt to forcibly remount, call drive.mount(\"/content/drive\", force_remount=True).\n"
          ]
        }
      ]
    },
    {
      "cell_type": "code",
      "metadata": {
        "id": "2VT3L2XGyDlE"
      },
      "source": [
        "# importo il csv\n",
        "\n",
        "with open(\"/content/drive/MyDrive/Minicontest2/Training.xlsx\", 'rb') as fp:\n",
        "    df = pd.read_excel(fp)\n",
        "\n",
        "df"
      ],
      "execution_count": null,
      "outputs": []
    },
    {
      "cell_type": "code",
      "metadata": {
        "id": "JEIBi9Z2FhiM"
      },
      "source": [
        "#Look at the data types whitch columns need to be encoded\n",
        "df.dtypes"
      ],
      "execution_count": null,
      "outputs": []
    },
    {
      "cell_type": "code",
      "metadata": {
        "id": "hT8bzYjnFlLh"
      },
      "source": [
        "#NaN Values\n",
        "df1 = df[df.isna().any(axis=1)]\n",
        "\n",
        "df1"
      ],
      "execution_count": null,
      "outputs": []
    },
    {
      "cell_type": "code",
      "metadata": {
        "colab": {
          "base_uri": "https://localhost:8080/"
        },
        "id": "Z3YEPpx_SZuF",
        "outputId": "c3a3f952-da8c-4dc5-a9d0-353322dc1255"
      },
      "source": [
        "#Count the number of empty values of each columns in dataset\n",
        "df.isna().sum()"
      ],
      "execution_count": 6,
      "outputs": [
        {
          "output_type": "execute_result",
          "data": {
            "text/plain": [
              "Material_1               0\n",
              "Type_1                   8\n",
              "Pretreatment_1           1\n",
              "Moisture_1              51\n",
              "Volatiles_1             43\n",
              "Fixed Carbon_1          49\n",
              "Ash_1                   12\n",
              "HHV, MJ/Kg_1            94\n",
              "C_1                     13\n",
              "H_1                     13\n",
              "N_1                     36\n",
              "O_1                     14\n",
              "S_1                    111\n",
              "Cl_1                   172\n",
              "H/C(0)_1                13\n",
              "O/C(0)_1                13\n",
              "Cellulose_1             93\n",
              "Hemicellulose_1        107\n",
              "Lignin_1               102\n",
              "Extractives_1          128\n",
              "Particle Size, mm_1    143\n",
              "O/C oil                  0\n",
              "dtype: int64"
            ]
          },
          "metadata": {},
          "execution_count": 6
        }
      ]
    },
    {
      "cell_type": "markdown",
      "metadata": {
        "id": "rpWySbpLaCWM"
      },
      "source": [
        "#Correlazione"
      ]
    },
    {
      "cell_type": "code",
      "metadata": {
        "colab": {
          "base_uri": "https://localhost:8080/",
          "height": 779
        },
        "id": "CPYbEUhaXkfr",
        "outputId": "1fb76e5d-fa7c-4ace-a1f3-65183c9bebb0"
      },
      "source": [
        "# Bivariate Analysis\n",
        "# Make a Features Correlation Matrix of the WBCD features\n",
        "# Readapted from AN6U5\n",
        "\n",
        "def features_correlation_matrix(df):\n",
        "    from matplotlib import pyplot as plt\n",
        "    from matplotlib import cm as cm\n",
        "    fig = plt.figure()\n",
        "    fig.set_size_inches(18.5, 10.5)\n",
        "    ax1 = fig.add_subplot(111)\n",
        "    \n",
        "    cmap = cm.get_cmap('jet', 100)\n",
        "    \n",
        "    # interpolation='nearest' simply displays an image without \n",
        "    # trying to interpolate between pixels if the display \n",
        "    # resolution is not the same as the image resolution\n",
        "    # The correlation is returned in absolute values:\n",
        "    cax = ax1.imshow(df.corr().abs(), interpolation=\"nearest\", \\\n",
        "                     cmap=cmap)\n",
        "    ax1.grid(True)\n",
        "    plt.title('Correlation Matrix of the WBCD features',fontsize=20)\n",
        "    labels=list(df.columns)\n",
        "    \n",
        "    ax1.set_xticks(np.arange(len(labels)))\n",
        "    ax1.set_yticks(np.arange(len(labels)))\n",
        "    \n",
        "    ax1.set_xticklabels(labels,fontsize=15,\\\n",
        "              horizontalalignment=\"left\", rotation='vertical')\n",
        "    \n",
        "    ax1.set_yticklabels(labels,fontsize=15)\n",
        "    \n",
        "    # Add a colorbar\n",
        "    fig.colorbar(cax, ticks=[-1.0, -0.8, -0.6, -0.4, -0.2, 0, \\\n",
        "                             0.2, 0.4, 0.6, 0.8, 1])\n",
        "    plt.show()\n",
        "\n",
        "\n",
        "# Drop the Outcome column from Df and copy it into df_features\n",
        "df_features = df.drop(df.columns[-1],axis=1)\n",
        "# Run the correlation_matrix function, using df_features as argument\n",
        "features_correlation_matrix(df_features)"
      ],
      "execution_count": 42,
      "outputs": [
        {
          "output_type": "display_data",
          "data": {
            "image/png": "[encoded data removed]",
            "text/plain": [
              "<Figure size 1332x756 with 2 Axes>"
            ]
          },
          "metadata": {
            "needs_background": "light"
          }
        }
      ]
    },
    {
      "cell_type": "code",
      "metadata": {
        "id": "41XJxJ0VXoFs"
      },
      "source": [
        "# Dropping of features with a correlation greater than 0.8\n",
        "# Code readapted from Chris Albon\n",
        "# Create the correlation matrix with absolute values\n",
        "corr_matrix = df_features.corr().abs()\n",
        "\n",
        "# Select upper triangle of correlation matrix\n",
        "upper = corr_matrix.where(np.triu(np.ones(corr_matrix.shape), k=1).astype(np.bool))\n",
        "\n",
        "# Find index of feature columns with correlation greater than 0.9\n",
        "to_drop = [column for column in upper.columns if any(upper[column] > 0.8)]"
      ],
      "execution_count": 43,
      "outputs": []
    },
    {
      "cell_type": "code",
      "metadata": {
        "colab": {
          "base_uri": "https://localhost:8080/"
        },
        "id": "0u8Lee9RXo7s",
        "outputId": "11afe929-9bff-4027-ec65-ba590c9b344d"
      },
      "source": [
        "to_drop"
      ],
      "execution_count": 44,
      "outputs": [
        {
          "output_type": "execute_result",
          "data": {
            "text/plain": [
              "['Fixed Carbon_1', 'Ash_1', 'Cl_1', 'O/C(0)_1', 'Material_1_cat']"
            ]
          },
          "metadata": {},
          "execution_count": 44
        }
      ]
    },
    {
      "cell_type": "code",
      "metadata": {
        "colab": {
          "base_uri": "https://localhost:8080/",
          "height": 779
        },
        "id": "UTJGlByuXqw5",
        "outputId": "f22b81ec-5336-42a6-98c8-8290101ffe65"
      },
      "source": [
        "# Drop the redundant features from the df\n",
        "df_features_corr_dropped = df_features.drop(df_features[to_drop], axis=1)\n",
        "\n",
        "# Re-plot the dropped df containing only not-redundant features\n",
        "# Using the feature_correlation_matrix() function\n",
        "features_correlation_matrix(df_features_corr_dropped)"
      ],
      "execution_count": 45,
      "outputs": [
        {
          "output_type": "display_data",
          "data": {
            "image/png": "[encoded data removed]",
            "text/plain": [
              "<Figure size 1332x756 with 2 Axes>"
            ]
          },
          "metadata": {
            "needs_background": "light"
          }
        }
      ]
    },
    {
      "cell_type": "code",
      "metadata": {
        "colab": {
          "base_uri": "https://localhost:8080/",
          "height": 588
        },
        "id": "h-pFR8QLXvNz",
        "outputId": "f132c7d1-c346-41b1-c188-577782b706e3"
      },
      "source": [
        "# Print a table with all the features correlations\n",
        "# Redundant features were dropped from the original 30 features dataset\n",
        "# To get the correlation, we apply the .corr() method\n",
        "# followed by the .abs() method to the df_features_corr_dropped DataFrame\n",
        "df_features_corr_dropped.corr().abs()"
      ],
      "execution_count": 46,
      "outputs": [
        {
          "output_type": "execute_result",
          "data": {
            "text/html": [
              "<div>\n",
              "<style scoped>\n",
              "    .dataframe tbody tr th:only-of-type {\n",
              "        vertical-align: middle;\n",
              "    }\n",
              "\n",
              "    .dataframe tbody tr th {\n",
              "        vertical-align: top;\n",
              "    }\n",
              "\n",
              "    .dataframe thead th {\n",
              "        text-align: right;\n",
              "    }\n",
              "</style>\n",
              "<table border=\"1\" class=\"dataframe\">\n",
              "  <thead>\n",
              "    <tr style=\"text-align: right;\">\n",
              "      <th></th>\n",
              "      <th>Moisture_1</th>\n",
              "      <th>Volatiles_1</th>\n",
              "      <th>HHV, MJ/Kg_1</th>\n",
              "      <th>C_1</th>\n",
              "      <th>H_1</th>\n",
              "      <th>N_1</th>\n",
              "      <th>O_1</th>\n",
              "      <th>S_1</th>\n",
              "      <th>H/C(0)_1</th>\n",
              "      <th>Cellulose_1</th>\n",
              "      <th>Hemicellulose_1</th>\n",
              "      <th>Lignin_1</th>\n",
              "      <th>Extractives_1</th>\n",
              "      <th>O/C oil</th>\n",
              "      <th>Type_1_cat</th>\n",
              "      <th>Pretreatment_1_cat</th>\n",
              "    </tr>\n",
              "  </thead>\n",
              "  <tbody>\n",
              "    <tr>\n",
              "      <th>Moisture_1</th>\n",
              "      <td>1.000000</td>\n",
              "      <td>0.054692</td>\n",
              "      <td>0.033974</td>\n",
              "      <td>0.117045</td>\n",
              "      <td>0.009070</td>\n",
              "      <td>0.000106</td>\n",
              "      <td>0.119112</td>\n",
              "      <td>0.094145</td>\n",
              "      <td>0.087100</td>\n",
              "      <td>0.091152</td>\n",
              "      <td>0.153174</td>\n",
              "      <td>0.090820</td>\n",
              "      <td>0.049510</td>\n",
              "      <td>0.068624</td>\n",
              "      <td>0.039666</td>\n",
              "      <td>0.154981</td>\n",
              "    </tr>\n",
              "    <tr>\n",
              "      <th>Volatiles_1</th>\n",
              "      <td>0.054692</td>\n",
              "      <td>1.000000</td>\n",
              "      <td>0.277812</td>\n",
              "      <td>0.249359</td>\n",
              "      <td>0.080177</td>\n",
              "      <td>0.255256</td>\n",
              "      <td>0.069037</td>\n",
              "      <td>0.599977</td>\n",
              "      <td>0.304352</td>\n",
              "      <td>0.072116</td>\n",
              "      <td>0.177574</td>\n",
              "      <td>0.298567</td>\n",
              "      <td>0.424051</td>\n",
              "      <td>0.027601</td>\n",
              "      <td>0.010583</td>\n",
              "      <td>0.279229</td>\n",
              "    </tr>\n",
              "    <tr>\n",
              "      <th>HHV, MJ/Kg_1</th>\n",
              "      <td>0.033974</td>\n",
              "      <td>0.277812</td>\n",
              "      <td>1.000000</td>\n",
              "      <td>0.643469</td>\n",
              "      <td>0.390053</td>\n",
              "      <td>0.075775</td>\n",
              "      <td>0.616884</td>\n",
              "      <td>0.129389</td>\n",
              "      <td>0.191990</td>\n",
              "      <td>0.172727</td>\n",
              "      <td>0.600438</td>\n",
              "      <td>0.298651</td>\n",
              "      <td>0.417136</td>\n",
              "      <td>0.032820</td>\n",
              "      <td>0.393316</td>\n",
              "      <td>0.317517</td>\n",
              "    </tr>\n",
              "    <tr>\n",
              "      <th>C_1</th>\n",
              "      <td>0.117045</td>\n",
              "      <td>0.249359</td>\n",
              "      <td>0.643469</td>\n",
              "      <td>1.000000</td>\n",
              "      <td>0.224369</td>\n",
              "      <td>0.171533</td>\n",
              "      <td>0.531252</td>\n",
              "      <td>0.107326</td>\n",
              "      <td>0.551053</td>\n",
              "      <td>0.163093</td>\n",
              "      <td>0.446867</td>\n",
              "      <td>0.544235</td>\n",
              "      <td>0.339812</td>\n",
              "      <td>0.293283</td>\n",
              "      <td>0.279125</td>\n",
              "      <td>0.173267</td>\n",
              "    </tr>\n",
              "    <tr>\n",
              "      <th>H_1</th>\n",
              "      <td>0.009070</td>\n",
              "      <td>0.080177</td>\n",
              "      <td>0.390053</td>\n",
              "      <td>0.224369</td>\n",
              "      <td>1.000000</td>\n",
              "      <td>0.084019</td>\n",
              "      <td>0.210793</td>\n",
              "      <td>0.266188</td>\n",
              "      <td>0.669096</td>\n",
              "      <td>0.201306</td>\n",
              "      <td>0.171631</td>\n",
              "      <td>0.068360</td>\n",
              "      <td>0.314784</td>\n",
              "      <td>0.074267</td>\n",
              "      <td>0.185610</td>\n",
              "      <td>0.051386</td>\n",
              "    </tr>\n",
              "    <tr>\n",
              "      <th>N_1</th>\n",
              "      <td>0.000106</td>\n",
              "      <td>0.255256</td>\n",
              "      <td>0.075775</td>\n",
              "      <td>0.171533</td>\n",
              "      <td>0.084019</td>\n",
              "      <td>1.000000</td>\n",
              "      <td>0.225466</td>\n",
              "      <td>0.607738</td>\n",
              "      <td>0.079665</td>\n",
              "      <td>0.173752</td>\n",
              "      <td>0.221152</td>\n",
              "      <td>0.086579</td>\n",
              "      <td>0.387565</td>\n",
              "      <td>0.094640</td>\n",
              "      <td>0.258295</td>\n",
              "      <td>0.202572</td>\n",
              "    </tr>\n",
              "    <tr>\n",
              "      <th>O_1</th>\n",
              "      <td>0.119112</td>\n",
              "      <td>0.069037</td>\n",
              "      <td>0.616884</td>\n",
              "      <td>0.531252</td>\n",
              "      <td>0.210793</td>\n",
              "      <td>0.225466</td>\n",
              "      <td>1.000000</td>\n",
              "      <td>0.034509</td>\n",
              "      <td>0.131053</td>\n",
              "      <td>0.174177</td>\n",
              "      <td>0.505006</td>\n",
              "      <td>0.410636</td>\n",
              "      <td>0.352281</td>\n",
              "      <td>0.267108</td>\n",
              "      <td>0.130703</td>\n",
              "      <td>0.300052</td>\n",
              "    </tr>\n",
              "    <tr>\n",
              "      <th>S_1</th>\n",
              "      <td>0.094145</td>\n",
              "      <td>0.599977</td>\n",
              "      <td>0.129389</td>\n",
              "      <td>0.107326</td>\n",
              "      <td>0.266188</td>\n",
              "      <td>0.607738</td>\n",
              "      <td>0.034509</td>\n",
              "      <td>1.000000</td>\n",
              "      <td>0.092991</td>\n",
              "      <td>0.190215</td>\n",
              "      <td>0.362142</td>\n",
              "      <td>0.231900</td>\n",
              "      <td>0.375069</td>\n",
              "      <td>0.064288</td>\n",
              "      <td>0.301615</td>\n",
              "      <td>0.015651</td>\n",
              "    </tr>\n",
              "    <tr>\n",
              "      <th>H/C(0)_1</th>\n",
              "      <td>0.087100</td>\n",
              "      <td>0.304352</td>\n",
              "      <td>0.191990</td>\n",
              "      <td>0.551053</td>\n",
              "      <td>0.669096</td>\n",
              "      <td>0.079665</td>\n",
              "      <td>0.131053</td>\n",
              "      <td>0.092991</td>\n",
              "      <td>1.000000</td>\n",
              "      <td>0.290752</td>\n",
              "      <td>0.082525</td>\n",
              "      <td>0.187861</td>\n",
              "      <td>0.418558</td>\n",
              "      <td>0.252231</td>\n",
              "      <td>0.059597</td>\n",
              "      <td>0.074215</td>\n",
              "    </tr>\n",
              "    <tr>\n",
              "      <th>Cellulose_1</th>\n",
              "      <td>0.091152</td>\n",
              "      <td>0.072116</td>\n",
              "      <td>0.172727</td>\n",
              "      <td>0.163093</td>\n",
              "      <td>0.201306</td>\n",
              "      <td>0.173752</td>\n",
              "      <td>0.174177</td>\n",
              "      <td>0.190215</td>\n",
              "      <td>0.290752</td>\n",
              "      <td>1.000000</td>\n",
              "      <td>0.073139</td>\n",
              "      <td>0.351094</td>\n",
              "      <td>0.284605</td>\n",
              "      <td>0.044553</td>\n",
              "      <td>0.396772</td>\n",
              "      <td>0.018274</td>\n",
              "    </tr>\n",
              "    <tr>\n",
              "      <th>Hemicellulose_1</th>\n",
              "      <td>0.153174</td>\n",
              "      <td>0.177574</td>\n",
              "      <td>0.600438</td>\n",
              "      <td>0.446867</td>\n",
              "      <td>0.171631</td>\n",
              "      <td>0.221152</td>\n",
              "      <td>0.505006</td>\n",
              "      <td>0.362142</td>\n",
              "      <td>0.082525</td>\n",
              "      <td>0.073139</td>\n",
              "      <td>1.000000</td>\n",
              "      <td>0.135773</td>\n",
              "      <td>0.475605</td>\n",
              "      <td>0.066651</td>\n",
              "      <td>0.013535</td>\n",
              "      <td>0.218445</td>\n",
              "    </tr>\n",
              "    <tr>\n",
              "      <th>Lignin_1</th>\n",
              "      <td>0.090820</td>\n",
              "      <td>0.298567</td>\n",
              "      <td>0.298651</td>\n",
              "      <td>0.544235</td>\n",
              "      <td>0.068360</td>\n",
              "      <td>0.086579</td>\n",
              "      <td>0.410636</td>\n",
              "      <td>0.231900</td>\n",
              "      <td>0.187861</td>\n",
              "      <td>0.351094</td>\n",
              "      <td>0.135773</td>\n",
              "      <td>1.000000</td>\n",
              "      <td>0.396394</td>\n",
              "      <td>0.238718</td>\n",
              "      <td>0.154782</td>\n",
              "      <td>0.063747</td>\n",
              "    </tr>\n",
              "    <tr>\n",
              "      <th>Extractives_1</th>\n",
              "      <td>0.049510</td>\n",
              "      <td>0.424051</td>\n",
              "      <td>0.417136</td>\n",
              "      <td>0.339812</td>\n",
              "      <td>0.314784</td>\n",
              "      <td>0.387565</td>\n",
              "      <td>0.352281</td>\n",
              "      <td>0.375069</td>\n",
              "      <td>0.418558</td>\n",
              "      <td>0.284605</td>\n",
              "      <td>0.475605</td>\n",
              "      <td>0.396394</td>\n",
              "      <td>1.000000</td>\n",
              "      <td>0.210459</td>\n",
              "      <td>0.019535</td>\n",
              "      <td>0.185300</td>\n",
              "    </tr>\n",
              "    <tr>\n",
              "      <th>O/C oil</th>\n",
              "      <td>0.068624</td>\n",
              "      <td>0.027601</td>\n",
              "      <td>0.032820</td>\n",
              "      <td>0.293283</td>\n",
              "      <td>0.074267</td>\n",
              "      <td>0.094640</td>\n",
              "      <td>0.267108</td>\n",
              "      <td>0.064288</td>\n",
              "      <td>0.252231</td>\n",
              "      <td>0.044553</td>\n",
              "      <td>0.066651</td>\n",
              "      <td>0.238718</td>\n",
              "      <td>0.210459</td>\n",
              "      <td>1.000000</td>\n",
              "      <td>0.194857</td>\n",
              "      <td>0.061228</td>\n",
              "    </tr>\n",
              "    <tr>\n",
              "      <th>Type_1_cat</th>\n",
              "      <td>0.039666</td>\n",
              "      <td>0.010583</td>\n",
              "      <td>0.393316</td>\n",
              "      <td>0.279125</td>\n",
              "      <td>0.185610</td>\n",
              "      <td>0.258295</td>\n",
              "      <td>0.130703</td>\n",
              "      <td>0.301615</td>\n",
              "      <td>0.059597</td>\n",
              "      <td>0.396772</td>\n",
              "      <td>0.013535</td>\n",
              "      <td>0.154782</td>\n",
              "      <td>0.019535</td>\n",
              "      <td>0.194857</td>\n",
              "      <td>1.000000</td>\n",
              "      <td>0.025910</td>\n",
              "    </tr>\n",
              "    <tr>\n",
              "      <th>Pretreatment_1_cat</th>\n",
              "      <td>0.154981</td>\n",
              "      <td>0.279229</td>\n",
              "      <td>0.317517</td>\n",
              "      <td>0.173267</td>\n",
              "      <td>0.051386</td>\n",
              "      <td>0.202572</td>\n",
              "      <td>0.300052</td>\n",
              "      <td>0.015651</td>\n",
              "      <td>0.074215</td>\n",
              "      <td>0.018274</td>\n",
              "      <td>0.218445</td>\n",
              "      <td>0.063747</td>\n",
              "      <td>0.185300</td>\n",
              "      <td>0.061228</td>\n",
              "      <td>0.025910</td>\n",
              "      <td>1.000000</td>\n",
              "    </tr>\n",
              "  </tbody>\n",
              "</table>\n",
              "</div>"
            ],
            "text/plain": [
              "                    Moisture_1  Volatiles_1  ...  Type_1_cat  Pretreatment_1_cat\n",
              "Moisture_1            1.000000     0.054692  ...    0.039666            0.154981\n",
              "Volatiles_1           0.054692     1.000000  ...    0.010583            0.279229\n",
              "HHV, MJ/Kg_1          0.033974     0.277812  ...    0.393316            0.317517\n",
              "C_1                   0.117045     0.249359  ...    0.279125            0.173267\n",
              "H_1                   0.009070     0.080177  ...    0.185610            0.051386\n",
              "N_1                   0.000106     0.255256  ...    0.258295            0.202572\n",
              "O_1                   0.119112     0.069037  ...    0.130703            0.300052\n",
              "S_1                   0.094145     0.599977  ...    0.301615            0.015651\n",
              "H/C(0)_1              0.087100     0.304352  ...    0.059597            0.074215\n",
              "Cellulose_1           0.091152     0.072116  ...    0.396772            0.018274\n",
              "Hemicellulose_1       0.153174     0.177574  ...    0.013535            0.218445\n",
              "Lignin_1              0.090820     0.298567  ...    0.154782            0.063747\n",
              "Extractives_1         0.049510     0.424051  ...    0.019535            0.185300\n",
              "O/C oil               0.068624     0.027601  ...    0.194857            0.061228\n",
              "Type_1_cat            0.039666     0.010583  ...    1.000000            0.025910\n",
              "Pretreatment_1_cat    0.154981     0.279229  ...    0.025910            1.000000\n",
              "\n",
              "[16 rows x 16 columns]"
            ]
          },
          "metadata": {},
          "execution_count": 46
        }
      ]
    },
    {
      "cell_type": "markdown",
      "metadata": {
        "id": "iPQzUWLFXk1i"
      },
      "source": [
        "#Encoding"
      ]
    },
    {
      "cell_type": "code",
      "metadata": {
        "colab": {
          "base_uri": "https://localhost:8080/"
        },
        "id": "0jw0cr2KShWZ",
        "outputId": "150015de-afa4-4c40-cb03-86cf60a862f9"
      },
      "source": [
        "categorical_cols=df.columns[df.dtypes==object].tolist()\n",
        "categorical_cols"
      ],
      "execution_count": 7,
      "outputs": [
        {
          "output_type": "execute_result",
          "data": {
            "text/plain": [
              "['Material_1', 'Type_1', 'Pretreatment_1', 'Particle Size, mm_1']"
            ]
          },
          "metadata": {},
          "execution_count": 7
        }
      ]
    },
    {
      "cell_type": "code",
      "metadata": {
        "colab": {
          "base_uri": "https://localhost:8080/",
          "height": 365
        },
        "id": "arlwEhnOTKQO",
        "outputId": "cdf005bb-02f7-43c9-981b-e1c62669079d"
      },
      "source": [
        "df[\"Material_1_cat\"]=df[\"Material_1\"].astype('category').cat.codes\n",
        "df[\"Type_1_cat\"]=df[\"Type_1\"].astype('category').cat.codes\n",
        "df[\"Pretreatment_1_cat\"]=df[\"Pretreatment_1\"].astype('category').cat.codes\n",
        "df[\"Particle Size, mm_1_cat\"]=df[\"Particle Size, mm_1\"].astype('category').cat.codes\n",
        "df.head()"
      ],
      "execution_count": 8,
      "outputs": [
        {
          "output_type": "execute_result",
          "data": {
            "text/html": [
              "<div>\n",
              "<style scoped>\n",
              "    .dataframe tbody tr th:only-of-type {\n",
              "        vertical-align: middle;\n",
              "    }\n",
              "\n",
              "    .dataframe tbody tr th {\n",
              "        vertical-align: top;\n",
              "    }\n",
              "\n",
              "    .dataframe thead th {\n",
              "        text-align: right;\n",
              "    }\n",
              "</style>\n",
              "<table border=\"1\" class=\"dataframe\">\n",
              "  <thead>\n",
              "    <tr style=\"text-align: right;\">\n",
              "      <th></th>\n",
              "      <th>Material_1</th>\n",
              "      <th>Type_1</th>\n",
              "      <th>Pretreatment_1</th>\n",
              "      <th>Moisture_1</th>\n",
              "      <th>Volatiles_1</th>\n",
              "      <th>Fixed Carbon_1</th>\n",
              "      <th>Ash_1</th>\n",
              "      <th>HHV, MJ/Kg_1</th>\n",
              "      <th>C_1</th>\n",
              "      <th>H_1</th>\n",
              "      <th>N_1</th>\n",
              "      <th>O_1</th>\n",
              "      <th>S_1</th>\n",
              "      <th>Cl_1</th>\n",
              "      <th>H/C(0)_1</th>\n",
              "      <th>O/C(0)_1</th>\n",
              "      <th>Cellulose_1</th>\n",
              "      <th>Hemicellulose_1</th>\n",
              "      <th>Lignin_1</th>\n",
              "      <th>Extractives_1</th>\n",
              "      <th>Particle Size, mm_1</th>\n",
              "      <th>O/C oil</th>\n",
              "      <th>Material_1_cat</th>\n",
              "      <th>Type_1_cat</th>\n",
              "      <th>Pretreatment_1_cat</th>\n",
              "      <th>Particle Size, mm_1_cat</th>\n",
              "    </tr>\n",
              "  </thead>\n",
              "  <tbody>\n",
              "    <tr>\n",
              "      <th>0</th>\n",
              "      <td>japonica alga</td>\n",
              "      <td>algae</td>\n",
              "      <td>acid_washed</td>\n",
              "      <td>5.03</td>\n",
              "      <td>NaN</td>\n",
              "      <td>NaN</td>\n",
              "      <td>7.32</td>\n",
              "      <td>14.27</td>\n",
              "      <td>43.76</td>\n",
              "      <td>6.00</td>\n",
              "      <td>2.76</td>\n",
              "      <td>55.38</td>\n",
              "      <td>NaN</td>\n",
              "      <td>NaN</td>\n",
              "      <td>0.137112</td>\n",
              "      <td>1.265539</td>\n",
              "      <td>NaN</td>\n",
              "      <td>NaN</td>\n",
              "      <td>NaN</td>\n",
              "      <td>NaN</td>\n",
              "      <td>NaN</td>\n",
              "      <td>0.469887</td>\n",
              "      <td>22</td>\n",
              "      <td>1</td>\n",
              "      <td>0</td>\n",
              "      <td>-1</td>\n",
              "    </tr>\n",
              "    <tr>\n",
              "      <th>1</th>\n",
              "      <td>bamboo</td>\n",
              "      <td>agricultural_waste</td>\n",
              "      <td>none</td>\n",
              "      <td>7.30</td>\n",
              "      <td>90.90</td>\n",
              "      <td>0.10</td>\n",
              "      <td>1.70</td>\n",
              "      <td>17.70</td>\n",
              "      <td>46.90</td>\n",
              "      <td>5.85</td>\n",
              "      <td>0.21</td>\n",
              "      <td>47.02</td>\n",
              "      <td>0.02</td>\n",
              "      <td>NaN</td>\n",
              "      <td>0.124733</td>\n",
              "      <td>1.002559</td>\n",
              "      <td>41.0</td>\n",
              "      <td>26.5</td>\n",
              "      <td>25.3</td>\n",
              "      <td>NaN</td>\n",
              "      <td>0.6</td>\n",
              "      <td>2.561132</td>\n",
              "      <td>5</td>\n",
              "      <td>0</td>\n",
              "      <td>2</td>\n",
              "      <td>11</td>\n",
              "    </tr>\n",
              "    <tr>\n",
              "      <th>2</th>\n",
              "      <td>japonica alga</td>\n",
              "      <td>algae</td>\n",
              "      <td>none</td>\n",
              "      <td>6.90</td>\n",
              "      <td>NaN</td>\n",
              "      <td>NaN</td>\n",
              "      <td>20.21</td>\n",
              "      <td>16.96</td>\n",
              "      <td>41.22</td>\n",
              "      <td>7.73</td>\n",
              "      <td>1.17</td>\n",
              "      <td>49.88</td>\n",
              "      <td>NaN</td>\n",
              "      <td>NaN</td>\n",
              "      <td>0.187530</td>\n",
              "      <td>1.210092</td>\n",
              "      <td>NaN</td>\n",
              "      <td>NaN</td>\n",
              "      <td>NaN</td>\n",
              "      <td>NaN</td>\n",
              "      <td>NaN</td>\n",
              "      <td>0.393652</td>\n",
              "      <td>22</td>\n",
              "      <td>1</td>\n",
              "      <td>2</td>\n",
              "      <td>-1</td>\n",
              "    </tr>\n",
              "    <tr>\n",
              "      <th>3</th>\n",
              "      <td>beech wood</td>\n",
              "      <td>hardwood</td>\n",
              "      <td>none</td>\n",
              "      <td>8.00</td>\n",
              "      <td>NaN</td>\n",
              "      <td>NaN</td>\n",
              "      <td>0.54</td>\n",
              "      <td>NaN</td>\n",
              "      <td>48.44</td>\n",
              "      <td>5.83</td>\n",
              "      <td>NaN</td>\n",
              "      <td>45.73</td>\n",
              "      <td>NaN</td>\n",
              "      <td>NaN</td>\n",
              "      <td>0.120355</td>\n",
              "      <td>0.944055</td>\n",
              "      <td>NaN</td>\n",
              "      <td>NaN</td>\n",
              "      <td>NaN</td>\n",
              "      <td>NaN</td>\n",
              "      <td>NaN</td>\n",
              "      <td>0.236315</td>\n",
              "      <td>6</td>\n",
              "      <td>5</td>\n",
              "      <td>2</td>\n",
              "      <td>-1</td>\n",
              "    </tr>\n",
              "    <tr>\n",
              "      <th>4</th>\n",
              "      <td>rice straw</td>\n",
              "      <td>agricultural_waste</td>\n",
              "      <td>none</td>\n",
              "      <td>10.80</td>\n",
              "      <td>66.89</td>\n",
              "      <td>14.57</td>\n",
              "      <td>7.56</td>\n",
              "      <td>NaN</td>\n",
              "      <td>39.98</td>\n",
              "      <td>2.45</td>\n",
              "      <td>4.43</td>\n",
              "      <td>52.61</td>\n",
              "      <td>0.53</td>\n",
              "      <td>NaN</td>\n",
              "      <td>0.061281</td>\n",
              "      <td>1.315908</td>\n",
              "      <td>NaN</td>\n",
              "      <td>NaN</td>\n",
              "      <td>NaN</td>\n",
              "      <td>NaN</td>\n",
              "      <td>0.6 mm &lt;particle diameter &lt; 1.18 mm</td>\n",
              "      <td>1.952824</td>\n",
              "      <td>40</td>\n",
              "      <td>0</td>\n",
              "      <td>2</td>\n",
              "      <td>12</td>\n",
              "    </tr>\n",
              "  </tbody>\n",
              "</table>\n",
              "</div>"
            ],
            "text/plain": [
              "      Material_1  ... Particle Size, mm_1_cat\n",
              "0  japonica alga  ...                      -1\n",
              "1         bamboo  ...                      11\n",
              "2  japonica alga  ...                      -1\n",
              "3     beech wood  ...                      -1\n",
              "4     rice straw  ...                      12\n",
              "\n",
              "[5 rows x 26 columns]"
            ]
          },
          "metadata": {},
          "execution_count": 8
        }
      ]
    },
    {
      "cell_type": "code",
      "metadata": {
        "colab": {
          "base_uri": "https://localhost:8080/"
        },
        "id": "ksY3_n_sHO__",
        "outputId": "7de7a6dc-18ff-494d-bcbc-76bcfe07a294"
      },
      "source": [
        "df.columns"
      ],
      "execution_count": 9,
      "outputs": [
        {
          "output_type": "execute_result",
          "data": {
            "text/plain": [
              "Index(['Material_1', 'Type_1', 'Pretreatment_1', 'Moisture_1', 'Volatiles_1',\n",
              "       'Fixed Carbon_1', 'Ash_1', 'HHV, MJ/Kg_1', 'C_1', 'H_1', 'N_1', 'O_1',\n",
              "       'S_1', 'Cl_1', 'H/C(0)_1', 'O/C(0)_1', 'Cellulose_1', 'Hemicellulose_1',\n",
              "       'Lignin_1', 'Extractives_1', 'Particle Size, mm_1', 'O/C oil',\n",
              "       'Material_1_cat', 'Type_1_cat', 'Pretreatment_1_cat',\n",
              "       'Particle Size, mm_1_cat'],\n",
              "      dtype='object')"
            ]
          },
          "metadata": {},
          "execution_count": 9
        }
      ]
    },
    {
      "cell_type": "code",
      "metadata": {
        "id": "t8dpPGyLJFaF"
      },
      "source": [
        "#Visualize the correlation\n",
        "plt.figure(figsize=(15,15))\n",
        "sns.heatmap(df.iloc[:,1:df.shape[1]-1].corr(), annot=True, fmt='.0%')"
      ],
      "execution_count": null,
      "outputs": []
    },
    {
      "cell_type": "markdown",
      "metadata": {
        "id": "H3S148zoHdQE"
      },
      "source": [
        "Split"
      ]
    },
    {
      "cell_type": "code",
      "metadata": {
        "id": "UN_uhAFbHc3i"
      },
      "source": [
        "X=df.drop(columns=[\"O/C oil\", 'Material_1', 'Type_1', 'Pretreatment_1', 'Particle Size, mm_1'])\n",
        "Y=df[\"O/C oil\"]"
      ],
      "execution_count": 10,
      "outputs": []
    },
    {
      "cell_type": "code",
      "metadata": {
        "id": "iwZvAzcbHrO6"
      },
      "source": [
        "#Split the training e validation 75% and 25% testing\n",
        "from sklearn.model_selection import train_test_split\n",
        "\n",
        "X_train, X_test, Y_train, Y_test = train_test_split(X, Y, test_size=0.25, random_state=0)"
      ],
      "execution_count": 11,
      "outputs": []
    },
    {
      "cell_type": "code",
      "metadata": {
        "id": "4pyMD14GH3Ic"
      },
      "source": [
        "#Split the training e validation 75% and 25% testing\n",
        "from sklearn.model_selection import train_test_split\n",
        "\n",
        "X_train, X_validation, Y_train, Y_validation = train_test_split(X_train, Y_train, test_size=0.25, random_state=0)"
      ],
      "execution_count": 12,
      "outputs": []
    },
    {
      "cell_type": "markdown",
      "metadata": {
        "id": "3q9eSnQyH9fa"
      },
      "source": [
        "Missing value"
      ]
    },
    {
      "cell_type": "code",
      "metadata": {
        "id": "UGRJEAgPH_lS"
      },
      "source": [
        "import statistics\n",
        "mediane={}\n",
        "mediane_tot={}\n",
        "\n",
        "for column in X_train.columns:\n",
        "  mediana=X_train.groupby(\"Material_1_cat\")[column].transform(\"median\")\n",
        "  X_train[column].fillna(mediana, inplace=True)\n",
        "  #mediana=statistics.median(X_train[column])\n",
        "  mediane.update({column: mediana})\n",
        "  print(str(column) + \": \" + str(statistics.median(X_train[column])))\n"
      ],
      "execution_count": null,
      "outputs": []
    },
    {
      "cell_type": "code",
      "metadata": {
        "id": "IYs1XmIZJ3aF"
      },
      "source": [
        "for column in X_train.columns[3:-1]:\n",
        "  \n",
        "  X_train[column]=X_train[column].fillna(mediane[column])\n",
        "  X_validation[column]=X_validation[column].fillna(mediane[column])\n",
        "  X_test[column]=X_test[column].fillna(mediane[column])\n",
        "\n",
        "X_train=X_train.fillna(-1)\n",
        "X_validation=X_validation.fillna(-1)\n",
        "X_test=X_test.fillna(-1)"
      ],
      "execution_count": 14,
      "outputs": []
    },
    {
      "cell_type": "code",
      "metadata": {
        "colab": {
          "base_uri": "https://localhost:8080/",
          "height": 104
        },
        "id": "kVvg6I8pLSsB",
        "outputId": "2ad1e086-2fa6-416d-a507-3d32807b6ad1"
      },
      "source": [
        "#NaN Values\n",
        "df1 = X_train[X_train.isna().any(axis=1)]\n",
        "\n",
        "df1"
      ],
      "execution_count": 15,
      "outputs": [
        {
          "output_type": "execute_result",
          "data": {
            "text/html": [
              "<div>\n",
              "<style scoped>\n",
              "    .dataframe tbody tr th:only-of-type {\n",
              "        vertical-align: middle;\n",
              "    }\n",
              "\n",
              "    .dataframe tbody tr th {\n",
              "        vertical-align: top;\n",
              "    }\n",
              "\n",
              "    .dataframe thead th {\n",
              "        text-align: right;\n",
              "    }\n",
              "</style>\n",
              "<table border=\"1\" class=\"dataframe\">\n",
              "  <thead>\n",
              "    <tr style=\"text-align: right;\">\n",
              "      <th></th>\n",
              "      <th>Moisture_1</th>\n",
              "      <th>Volatiles_1</th>\n",
              "      <th>Fixed Carbon_1</th>\n",
              "      <th>Ash_1</th>\n",
              "      <th>HHV, MJ/Kg_1</th>\n",
              "      <th>C_1</th>\n",
              "      <th>H_1</th>\n",
              "      <th>N_1</th>\n",
              "      <th>O_1</th>\n",
              "      <th>S_1</th>\n",
              "      <th>Cl_1</th>\n",
              "      <th>H/C(0)_1</th>\n",
              "      <th>O/C(0)_1</th>\n",
              "      <th>Cellulose_1</th>\n",
              "      <th>Hemicellulose_1</th>\n",
              "      <th>Lignin_1</th>\n",
              "      <th>Extractives_1</th>\n",
              "      <th>Material_1_cat</th>\n",
              "      <th>Type_1_cat</th>\n",
              "      <th>Pretreatment_1_cat</th>\n",
              "      <th>Particle Size, mm_1_cat</th>\n",
              "    </tr>\n",
              "  </thead>\n",
              "  <tbody>\n",
              "  </tbody>\n",
              "</table>\n",
              "</div>"
            ],
            "text/plain": [
              "Empty DataFrame\n",
              "Columns: [Moisture_1, Volatiles_1, Fixed Carbon_1, Ash_1, HHV, MJ/Kg_1, C_1, H_1, N_1, O_1, S_1, Cl_1, H/C(0)_1, O/C(0)_1, Cellulose_1, Hemicellulose_1, Lignin_1, Extractives_1, Material_1_cat, Type_1_cat, Pretreatment_1_cat, Particle Size, mm_1_cat]\n",
              "Index: []"
            ]
          },
          "metadata": {},
          "execution_count": 15
        }
      ]
    },
    {
      "cell_type": "markdown",
      "metadata": {
        "id": "_wYeqxSbMLWa"
      },
      "source": [
        "Normalizzazione"
      ]
    },
    {
      "cell_type": "code",
      "metadata": {
        "id": "spcJCQ9qMVxH"
      },
      "source": [
        "#Scale the data (Feature Scaling Z Score) z = (x - u) / s\n",
        "from sklearn.preprocessing import StandardScaler\n",
        "sc=StandardScaler()\n",
        "X_train = sc.fit_transform(X_train)\n",
        "X_validation=sc.transform(X_validation)\n",
        "X_test = sc.transform(X_test)"
      ],
      "execution_count": 16,
      "outputs": []
    },
    {
      "cell_type": "code",
      "metadata": {
        "id": "hwd-z5umMZ9X"
      },
      "source": [
        "X_train = np.array(X_train)\n",
        "X_validation=np.array(X_validation)\n",
        "X_test = np.array(X_test)\n",
        "\n",
        "Y_train = np.array(Y_train)\n",
        "Y_validation=np.array(Y_validation)\n",
        "Y_test = np.array(Y_test)"
      ],
      "execution_count": 17,
      "outputs": []
    },
    {
      "cell_type": "markdown",
      "metadata": {
        "id": "D1VBEk19MWNi"
      },
      "source": [
        "#Decision Tree"
      ]
    },
    {
      "cell_type": "code",
      "metadata": {
        "colab": {
          "base_uri": "https://localhost:8080/"
        },
        "id": "YXcuOywwMeSE",
        "outputId": "e7e61e5e-d8b8-408c-d531-761f79db04cb"
      },
      "source": [
        "#Decision Tree\n",
        "from sklearn.tree import DecisionTreeRegressor \n",
        "dtr_model = DecisionTreeRegressor(max_depth=8, random_state=42)\n",
        "dtr_model.fit(X_train, Y_train)"
      ],
      "execution_count": 18,
      "outputs": [
        {
          "output_type": "execute_result",
          "data": {
            "text/plain": [
              "DecisionTreeRegressor(max_depth=8, random_state=42)"
            ]
          },
          "metadata": {},
          "execution_count": 18
        }
      ]
    },
    {
      "cell_type": "markdown",
      "metadata": {
        "id": "cxMFlFz_YNJq"
      },
      "source": [
        "Validation"
      ]
    },
    {
      "cell_type": "code",
      "metadata": {
        "colab": {
          "base_uri": "https://localhost:8080/"
        },
        "id": "YH1C8VIpVHWy",
        "outputId": "5aebc282-02a4-4d46-cef9-e486dc5f58d3"
      },
      "source": [
        "# test the output by changing values, like 3750\n",
        "y_pred = dtr_model.predict(X_validation)\n",
        "  \n",
        "# print the predicted price\n",
        "print(\"Predicted O/C oil:\")\n",
        "print(y_pred) "
      ],
      "execution_count": 19,
      "outputs": [
        {
          "output_type": "stream",
          "name": "stdout",
          "text": [
            "Predicted O/C oil:\n",
            "[0.23768781 0.50155914 0.52226713 0.0741205  0.23768781 0.23768781\n",
            " 0.0741205  0.06348438 2.56113208 0.70580447 0.30738734 0.03124885\n",
            " 0.8808152  0.50465803 1.01100845 0.50797006 0.52226713 0.52226713\n",
            " 0.06348438 4.45849421 2.56113208 0.26439791 0.26439791 0.52226713\n",
            " 2.56113208 0.55653527 0.08431501 2.56113208 2.09310345 0.4\n",
            " 0.52226713 0.08431501 0.8808152 ]\n"
          ]
        }
      ]
    },
    {
      "cell_type": "code",
      "metadata": {
        "colab": {
          "base_uri": "https://localhost:8080/"
        },
        "id": "fnxP72XsVsjo",
        "outputId": "211961ce-81de-46a8-ceb0-75f344933a0e"
      },
      "source": [
        "from sklearn.metrics import mean_absolute_error\n",
        "\n",
        "y_pred = dtr_model.predict(X_validation)\n",
        "print(mean_absolute_error(Y_validation, y_pred), dtr_model.get_depth())\n",
        "#get_depth returns the depth of the tree"
      ],
      "execution_count": 20,
      "outputs": [
        {
          "output_type": "stream",
          "name": "stdout",
          "text": [
            "0.3462641755858497 8\n"
          ]
        }
      ]
    },
    {
      "cell_type": "markdown",
      "metadata": {
        "id": "eJiSm8AuYP4-"
      },
      "source": [
        "Test"
      ]
    },
    {
      "cell_type": "code",
      "metadata": {
        "colab": {
          "base_uri": "https://localhost:8080/"
        },
        "id": "yEFWPyDMYLsM",
        "outputId": "6a57ad23-3c0e-450e-c89d-ba0c19d20fde"
      },
      "source": [
        "# test the output by changing values, like 3750\n",
        "y_pred_test = dtr_model.predict(X_test)\n",
        "  \n",
        "# print the predicted price\n",
        "print(\"Predicted O/C oil:\")\n",
        "print(y_pred_test) "
      ],
      "execution_count": 21,
      "outputs": [
        {
          "output_type": "stream",
          "name": "stdout",
          "text": [
            "Predicted O/C oil:\n",
            "[0.23768781 0.08431501 0.23768781 0.23768781 0.8808152  0.1264572\n",
            " 1.01100845 0.0741205  1.01100845 0.90725806 0.22731103 0.23768781\n",
            " 0.90725806 0.7358741  0.23367784 2.09310345 0.582      1.01100845\n",
            " 0.23768781 0.61904762 0.03124885 0.0741205  0.8995687  0.8808152\n",
            " 0.03124885 0.23768781 0.22731103 0.23768781 0.23768781 0.08431501\n",
            " 0.23768781 0.50155914 0.6964548  0.61904762 0.61904762 2.56113208\n",
            " 0.23367784 0.52226713 2.09310345 1.01100845 0.7358741  0.50155914\n",
            " 0.8995687  0.23768781 0.52226713]\n"
          ]
        }
      ]
    },
    {
      "cell_type": "code",
      "metadata": {
        "colab": {
          "base_uri": "https://localhost:8080/"
        },
        "id": "KCSElzKXYR9u",
        "outputId": "e3f986b0-8dd6-40f1-9a7b-c580e0a52eec"
      },
      "source": [
        "from sklearn.metrics import mean_absolute_error\n",
        "\n",
        "y_pred_test = dtr_model.predict(X_test)\n",
        "print(mean_absolute_error(Y_test, y_pred_test), dtr_model.get_depth())\n",
        "#get_depth returns the depth of the tree"
      ],
      "execution_count": 22,
      "outputs": [
        {
          "output_type": "stream",
          "name": "stdout",
          "text": [
            "0.35942273675708736 8\n"
          ]
        }
      ]
    },
    {
      "cell_type": "code",
      "metadata": {
        "id": "mj2dcEN-Vb1O"
      },
      "source": [
        "# import export_graphviz\n",
        "from sklearn.tree import export_graphviz \n",
        "  \n",
        "# export the decision tree to a tree.dot file\n",
        "# for visualizing the plot easily anywhere\n",
        "export_graphviz(dtr_model, out_file ='tree.dot',\n",
        "               feature_names = X.columns) "
      ],
      "execution_count": 23,
      "outputs": []
    },
    {
      "cell_type": "markdown",
      "metadata": {
        "id": "8D2wzoU3ZACu"
      },
      "source": [
        "#Linear Regression"
      ]
    },
    {
      "cell_type": "code",
      "metadata": {
        "colab": {
          "base_uri": "https://localhost:8080/"
        },
        "id": "flMZQ3MVY_gP",
        "outputId": "b6e4aa06-04eb-4697-b949-a12dda44a21d"
      },
      "source": [
        "from sklearn.linear_model import LinearRegression\n",
        "regressor = LinearRegression()\n",
        "regressor.fit(X_train,Y_train)"
      ],
      "execution_count": 33,
      "outputs": [
        {
          "output_type": "execute_result",
          "data": {
            "text/plain": [
              "LinearRegression()"
            ]
          },
          "metadata": {},
          "execution_count": 33
        }
      ]
    },
    {
      "cell_type": "code",
      "metadata": {
        "colab": {
          "base_uri": "https://localhost:8080/"
        },
        "id": "CxMwuMIoZEw-",
        "outputId": "28242049-a2b4-430c-c635-e2eff566389b"
      },
      "source": [
        "# test the output by changing values, like 3750\n",
        "y_pred = regressor.predict(X_validation)\n",
        "  \n",
        "# print the predicted price\n",
        "print(\"Predicted O/C oil:\")\n",
        "print(y_pred) "
      ],
      "execution_count": 34,
      "outputs": [
        {
          "output_type": "stream",
          "name": "stdout",
          "text": [
            "Predicted O/C oil:\n",
            "[-0.9879721   0.14810208  1.26522753 -0.1846657   0.33620434 -0.01383141\n",
            "  0.11932371  0.03460501  0.64152734  0.58668797 -0.40723167 -0.06241824\n",
            " -0.2898063  -0.187258    0.94322378  0.65974454  0.59173294  1.26522753\n",
            "  0.55232415  2.90765576  1.37050291  0.61903522  0.61903522 -0.46173636\n",
            "  0.3349535  -0.44921372 -1.02323429  1.17841864  0.8458919   1.81534338\n",
            "  0.57987958  0.24537945 -0.2384602 ]\n"
          ]
        }
      ]
    },
    {
      "cell_type": "code",
      "metadata": {
        "colab": {
          "base_uri": "https://localhost:8080/"
        },
        "id": "ymMODQCjZM_l",
        "outputId": "c64da887-904d-48c6-def7-e9fffeb4b469"
      },
      "source": [
        "from sklearn.metrics import mean_absolute_error\n",
        "\n",
        "y_pred = regressor.predict(X_validation)\n",
        "print(mean_absolute_error(Y_validation, y_pred))\n"
      ],
      "execution_count": 38,
      "outputs": [
        {
          "output_type": "stream",
          "name": "stdout",
          "text": [
            "0.5859923103103971\n"
          ]
        }
      ]
    },
    {
      "cell_type": "markdown",
      "metadata": {
        "id": "9ksHfkD4dL11"
      },
      "source": [
        "#Models"
      ]
    },
    {
      "cell_type": "code",
      "metadata": {
        "id": "0p8Y-7k0dNNn"
      },
      "source": [
        "from sklearn.metrics import explained_variance_score,mean_absolute_error,r2_score\n",
        "from time import time\n",
        "\n",
        "from sklearn.linear_model import LinearRegression, Ridge,Lasso\n",
        "from sklearn.neighbors import KNeighborsRegressor\n",
        "from sklearn.ensemble import GradientBoostingRegressor\n",
        "from sklearn.ensemble import ExtraTreesRegressor, RandomForestRegressor\n",
        "from sklearn.tree import DecisionTreeRegressor"
      ],
      "execution_count": 62,
      "outputs": []
    },
    {
      "cell_type": "code",
      "metadata": {
        "id": "ZlxtqdV8dPYZ"
      },
      "source": [
        "regressors = [\n",
        "    KNeighborsRegressor(),\n",
        "    GradientBoostingRegressor(),\n",
        "    ExtraTreesRegressor(),\n",
        "    RandomForestRegressor(),\n",
        "    DecisionTreeRegressor(),\n",
        "    LinearRegression(),\n",
        "    Lasso(),\n",
        "    Ridge()\n",
        "]"
      ],
      "execution_count": 63,
      "outputs": []
    },
    {
      "cell_type": "code",
      "metadata": {
        "colab": {
          "base_uri": "https://localhost:8080/"
        },
        "id": "7hSaLHeddR_z",
        "outputId": "ef80364c-bcd7-45c2-b259-6f61c9028050"
      },
      "source": [
        "head = 10\n",
        "for model in regressors[:head]:\n",
        "    start = time()\n",
        "    model.fit(X_train, Y_train)\n",
        "    train_time = time() - start\n",
        "    start = time()\n",
        "    y_pred = model.predict(X_validation)\n",
        "    predict_time = time()-start    \n",
        "    print(model)\n",
        "    print(\"\\tTraining time: %0.3fs\" % train_time)\n",
        "    print(\"\\tPrediction time: %0.3fs\" % predict_time)\n",
        "    print(\"\\tExplained variance:\", explained_variance_score(Y_validation, y_pred))\n",
        "    print(\"\\tMean absolute error:\", mean_absolute_error(Y_validation, y_pred))\n",
        "    print(\"\\tR2 score:\", r2_score(Y_validation, y_pred))\n",
        "    print()"
      ],
      "execution_count": 64,
      "outputs": [
        {
          "output_type": "stream",
          "name": "stdout",
          "text": [
            "KNeighborsRegressor()\n",
            "\tTraining time: 0.001s\n",
            "\tPrediction time: 0.002s\n",
            "\tExplained variance: 0.2708955232546293\n",
            "\tMean absolute error: 0.41045030221740914\n",
            "\tR2 score: 0.23378461981576082\n",
            "\n",
            "GradientBoostingRegressor()\n",
            "\tTraining time: 0.065s\n",
            "\tPrediction time: 0.000s\n",
            "\tExplained variance: 0.6551421428941263\n",
            "\tMean absolute error: 0.31057790664261725\n",
            "\tR2 score: 0.6544803689992714\n",
            "\n",
            "KNeighborsRegressor()\n",
            "\tTraining time: 0.000s\n",
            "\tPrediction time: 0.004s\n",
            "\tExplained variance: 0.2708955232546293\n",
            "\tMean absolute error: 0.41045030221740914\n",
            "\tR2 score: 0.23378461981576082\n",
            "\n",
            "ExtraTreesRegressor()\n",
            "\tTraining time: 0.123s\n",
            "\tPrediction time: 0.018s\n",
            "\tExplained variance: 0.6823447381670042\n",
            "\tMean absolute error: 0.35017970871934206\n",
            "\tR2 score: 0.6689175964425162\n",
            "\n",
            "RandomForestRegressor()\n",
            "\tTraining time: 0.191s\n",
            "\tPrediction time: 0.018s\n",
            "\tExplained variance: 0.5370249217728339\n",
            "\tMean absolute error: 0.36763435140325157\n",
            "\tR2 score: 0.5369631114890683\n",
            "\n",
            "DecisionTreeRegressor()\n",
            "\tTraining time: 0.002s\n",
            "\tPrediction time: 0.000s\n",
            "\tExplained variance: 0.32546231082234456\n",
            "\tMean absolute error: 0.3980458978216543\n",
            "\tR2 score: 0.3227389783431033\n",
            "\n",
            "LinearRegression()\n",
            "\tTraining time: 0.006s\n",
            "\tPrediction time: 0.000s\n",
            "\tExplained variance: 0.2809905151206752\n",
            "\tMean absolute error: 0.5859923103103971\n",
            "\tR2 score: 0.17359564961204632\n",
            "\n",
            "Lasso()\n",
            "\tTraining time: 0.003s\n",
            "\tPrediction time: 0.000s\n",
            "\tExplained variance: 0.0\n",
            "\tMean absolute error: 0.5031554298854205\n",
            "\tR2 score: -0.03210594143110912\n",
            "\n",
            "Ridge()\n",
            "\tTraining time: 0.005s\n",
            "\tPrediction time: 0.000s\n",
            "\tExplained variance: 0.3414087392242394\n",
            "\tMean absolute error: 0.5052163989409398\n",
            "\tR2 score: 0.2875857307378711\n",
            "\n"
          ]
        }
      ]
    },
    {
      "cell_type": "code",
      "metadata": {
        "id": "Ee4cfTRUdV-t"
      },
      "source": [
        "from sklearn.model_selection import GridSearchCV"
      ],
      "execution_count": 65,
      "outputs": []
    },
    {
      "cell_type": "code",
      "metadata": {
        "id": "pJ3raWDTdXSj"
      },
      "source": [
        "parameters = { 'loss' : ['ls', 'lad', 'huber', 'quantile'],\n",
        "              'learning_rate' : (0.05,0.25,0.50,1),\n",
        "              'criterion' : ['friedman_mse', 'mse', 'mae'],\n",
        "              'max_features' : ['auto', 'sqrt', 'log2']\n",
        "             }"
      ],
      "execution_count": 66,
      "outputs": []
    },
    {
      "cell_type": "code",
      "metadata": {
        "id": "HoTt8wxlgEGS"
      },
      "source": [
        "tree_param = {'max_depth':[4,5,6,7,8,9,10,11,12,15,20,30,40,50,70,90,120,150]}"
      ],
      "execution_count": 89,
      "outputs": []
    },
    {
      "cell_type": "code",
      "metadata": {
        "id": "1GBi3B4vd-2f"
      },
      "source": [
        "df_1=pd.DataFrame(X_train)\n",
        "df_2=pd.DataFrame(X_validation)\n",
        "\n",
        "X_n=df_1.append(df_2, ignore_index=True)\n",
        "\n",
        "df_1=pd.DataFrame(Y_train)\n",
        "df_2=pd.DataFrame(Y_validation)\n",
        "\n",
        "Y_n=df_1.append(df_2, ignore_index=True)\n",
        "\n",
        "X_n=np.array(X_n)\n",
        "Y_n=np.array(Y_n)\n",
        "\n",
        "\n",
        "X_n_test=X_test\n",
        "Y_n_test=Y_test"
      ],
      "execution_count": 25,
      "outputs": []
    },
    {
      "cell_type": "code",
      "metadata": {
        "colab": {
          "base_uri": "https://localhost:8080/"
        },
        "id": "ohYquaE8dYc6",
        "outputId": "361e87b5-fd7a-4afc-c59e-e7d6f1585b0f"
      },
      "source": [
        "grid = GridSearchCV(DecisionTreeRegressor(), tree_param)\n",
        "model = grid.fit(X_n,Y_n)\n",
        "print(model.best_params_,'\\n')\n",
        "print(model.best_estimator_,'\\n')"
      ],
      "execution_count": 90,
      "outputs": [
        {
          "output_type": "stream",
          "name": "stdout",
          "text": [
            "{'max_depth': 8} \n",
            "\n",
            "DecisionTreeRegressor(max_depth=8) \n",
            "\n"
          ]
        }
      ]
    },
    {
      "cell_type": "code",
      "metadata": {
        "id": "x1Orn6WofDL0"
      },
      "source": [
        "#{'criterion': 'mae', 'learning_rate': 0.05, 'loss': 'ls', 'max_features': 'auto'} \n",
        "\n",
        "model=GradientBoostingRegressor(criterion='mae', learning_rate=0.05, loss='ls',\n",
        "                          max_features='auto') "
      ],
      "execution_count": 75,
      "outputs": []
    },
    {
      "cell_type": "code",
      "metadata": {
        "id": "VnNy8cFjfaof"
      },
      "source": [
        "model.fit(X_n, Y_n)"
      ],
      "execution_count": null,
      "outputs": []
    },
    {
      "cell_type": "code",
      "metadata": {
        "id": "b7iEN5jnfhDq"
      },
      "source": [
        "y_pred=model.predict(X_n_test)"
      ],
      "execution_count": 77,
      "outputs": []
    },
    {
      "cell_type": "code",
      "metadata": {
        "colab": {
          "base_uri": "https://localhost:8080/",
          "height": 342
        },
        "id": "1GSTEVAqfSnu",
        "outputId": "32489ca3-7622-4d8a-c2b3-dba6c291dcd6"
      },
      "source": [
        "sns.distplot(y_pred-Y_n_test)"
      ],
      "execution_count": 78,
      "outputs": [
        {
          "output_type": "stream",
          "name": "stderr",
          "text": [
            "/usr/local/lib/python3.7/dist-packages/seaborn/distributions.py:2619: FutureWarning: `distplot` is a deprecated function and will be removed in a future version. Please adapt your code to use either `displot` (a figure-level function with similar flexibility) or `histplot` (an axes-level function for histograms).\n",
            "  warnings.warn(msg, FutureWarning)\n"
          ]
        },
        {
          "output_type": "execute_result",
          "data": {
            "text/plain": [
              "<matplotlib.axes._subplots.AxesSubplot at 0x7f9bb21599d0>"
            ]
          },
          "metadata": {},
          "execution_count": 78
        },
        {
          "output_type": "display_data",
          "data": {
            "image/png": "[encoded data removed]",
            "text/plain": [
              "<Figure size 432x288 with 1 Axes>"
            ]
          },
          "metadata": {
            "needs_background": "light"
          }
        }
      ]
    },
    {
      "cell_type": "code",
      "metadata": {
        "colab": {
          "base_uri": "https://localhost:8080/"
        },
        "id": "sT2BrqwLdbau",
        "outputId": "7602fca2-21ae-44bd-cd67-c82205efe714"
      },
      "source": [
        "df_1 = pd.DataFrame(grid.cv_results_).set_index('rank_test_score').sort_index()\n",
        "df_1.shape"
      ],
      "execution_count": 79,
      "outputs": [
        {
          "output_type": "execute_result",
          "data": {
            "text/plain": [
              "(144, 16)"
            ]
          },
          "metadata": {},
          "execution_count": 79
        }
      ]
    },
    {
      "cell_type": "code",
      "metadata": {
        "colab": {
          "base_uri": "https://localhost:8080/"
        },
        "id": "0cgp0gAof1t9",
        "outputId": "69c69c3f-8345-456f-91fa-449b98f152ee"
      },
      "source": [
        "from sklearn.metrics import mean_absolute_error\n",
        "\n",
        "y_pred = model.predict(X_n_test)\n",
        "print(mean_absolute_error(Y_n_test, y_pred))"
      ],
      "execution_count": 82,
      "outputs": [
        {
          "output_type": "stream",
          "name": "stdout",
          "text": [
            "0.3655760630747781\n"
          ]
        }
      ]
    },
    {
      "cell_type": "markdown",
      "metadata": {
        "id": "5lRvmorCZlTt"
      },
      "source": [
        "#Soluzione Finale"
      ]
    },
    {
      "cell_type": "code",
      "metadata": {
        "id": "KWK8eaozZoEi"
      },
      "source": [
        "# importo il csv\n",
        "\n",
        "with open(\"/content/drive/MyDrive/Minicontest2/Test.xlsx\", 'rb') as fp:\n",
        "    df_test = pd.read_excel(fp)\n",
        "\n",
        "df_test"
      ],
      "execution_count": null,
      "outputs": []
    },
    {
      "cell_type": "code",
      "metadata": {
        "id": "_vXxQycEi5q6"
      },
      "source": [
        "df_test=df_test.drop(columns=[\"O/C oil\"], axis=1)           "
      ],
      "execution_count": 25,
      "outputs": []
    },
    {
      "cell_type": "code",
      "metadata": {
        "id": "PPBKlWGhZ3QE"
      },
      "source": [
        "df1 = df_test[df_test.isna().any(axis=1)]\n",
        "\n",
        "df1"
      ],
      "execution_count": null,
      "outputs": []
    },
    {
      "cell_type": "code",
      "metadata": {
        "colab": {
          "base_uri": "https://localhost:8080/"
        },
        "id": "ULL47tQXaJWU",
        "outputId": "636e7ae0-413b-4b8d-b2d7-76c585cfe834"
      },
      "source": [
        "categorical_cols=df_test.columns[df_test.dtypes==object].tolist()\n",
        "categorical_cols"
      ],
      "execution_count": 27,
      "outputs": [
        {
          "output_type": "execute_result",
          "data": {
            "text/plain": [
              "['Material_1', 'Type_1', 'Pretreatment_1', 'Particle Size, mm_1']"
            ]
          },
          "metadata": {},
          "execution_count": 27
        }
      ]
    },
    {
      "cell_type": "code",
      "metadata": {
        "id": "8ixg5PkZaSda"
      },
      "source": [
        "df_test[\"Material_1_cat\"]=df_test[\"Material_1\"].astype('category').cat.codes\n",
        "df_test[\"Type_1_cat\"]=df_test[\"Type_1\"].astype('category').cat.codes\n",
        "df_test[\"Pretreatment_1_cat\"]=df_test[\"Pretreatment_1\"].astype('category').cat.codes\n",
        "df_test[\"Particle Size, mm_1_cat\"]=df_test[\"Particle Size, mm_1\"].astype('category').cat.codes"
      ],
      "execution_count": 28,
      "outputs": []
    },
    {
      "cell_type": "code",
      "metadata": {
        "id": "4VYITN58ak00"
      },
      "source": [
        "df_test=df_test.drop(columns=['Material_1', 'Type_1', 'Pretreatment_1', 'Particle Size, mm_1'])"
      ],
      "execution_count": 29,
      "outputs": []
    },
    {
      "cell_type": "code",
      "metadata": {
        "id": "xPhaUmGuagtC"
      },
      "source": [
        "for column in df_test.columns[:-5]:\n",
        "  \n",
        "  df_test[column]=df_test[column].fillna(mediane[column])\n",
        "\n",
        "df_test=df_test.fillna(-1)\n"
      ],
      "execution_count": 30,
      "outputs": []
    },
    {
      "cell_type": "code",
      "metadata": {
        "id": "NfEAYOe4hnSl"
      },
      "source": [
        ""
      ],
      "execution_count": null,
      "outputs": []
    },
    {
      "cell_type": "markdown",
      "metadata": {
        "id": "cix4s76phnu4"
      },
      "source": [
        "#Decision Tree"
      ]
    },
    {
      "cell_type": "code",
      "metadata": {
        "id": "eJ-6ZwYOcq3P"
      },
      "source": [
        "#Dataset train\n",
        "X=df.drop(columns=[\"O/C oil\", 'Material_1', 'Type_1', 'Pretreatment_1', 'Particle Size, mm_1'])\n",
        "Y=df[\"O/C oil\"]"
      ],
      "execution_count": 31,
      "outputs": []
    },
    {
      "cell_type": "code",
      "metadata": {
        "id": "1_7oSdNehsH9"
      },
      "source": [
        "for column in X.columns[3:-1]:\n",
        "  \n",
        "  X[column]=X[column].fillna(mediane[column])\n",
        "\n",
        "X=X.fillna(-1)\n"
      ],
      "execution_count": 32,
      "outputs": []
    },
    {
      "cell_type": "code",
      "metadata": {
        "id": "DC19CZ-aiJ3s"
      },
      "source": [
        "#Scale the data (Feature Scaling Z Score) z = (x - u) / s\n",
        "from sklearn.preprocessing import StandardScaler\n",
        "sc=StandardScaler()\n",
        "X = sc.fit_transform(X)\n",
        "X_test = sc.transform(df_test)"
      ],
      "execution_count": 33,
      "outputs": []
    },
    {
      "cell_type": "code",
      "metadata": {
        "colab": {
          "base_uri": "https://localhost:8080/"
        },
        "id": "VVu4W7ntji98",
        "outputId": "a99f0970-ac7c-4f3b-9a1a-30fa6d8e5981"
      },
      "source": [
        "#Decision Tree\n",
        "from sklearn.tree import DecisionTreeRegressor \n",
        "dtr_model = DecisionTreeRegressor(max_depth=8, random_state=42)\n",
        "dtr_model.fit(X, Y)"
      ],
      "execution_count": 34,
      "outputs": [
        {
          "output_type": "execute_result",
          "data": {
            "text/plain": [
              "DecisionTreeRegressor(max_depth=8, random_state=42)"
            ]
          },
          "metadata": {},
          "execution_count": 34
        }
      ]
    },
    {
      "cell_type": "code",
      "metadata": {
        "colab": {
          "base_uri": "https://localhost:8080/"
        },
        "id": "O8xDQqFSjrzn",
        "outputId": "4037131f-8b55-4298-c7a5-5cf090688966"
      },
      "source": [
        "# test the output by changing values, like 3750\n",
        "y_pred = dtr_model.predict(X_test)\n",
        "  \n",
        "# print the predicted price\n",
        "print(\"Predicted O/C oil:\")\n",
        "print(y_pred) "
      ],
      "execution_count": 35,
      "outputs": [
        {
          "output_type": "stream",
          "name": "stdout",
          "text": [
            "Predicted O/C oil:\n",
            "[0.72516599 1.31644918 0.46138152 0.30721455 0.30721455 0.08388422\n",
            " 0.30521715 1.31644918 0.72516599 0.87619435 0.30721455 0.8811328\n",
            " 0.30721455 0.41343153 1.31644918 0.64851941 1.87914057 0.48761921\n",
            " 0.30721455 2.21745756 0.04772499 0.30721455 0.72516599 0.30721455\n",
            " 0.61300544 0.30721455 0.30721455 0.08388422 0.33117859 0.8811328\n",
            " 0.30721455 0.48761921 0.30721455 0.30721455 0.78059528 0.30721455\n",
            " 0.91022965 0.94505771 0.04772499 0.30721455 0.66997027 0.30721455\n",
            " 0.30721455 0.64851941 0.48761921 1.31644918 0.8811328  1.31644918\n",
            " 1.87914057 0.24139839 0.46069182 0.30721455 0.22393193 1.42204301\n",
            " 0.08388422 0.30721455 0.64851941 1.31644918 0.30721455 0.66997027\n",
            " 0.30721455 0.8926584  0.30721455 1.20179916 0.30721455 0.78059528\n",
            " 0.30721455 0.30721455 0.282882   0.30721455 0.78059528 0.64851941\n",
            " 2.21745756 0.30721455 0.8926584  0.66997027 0.8811328  2.21745756\n",
            " 0.46669502 0.30721455 0.72516599 0.64851941 0.78059528 0.46138152\n",
            " 0.30721455 0.30721455 0.06042876 0.30721455 0.76957887 0.64851941]\n"
          ]
        }
      ]
    },
    {
      "cell_type": "markdown",
      "metadata": {
        "id": "0k99N-IfcrMx"
      },
      "source": [
        "#Output file"
      ]
    },
    {
      "cell_type": "code",
      "metadata": {
        "colab": {
          "base_uri": "https://localhost:8080/"
        },
        "id": "W5-p09e9byrS",
        "outputId": "7b8ddba2-520d-4843-9491-ef715d2a6389"
      },
      "source": [
        "id_list=[]\n",
        "\n",
        "for i in range(1,91):\n",
        "  id_list.append(i)\n",
        "\n",
        "id=np.array(id_list)  #id\n",
        "\n",
        "id"
      ],
      "execution_count": 36,
      "outputs": [
        {
          "output_type": "execute_result",
          "data": {
            "text/plain": [
              "array([ 1,  2,  3,  4,  5,  6,  7,  8,  9, 10, 11, 12, 13, 14, 15, 16, 17,\n",
              "       18, 19, 20, 21, 22, 23, 24, 25, 26, 27, 28, 29, 30, 31, 32, 33, 34,\n",
              "       35, 36, 37, 38, 39, 40, 41, 42, 43, 44, 45, 46, 47, 48, 49, 50, 51,\n",
              "       52, 53, 54, 55, 56, 57, 58, 59, 60, 61, 62, 63, 64, 65, 66, 67, 68,\n",
              "       69, 70, 71, 72, 73, 74, 75, 76, 77, 78, 79, 80, 81, 82, 83, 84, 85,\n",
              "       86, 87, 88, 89, 90])"
            ]
          },
          "metadata": {},
          "execution_count": 36
        }
      ]
    },
    {
      "cell_type": "code",
      "metadata": {
        "colab": {
          "base_uri": "https://localhost:8080/",
          "height": 423
        },
        "id": "FbMANZvYcYTd",
        "outputId": "6183fd33-997b-4be0-9e34-beba625c2a76"
      },
      "source": [
        "colonna_1=pd.DataFrame(id, columns=['ID'])\n",
        "\n",
        "colonna_1"
      ],
      "execution_count": 37,
      "outputs": [
        {
          "output_type": "execute_result",
          "data": {
            "text/html": [
              "<div>\n",
              "<style scoped>\n",
              "    .dataframe tbody tr th:only-of-type {\n",
              "        vertical-align: middle;\n",
              "    }\n",
              "\n",
              "    .dataframe tbody tr th {\n",
              "        vertical-align: top;\n",
              "    }\n",
              "\n",
              "    .dataframe thead th {\n",
              "        text-align: right;\n",
              "    }\n",
              "</style>\n",
              "<table border=\"1\" class=\"dataframe\">\n",
              "  <thead>\n",
              "    <tr style=\"text-align: right;\">\n",
              "      <th></th>\n",
              "      <th>ID</th>\n",
              "    </tr>\n",
              "  </thead>\n",
              "  <tbody>\n",
              "    <tr>\n",
              "      <th>0</th>\n",
              "      <td>1</td>\n",
              "    </tr>\n",
              "    <tr>\n",
              "      <th>1</th>\n",
              "      <td>2</td>\n",
              "    </tr>\n",
              "    <tr>\n",
              "      <th>2</th>\n",
              "      <td>3</td>\n",
              "    </tr>\n",
              "    <tr>\n",
              "      <th>3</th>\n",
              "      <td>4</td>\n",
              "    </tr>\n",
              "    <tr>\n",
              "      <th>4</th>\n",
              "      <td>5</td>\n",
              "    </tr>\n",
              "    <tr>\n",
              "      <th>...</th>\n",
              "      <td>...</td>\n",
              "    </tr>\n",
              "    <tr>\n",
              "      <th>85</th>\n",
              "      <td>86</td>\n",
              "    </tr>\n",
              "    <tr>\n",
              "      <th>86</th>\n",
              "      <td>87</td>\n",
              "    </tr>\n",
              "    <tr>\n",
              "      <th>87</th>\n",
              "      <td>88</td>\n",
              "    </tr>\n",
              "    <tr>\n",
              "      <th>88</th>\n",
              "      <td>89</td>\n",
              "    </tr>\n",
              "    <tr>\n",
              "      <th>89</th>\n",
              "      <td>90</td>\n",
              "    </tr>\n",
              "  </tbody>\n",
              "</table>\n",
              "<p>90 rows × 1 columns</p>\n",
              "</div>"
            ],
            "text/plain": [
              "    ID\n",
              "0    1\n",
              "1    2\n",
              "2    3\n",
              "3    4\n",
              "4    5\n",
              "..  ..\n",
              "85  86\n",
              "86  87\n",
              "87  88\n",
              "88  89\n",
              "89  90\n",
              "\n",
              "[90 rows x 1 columns]"
            ]
          },
          "metadata": {},
          "execution_count": 37
        }
      ]
    },
    {
      "cell_type": "code",
      "metadata": {
        "colab": {
          "base_uri": "https://localhost:8080/",
          "height": 423
        },
        "id": "19V-StmwcfWy",
        "outputId": "80984a59-b5e9-4cd5-fcc9-0fbd573b31ca"
      },
      "source": [
        "colonna_2=pd.DataFrame(y_pred, columns=[\"O/C oil\"])\n",
        "\n",
        "colonna_2\n"
      ],
      "execution_count": 38,
      "outputs": [
        {
          "output_type": "execute_result",
          "data": {
            "text/html": [
              "<div>\n",
              "<style scoped>\n",
              "    .dataframe tbody tr th:only-of-type {\n",
              "        vertical-align: middle;\n",
              "    }\n",
              "\n",
              "    .dataframe tbody tr th {\n",
              "        vertical-align: top;\n",
              "    }\n",
              "\n",
              "    .dataframe thead th {\n",
              "        text-align: right;\n",
              "    }\n",
              "</style>\n",
              "<table border=\"1\" class=\"dataframe\">\n",
              "  <thead>\n",
              "    <tr style=\"text-align: right;\">\n",
              "      <th></th>\n",
              "      <th>O/C oil</th>\n",
              "    </tr>\n",
              "  </thead>\n",
              "  <tbody>\n",
              "    <tr>\n",
              "      <th>0</th>\n",
              "      <td>0.725166</td>\n",
              "    </tr>\n",
              "    <tr>\n",
              "      <th>1</th>\n",
              "      <td>1.316449</td>\n",
              "    </tr>\n",
              "    <tr>\n",
              "      <th>2</th>\n",
              "      <td>0.461382</td>\n",
              "    </tr>\n",
              "    <tr>\n",
              "      <th>3</th>\n",
              "      <td>0.307215</td>\n",
              "    </tr>\n",
              "    <tr>\n",
              "      <th>4</th>\n",
              "      <td>0.307215</td>\n",
              "    </tr>\n",
              "    <tr>\n",
              "      <th>...</th>\n",
              "      <td>...</td>\n",
              "    </tr>\n",
              "    <tr>\n",
              "      <th>85</th>\n",
              "      <td>0.307215</td>\n",
              "    </tr>\n",
              "    <tr>\n",
              "      <th>86</th>\n",
              "      <td>0.060429</td>\n",
              "    </tr>\n",
              "    <tr>\n",
              "      <th>87</th>\n",
              "      <td>0.307215</td>\n",
              "    </tr>\n",
              "    <tr>\n",
              "      <th>88</th>\n",
              "      <td>0.769579</td>\n",
              "    </tr>\n",
              "    <tr>\n",
              "      <th>89</th>\n",
              "      <td>0.648519</td>\n",
              "    </tr>\n",
              "  </tbody>\n",
              "</table>\n",
              "<p>90 rows × 1 columns</p>\n",
              "</div>"
            ],
            "text/plain": [
              "     O/C oil\n",
              "0   0.725166\n",
              "1   1.316449\n",
              "2   0.461382\n",
              "3   0.307215\n",
              "4   0.307215\n",
              "..       ...\n",
              "85  0.307215\n",
              "86  0.060429\n",
              "87  0.307215\n",
              "88  0.769579\n",
              "89  0.648519\n",
              "\n",
              "[90 rows x 1 columns]"
            ]
          },
          "metadata": {},
          "execution_count": 38
        }
      ]
    },
    {
      "cell_type": "code",
      "metadata": {
        "id": "UYYc8hLhj0eV"
      },
      "source": [
        "# concatenating along columns\n",
        "horizontal_concat = pd.concat([colonna_1, colonna_2], axis=1)"
      ],
      "execution_count": 39,
      "outputs": []
    },
    {
      "cell_type": "code",
      "metadata": {
        "colab": {
          "base_uri": "https://localhost:8080/",
          "height": 423
        },
        "id": "Uf7U45u_j2U1",
        "outputId": "d8c9ead6-f477-4f07-a348-8df3d099f634"
      },
      "source": [
        "horizontal_concat"
      ],
      "execution_count": 40,
      "outputs": [
        {
          "output_type": "execute_result",
          "data": {
            "text/html": [
              "<div>\n",
              "<style scoped>\n",
              "    .dataframe tbody tr th:only-of-type {\n",
              "        vertical-align: middle;\n",
              "    }\n",
              "\n",
              "    .dataframe tbody tr th {\n",
              "        vertical-align: top;\n",
              "    }\n",
              "\n",
              "    .dataframe thead th {\n",
              "        text-align: right;\n",
              "    }\n",
              "</style>\n",
              "<table border=\"1\" class=\"dataframe\">\n",
              "  <thead>\n",
              "    <tr style=\"text-align: right;\">\n",
              "      <th></th>\n",
              "      <th>ID</th>\n",
              "      <th>O/C oil</th>\n",
              "    </tr>\n",
              "  </thead>\n",
              "  <tbody>\n",
              "    <tr>\n",
              "      <th>0</th>\n",
              "      <td>1</td>\n",
              "      <td>0.725166</td>\n",
              "    </tr>\n",
              "    <tr>\n",
              "      <th>1</th>\n",
              "      <td>2</td>\n",
              "      <td>1.316449</td>\n",
              "    </tr>\n",
              "    <tr>\n",
              "      <th>2</th>\n",
              "      <td>3</td>\n",
              "      <td>0.461382</td>\n",
              "    </tr>\n",
              "    <tr>\n",
              "      <th>3</th>\n",
              "      <td>4</td>\n",
              "      <td>0.307215</td>\n",
              "    </tr>\n",
              "    <tr>\n",
              "      <th>4</th>\n",
              "      <td>5</td>\n",
              "      <td>0.307215</td>\n",
              "    </tr>\n",
              "    <tr>\n",
              "      <th>...</th>\n",
              "      <td>...</td>\n",
              "      <td>...</td>\n",
              "    </tr>\n",
              "    <tr>\n",
              "      <th>85</th>\n",
              "      <td>86</td>\n",
              "      <td>0.307215</td>\n",
              "    </tr>\n",
              "    <tr>\n",
              "      <th>86</th>\n",
              "      <td>87</td>\n",
              "      <td>0.060429</td>\n",
              "    </tr>\n",
              "    <tr>\n",
              "      <th>87</th>\n",
              "      <td>88</td>\n",
              "      <td>0.307215</td>\n",
              "    </tr>\n",
              "    <tr>\n",
              "      <th>88</th>\n",
              "      <td>89</td>\n",
              "      <td>0.769579</td>\n",
              "    </tr>\n",
              "    <tr>\n",
              "      <th>89</th>\n",
              "      <td>90</td>\n",
              "      <td>0.648519</td>\n",
              "    </tr>\n",
              "  </tbody>\n",
              "</table>\n",
              "<p>90 rows × 2 columns</p>\n",
              "</div>"
            ],
            "text/plain": [
              "    ID   O/C oil\n",
              "0    1  0.725166\n",
              "1    2  1.316449\n",
              "2    3  0.461382\n",
              "3    4  0.307215\n",
              "4    5  0.307215\n",
              "..  ..       ...\n",
              "85  86  0.307215\n",
              "86  87  0.060429\n",
              "87  88  0.307215\n",
              "88  89  0.769579\n",
              "89  90  0.648519\n",
              "\n",
              "[90 rows x 2 columns]"
            ]
          },
          "metadata": {},
          "execution_count": 40
        }
      ]
    },
    {
      "cell_type": "code",
      "metadata": {
        "id": "bLh4jjQrj4ha"
      },
      "source": [
        "horizontal_concat.to_csv('Risultato_DT_8.csv', index = False)"
      ],
      "execution_count": 41,
      "outputs": []
    }
  ]
}