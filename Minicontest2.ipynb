{
  "nbformat": 4,
  "nbformat_minor": 0,
  "metadata": {
    "colab": {
      "name": "Minicontest2.ipynb",
      "provenance": [],
      "collapsed_sections": [
        "8D2wzoU3ZACu"
      ],
      "authorship_tag": "ABX9TyPocsingy3SKpy0ZKHwdJS2",
      "include_colab_link": true
    },
    "kernelspec": {
      "name": "python3",
      "display_name": "Python 3"
    },
    "language_info": {
      "name": "python"
    }
  },
  "cells": [
    {
      "cell_type": "markdown",
      "metadata": {
        "id": "view-in-github",
        "colab_type": "text"
      },
      "source": [
        "<a href=\"https://colab.research.google.com/github/annalamboglia/Minicontest/blob/main/Minicontest2.ipynb\" target=\"_parent\"><img src=\"https://colab.research.google.com/assets/colab-badge.svg\" alt=\"Open In Colab\"/></a>"
      ]
    },
    {
      "cell_type": "code",
      "metadata": {
        "id": "GGqvGCN5x_CE"
      },
      "source": [
        "#importing libraries\n",
        "import numpy as np\n",
        "import pandas as pd\n",
        "import matplotlib.pyplot as plt\n",
        "import seaborn as sns; sns.set()"
      ],
      "execution_count": 1,
      "outputs": []
    },
    {
      "cell_type": "code",
      "metadata": {
        "colab": {
          "base_uri": "https://localhost:8080/"
        },
        "id": "TKs9qbAJyCy8",
        "outputId": "5585c1e3-e4d2-41f4-def2-8853e73f3074"
      },
      "source": [
        "#Collegamento al Drive\n",
        "from google.colab import drive\n",
        "drive.mount('/content/drive')"
      ],
      "execution_count": 2,
      "outputs": [
        {
          "output_type": "stream",
          "name": "stdout",
          "text": [
            "Drive already mounted at /content/drive; to attempt to forcibly remount, call drive.mount(\"/content/drive\", force_remount=True).\n"
          ]
        }
      ]
    },
    {
      "cell_type": "code",
      "metadata": {
        "id": "2VT3L2XGyDlE",
        "colab": {
          "base_uri": "https://localhost:8080/",
          "height": 652
        },
        "outputId": "812b348d-8645-4e3d-e25d-b044d01c817a"
      },
      "source": [
        "# importo il csv\n",
        "\n",
        "with open(\"/content/drive/MyDrive/Minicontest2/Training.xlsx\", 'rb') as fp:\n",
        "    df = pd.read_excel(fp)\n",
        "\n",
        "df"
      ],
      "execution_count": 3,
      "outputs": [
        {
          "output_type": "execute_result",
          "data": {
            "text/html": [
              "<div>\n",
              "<style scoped>\n",
              "    .dataframe tbody tr th:only-of-type {\n",
              "        vertical-align: middle;\n",
              "    }\n",
              "\n",
              "    .dataframe tbody tr th {\n",
              "        vertical-align: top;\n",
              "    }\n",
              "\n",
              "    .dataframe thead th {\n",
              "        text-align: right;\n",
              "    }\n",
              "</style>\n",
              "<table border=\"1\" class=\"dataframe\">\n",
              "  <thead>\n",
              "    <tr style=\"text-align: right;\">\n",
              "      <th></th>\n",
              "      <th>Material_1</th>\n",
              "      <th>Type_1</th>\n",
              "      <th>Pretreatment_1</th>\n",
              "      <th>Moisture_1</th>\n",
              "      <th>Volatiles_1</th>\n",
              "      <th>Fixed Carbon_1</th>\n",
              "      <th>Ash_1</th>\n",
              "      <th>HHV, MJ/Kg_1</th>\n",
              "      <th>C_1</th>\n",
              "      <th>H_1</th>\n",
              "      <th>N_1</th>\n",
              "      <th>O_1</th>\n",
              "      <th>S_1</th>\n",
              "      <th>Cl_1</th>\n",
              "      <th>H/C(0)_1</th>\n",
              "      <th>O/C(0)_1</th>\n",
              "      <th>Cellulose_1</th>\n",
              "      <th>Hemicellulose_1</th>\n",
              "      <th>Lignin_1</th>\n",
              "      <th>Extractives_1</th>\n",
              "      <th>Particle Size, mm_1</th>\n",
              "      <th>O/C oil</th>\n",
              "    </tr>\n",
              "  </thead>\n",
              "  <tbody>\n",
              "    <tr>\n",
              "      <th>0</th>\n",
              "      <td>japonica alga</td>\n",
              "      <td>algae</td>\n",
              "      <td>acid_washed</td>\n",
              "      <td>5.03</td>\n",
              "      <td>NaN</td>\n",
              "      <td>NaN</td>\n",
              "      <td>7.32</td>\n",
              "      <td>14.27</td>\n",
              "      <td>43.76</td>\n",
              "      <td>6.00</td>\n",
              "      <td>2.76</td>\n",
              "      <td>55.38</td>\n",
              "      <td>NaN</td>\n",
              "      <td>NaN</td>\n",
              "      <td>0.137112</td>\n",
              "      <td>1.265539</td>\n",
              "      <td>NaN</td>\n",
              "      <td>NaN</td>\n",
              "      <td>NaN</td>\n",
              "      <td>NaN</td>\n",
              "      <td>NaN</td>\n",
              "      <td>0.469887</td>\n",
              "    </tr>\n",
              "    <tr>\n",
              "      <th>1</th>\n",
              "      <td>bamboo</td>\n",
              "      <td>agricultural_waste</td>\n",
              "      <td>none</td>\n",
              "      <td>7.30</td>\n",
              "      <td>90.90</td>\n",
              "      <td>0.10</td>\n",
              "      <td>1.70</td>\n",
              "      <td>17.70</td>\n",
              "      <td>46.90</td>\n",
              "      <td>5.85</td>\n",
              "      <td>0.21</td>\n",
              "      <td>47.02</td>\n",
              "      <td>0.02</td>\n",
              "      <td>NaN</td>\n",
              "      <td>0.124733</td>\n",
              "      <td>1.002559</td>\n",
              "      <td>41.0</td>\n",
              "      <td>26.5</td>\n",
              "      <td>25.3</td>\n",
              "      <td>NaN</td>\n",
              "      <td>0.6</td>\n",
              "      <td>2.561132</td>\n",
              "    </tr>\n",
              "    <tr>\n",
              "      <th>2</th>\n",
              "      <td>japonica alga</td>\n",
              "      <td>algae</td>\n",
              "      <td>none</td>\n",
              "      <td>6.90</td>\n",
              "      <td>NaN</td>\n",
              "      <td>NaN</td>\n",
              "      <td>20.21</td>\n",
              "      <td>16.96</td>\n",
              "      <td>41.22</td>\n",
              "      <td>7.73</td>\n",
              "      <td>1.17</td>\n",
              "      <td>49.88</td>\n",
              "      <td>NaN</td>\n",
              "      <td>NaN</td>\n",
              "      <td>0.187530</td>\n",
              "      <td>1.210092</td>\n",
              "      <td>NaN</td>\n",
              "      <td>NaN</td>\n",
              "      <td>NaN</td>\n",
              "      <td>NaN</td>\n",
              "      <td>NaN</td>\n",
              "      <td>0.393652</td>\n",
              "    </tr>\n",
              "    <tr>\n",
              "      <th>3</th>\n",
              "      <td>beech wood</td>\n",
              "      <td>hardwood</td>\n",
              "      <td>none</td>\n",
              "      <td>8.00</td>\n",
              "      <td>NaN</td>\n",
              "      <td>NaN</td>\n",
              "      <td>0.54</td>\n",
              "      <td>NaN</td>\n",
              "      <td>48.44</td>\n",
              "      <td>5.83</td>\n",
              "      <td>NaN</td>\n",
              "      <td>45.73</td>\n",
              "      <td>NaN</td>\n",
              "      <td>NaN</td>\n",
              "      <td>0.120355</td>\n",
              "      <td>0.944055</td>\n",
              "      <td>NaN</td>\n",
              "      <td>NaN</td>\n",
              "      <td>NaN</td>\n",
              "      <td>NaN</td>\n",
              "      <td>NaN</td>\n",
              "      <td>0.236315</td>\n",
              "    </tr>\n",
              "    <tr>\n",
              "      <th>4</th>\n",
              "      <td>rice straw</td>\n",
              "      <td>agricultural_waste</td>\n",
              "      <td>none</td>\n",
              "      <td>10.80</td>\n",
              "      <td>66.89</td>\n",
              "      <td>14.57</td>\n",
              "      <td>7.56</td>\n",
              "      <td>NaN</td>\n",
              "      <td>39.98</td>\n",
              "      <td>2.45</td>\n",
              "      <td>4.43</td>\n",
              "      <td>52.61</td>\n",
              "      <td>0.53</td>\n",
              "      <td>NaN</td>\n",
              "      <td>0.061281</td>\n",
              "      <td>1.315908</td>\n",
              "      <td>NaN</td>\n",
              "      <td>NaN</td>\n",
              "      <td>NaN</td>\n",
              "      <td>NaN</td>\n",
              "      <td>0.6 mm &lt;particle diameter &lt; 1.18 mm</td>\n",
              "      <td>1.952824</td>\n",
              "    </tr>\n",
              "    <tr>\n",
              "      <th>...</th>\n",
              "      <td>...</td>\n",
              "      <td>...</td>\n",
              "      <td>...</td>\n",
              "      <td>...</td>\n",
              "      <td>...</td>\n",
              "      <td>...</td>\n",
              "      <td>...</td>\n",
              "      <td>...</td>\n",
              "      <td>...</td>\n",
              "      <td>...</td>\n",
              "      <td>...</td>\n",
              "      <td>...</td>\n",
              "      <td>...</td>\n",
              "      <td>...</td>\n",
              "      <td>...</td>\n",
              "      <td>...</td>\n",
              "      <td>...</td>\n",
              "      <td>...</td>\n",
              "      <td>...</td>\n",
              "      <td>...</td>\n",
              "      <td>...</td>\n",
              "      <td>...</td>\n",
              "    </tr>\n",
              "    <tr>\n",
              "      <th>172</th>\n",
              "      <td>rice straw</td>\n",
              "      <td>agricultural_waste</td>\n",
              "      <td>none</td>\n",
              "      <td>6.48</td>\n",
              "      <td>82.30</td>\n",
              "      <td>1.50</td>\n",
              "      <td>8.90</td>\n",
              "      <td>16.00</td>\n",
              "      <td>43.25</td>\n",
              "      <td>5.62</td>\n",
              "      <td>2.11</td>\n",
              "      <td>48.80</td>\n",
              "      <td>0.22</td>\n",
              "      <td>NaN</td>\n",
              "      <td>0.129942</td>\n",
              "      <td>1.128324</td>\n",
              "      <td>37.8</td>\n",
              "      <td>25.3</td>\n",
              "      <td>23.3</td>\n",
              "      <td>NaN</td>\n",
              "      <td>NaN</td>\n",
              "      <td>0.307387</td>\n",
              "    </tr>\n",
              "    <tr>\n",
              "      <th>173</th>\n",
              "      <td>sugarcane bagasse</td>\n",
              "      <td>agricultural_waste</td>\n",
              "      <td>none</td>\n",
              "      <td>16.07</td>\n",
              "      <td>79.59</td>\n",
              "      <td>NaN</td>\n",
              "      <td>4.34</td>\n",
              "      <td>18.61</td>\n",
              "      <td>58.14</td>\n",
              "      <td>6.05</td>\n",
              "      <td>0.69</td>\n",
              "      <td>34.57</td>\n",
              "      <td>0.19</td>\n",
              "      <td>0.36</td>\n",
              "      <td>0.104059</td>\n",
              "      <td>0.594599</td>\n",
              "      <td>NaN</td>\n",
              "      <td>NaN</td>\n",
              "      <td>NaN</td>\n",
              "      <td>NaN</td>\n",
              "      <td>NaN</td>\n",
              "      <td>0.494919</td>\n",
              "    </tr>\n",
              "    <tr>\n",
              "      <th>174</th>\n",
              "      <td>switch grass</td>\n",
              "      <td>grass</td>\n",
              "      <td>none</td>\n",
              "      <td>7.82</td>\n",
              "      <td>72.04</td>\n",
              "      <td>15.46</td>\n",
              "      <td>4.68</td>\n",
              "      <td>NaN</td>\n",
              "      <td>47.50</td>\n",
              "      <td>5.57</td>\n",
              "      <td>0.65</td>\n",
              "      <td>45.28</td>\n",
              "      <td>NaN</td>\n",
              "      <td>NaN</td>\n",
              "      <td>0.117263</td>\n",
              "      <td>0.953263</td>\n",
              "      <td>NaN</td>\n",
              "      <td>NaN</td>\n",
              "      <td>NaN</td>\n",
              "      <td>NaN</td>\n",
              "      <td>NaN</td>\n",
              "      <td>0.018292</td>\n",
              "    </tr>\n",
              "    <tr>\n",
              "      <th>175</th>\n",
              "      <td>white ash</td>\n",
              "      <td>forest residue</td>\n",
              "      <td>none</td>\n",
              "      <td>10.54</td>\n",
              "      <td>75.83</td>\n",
              "      <td>13.22</td>\n",
              "      <td>0.41</td>\n",
              "      <td>NaN</td>\n",
              "      <td>47.45</td>\n",
              "      <td>6.53</td>\n",
              "      <td>0.43</td>\n",
              "      <td>45.59</td>\n",
              "      <td>NaN</td>\n",
              "      <td>NaN</td>\n",
              "      <td>0.137619</td>\n",
              "      <td>0.960801</td>\n",
              "      <td>NaN</td>\n",
              "      <td>NaN</td>\n",
              "      <td>NaN</td>\n",
              "      <td>NaN</td>\n",
              "      <td>NaN</td>\n",
              "      <td>0.015102</td>\n",
              "    </tr>\n",
              "    <tr>\n",
              "      <th>176</th>\n",
              "      <td>pine wood</td>\n",
              "      <td>softwood</td>\n",
              "      <td>step-wise pyrolysis (torrefaction)</td>\n",
              "      <td>8.00</td>\n",
              "      <td>NaN</td>\n",
              "      <td>NaN</td>\n",
              "      <td>NaN</td>\n",
              "      <td>NaN</td>\n",
              "      <td>46.58</td>\n",
              "      <td>6.34</td>\n",
              "      <td>0.04</td>\n",
              "      <td>46.98</td>\n",
              "      <td>0.06</td>\n",
              "      <td>NaN</td>\n",
              "      <td>0.136110</td>\n",
              "      <td>1.008587</td>\n",
              "      <td>35.0</td>\n",
              "      <td>29.0</td>\n",
              "      <td>28.0</td>\n",
              "      <td>NaN</td>\n",
              "      <td>0</td>\n",
              "      <td>0.083324</td>\n",
              "    </tr>\n",
              "  </tbody>\n",
              "</table>\n",
              "<p>177 rows × 22 columns</p>\n",
              "</div>"
            ],
            "text/plain": [
              "            Material_1  ...   O/C oil\n",
              "0        japonica alga  ...  0.469887\n",
              "1               bamboo  ...  2.561132\n",
              "2        japonica alga  ...  0.393652\n",
              "3           beech wood  ...  0.236315\n",
              "4           rice straw  ...  1.952824\n",
              "..                 ...  ...       ...\n",
              "172         rice straw  ...  0.307387\n",
              "173  sugarcane bagasse  ...  0.494919\n",
              "174       switch grass  ...  0.018292\n",
              "175          white ash  ...  0.015102\n",
              "176          pine wood  ...  0.083324\n",
              "\n",
              "[177 rows x 22 columns]"
            ]
          },
          "metadata": {},
          "execution_count": 3
        }
      ]
    },
    {
      "cell_type": "code",
      "metadata": {
        "id": "JEIBi9Z2FhiM",
        "colab": {
          "base_uri": "https://localhost:8080/"
        },
        "outputId": "79b34faa-5a39-4849-fb0b-5c60d43a4e09"
      },
      "source": [
        "#Look at the data types whitch columns need to be encoded\n",
        "df.dtypes"
      ],
      "execution_count": 4,
      "outputs": [
        {
          "output_type": "execute_result",
          "data": {
            "text/plain": [
              "Material_1              object\n",
              "Type_1                  object\n",
              "Pretreatment_1          object\n",
              "Moisture_1             float64\n",
              "Volatiles_1            float64\n",
              "Fixed Carbon_1         float64\n",
              "Ash_1                  float64\n",
              "HHV, MJ/Kg_1           float64\n",
              "C_1                    float64\n",
              "H_1                    float64\n",
              "N_1                    float64\n",
              "O_1                    float64\n",
              "S_1                    float64\n",
              "Cl_1                   float64\n",
              "H/C(0)_1               float64\n",
              "O/C(0)_1               float64\n",
              "Cellulose_1            float64\n",
              "Hemicellulose_1        float64\n",
              "Lignin_1               float64\n",
              "Extractives_1          float64\n",
              "Particle Size, mm_1     object\n",
              "O/C oil                float64\n",
              "dtype: object"
            ]
          },
          "metadata": {},
          "execution_count": 4
        }
      ]
    },
    {
      "cell_type": "code",
      "metadata": {
        "id": "hT8bzYjnFlLh",
        "colab": {
          "base_uri": "https://localhost:8080/",
          "height": 652
        },
        "outputId": "274a871c-0b6e-4153-d99e-53d2bb211884"
      },
      "source": [
        "#NaN Values\n",
        "df1 = df[df.isna().any(axis=1)]\n",
        "\n",
        "df1"
      ],
      "execution_count": 5,
      "outputs": [
        {
          "output_type": "execute_result",
          "data": {
            "text/html": [
              "<div>\n",
              "<style scoped>\n",
              "    .dataframe tbody tr th:only-of-type {\n",
              "        vertical-align: middle;\n",
              "    }\n",
              "\n",
              "    .dataframe tbody tr th {\n",
              "        vertical-align: top;\n",
              "    }\n",
              "\n",
              "    .dataframe thead th {\n",
              "        text-align: right;\n",
              "    }\n",
              "</style>\n",
              "<table border=\"1\" class=\"dataframe\">\n",
              "  <thead>\n",
              "    <tr style=\"text-align: right;\">\n",
              "      <th></th>\n",
              "      <th>Material_1</th>\n",
              "      <th>Type_1</th>\n",
              "      <th>Pretreatment_1</th>\n",
              "      <th>Moisture_1</th>\n",
              "      <th>Volatiles_1</th>\n",
              "      <th>Fixed Carbon_1</th>\n",
              "      <th>Ash_1</th>\n",
              "      <th>HHV, MJ/Kg_1</th>\n",
              "      <th>C_1</th>\n",
              "      <th>H_1</th>\n",
              "      <th>N_1</th>\n",
              "      <th>O_1</th>\n",
              "      <th>S_1</th>\n",
              "      <th>Cl_1</th>\n",
              "      <th>H/C(0)_1</th>\n",
              "      <th>O/C(0)_1</th>\n",
              "      <th>Cellulose_1</th>\n",
              "      <th>Hemicellulose_1</th>\n",
              "      <th>Lignin_1</th>\n",
              "      <th>Extractives_1</th>\n",
              "      <th>Particle Size, mm_1</th>\n",
              "      <th>O/C oil</th>\n",
              "    </tr>\n",
              "  </thead>\n",
              "  <tbody>\n",
              "    <tr>\n",
              "      <th>0</th>\n",
              "      <td>japonica alga</td>\n",
              "      <td>algae</td>\n",
              "      <td>acid_washed</td>\n",
              "      <td>5.03</td>\n",
              "      <td>NaN</td>\n",
              "      <td>NaN</td>\n",
              "      <td>7.32</td>\n",
              "      <td>14.27</td>\n",
              "      <td>43.76</td>\n",
              "      <td>6.00</td>\n",
              "      <td>2.76</td>\n",
              "      <td>55.38</td>\n",
              "      <td>NaN</td>\n",
              "      <td>NaN</td>\n",
              "      <td>0.137112</td>\n",
              "      <td>1.265539</td>\n",
              "      <td>NaN</td>\n",
              "      <td>NaN</td>\n",
              "      <td>NaN</td>\n",
              "      <td>NaN</td>\n",
              "      <td>NaN</td>\n",
              "      <td>0.469887</td>\n",
              "    </tr>\n",
              "    <tr>\n",
              "      <th>1</th>\n",
              "      <td>bamboo</td>\n",
              "      <td>agricultural_waste</td>\n",
              "      <td>none</td>\n",
              "      <td>7.30</td>\n",
              "      <td>90.90</td>\n",
              "      <td>0.10</td>\n",
              "      <td>1.70</td>\n",
              "      <td>17.70</td>\n",
              "      <td>46.90</td>\n",
              "      <td>5.85</td>\n",
              "      <td>0.21</td>\n",
              "      <td>47.02</td>\n",
              "      <td>0.02</td>\n",
              "      <td>NaN</td>\n",
              "      <td>0.124733</td>\n",
              "      <td>1.002559</td>\n",
              "      <td>41.0</td>\n",
              "      <td>26.5</td>\n",
              "      <td>25.3</td>\n",
              "      <td>NaN</td>\n",
              "      <td>0.6</td>\n",
              "      <td>2.561132</td>\n",
              "    </tr>\n",
              "    <tr>\n",
              "      <th>2</th>\n",
              "      <td>japonica alga</td>\n",
              "      <td>algae</td>\n",
              "      <td>none</td>\n",
              "      <td>6.90</td>\n",
              "      <td>NaN</td>\n",
              "      <td>NaN</td>\n",
              "      <td>20.21</td>\n",
              "      <td>16.96</td>\n",
              "      <td>41.22</td>\n",
              "      <td>7.73</td>\n",
              "      <td>1.17</td>\n",
              "      <td>49.88</td>\n",
              "      <td>NaN</td>\n",
              "      <td>NaN</td>\n",
              "      <td>0.187530</td>\n",
              "      <td>1.210092</td>\n",
              "      <td>NaN</td>\n",
              "      <td>NaN</td>\n",
              "      <td>NaN</td>\n",
              "      <td>NaN</td>\n",
              "      <td>NaN</td>\n",
              "      <td>0.393652</td>\n",
              "    </tr>\n",
              "    <tr>\n",
              "      <th>3</th>\n",
              "      <td>beech wood</td>\n",
              "      <td>hardwood</td>\n",
              "      <td>none</td>\n",
              "      <td>8.00</td>\n",
              "      <td>NaN</td>\n",
              "      <td>NaN</td>\n",
              "      <td>0.54</td>\n",
              "      <td>NaN</td>\n",
              "      <td>48.44</td>\n",
              "      <td>5.83</td>\n",
              "      <td>NaN</td>\n",
              "      <td>45.73</td>\n",
              "      <td>NaN</td>\n",
              "      <td>NaN</td>\n",
              "      <td>0.120355</td>\n",
              "      <td>0.944055</td>\n",
              "      <td>NaN</td>\n",
              "      <td>NaN</td>\n",
              "      <td>NaN</td>\n",
              "      <td>NaN</td>\n",
              "      <td>NaN</td>\n",
              "      <td>0.236315</td>\n",
              "    </tr>\n",
              "    <tr>\n",
              "      <th>4</th>\n",
              "      <td>rice straw</td>\n",
              "      <td>agricultural_waste</td>\n",
              "      <td>none</td>\n",
              "      <td>10.80</td>\n",
              "      <td>66.89</td>\n",
              "      <td>14.57</td>\n",
              "      <td>7.56</td>\n",
              "      <td>NaN</td>\n",
              "      <td>39.98</td>\n",
              "      <td>2.45</td>\n",
              "      <td>4.43</td>\n",
              "      <td>52.61</td>\n",
              "      <td>0.53</td>\n",
              "      <td>NaN</td>\n",
              "      <td>0.061281</td>\n",
              "      <td>1.315908</td>\n",
              "      <td>NaN</td>\n",
              "      <td>NaN</td>\n",
              "      <td>NaN</td>\n",
              "      <td>NaN</td>\n",
              "      <td>0.6 mm &lt;particle diameter &lt; 1.18 mm</td>\n",
              "      <td>1.952824</td>\n",
              "    </tr>\n",
              "    <tr>\n",
              "      <th>...</th>\n",
              "      <td>...</td>\n",
              "      <td>...</td>\n",
              "      <td>...</td>\n",
              "      <td>...</td>\n",
              "      <td>...</td>\n",
              "      <td>...</td>\n",
              "      <td>...</td>\n",
              "      <td>...</td>\n",
              "      <td>...</td>\n",
              "      <td>...</td>\n",
              "      <td>...</td>\n",
              "      <td>...</td>\n",
              "      <td>...</td>\n",
              "      <td>...</td>\n",
              "      <td>...</td>\n",
              "      <td>...</td>\n",
              "      <td>...</td>\n",
              "      <td>...</td>\n",
              "      <td>...</td>\n",
              "      <td>...</td>\n",
              "      <td>...</td>\n",
              "      <td>...</td>\n",
              "    </tr>\n",
              "    <tr>\n",
              "      <th>172</th>\n",
              "      <td>rice straw</td>\n",
              "      <td>agricultural_waste</td>\n",
              "      <td>none</td>\n",
              "      <td>6.48</td>\n",
              "      <td>82.30</td>\n",
              "      <td>1.50</td>\n",
              "      <td>8.90</td>\n",
              "      <td>16.00</td>\n",
              "      <td>43.25</td>\n",
              "      <td>5.62</td>\n",
              "      <td>2.11</td>\n",
              "      <td>48.80</td>\n",
              "      <td>0.22</td>\n",
              "      <td>NaN</td>\n",
              "      <td>0.129942</td>\n",
              "      <td>1.128324</td>\n",
              "      <td>37.8</td>\n",
              "      <td>25.3</td>\n",
              "      <td>23.3</td>\n",
              "      <td>NaN</td>\n",
              "      <td>NaN</td>\n",
              "      <td>0.307387</td>\n",
              "    </tr>\n",
              "    <tr>\n",
              "      <th>173</th>\n",
              "      <td>sugarcane bagasse</td>\n",
              "      <td>agricultural_waste</td>\n",
              "      <td>none</td>\n",
              "      <td>16.07</td>\n",
              "      <td>79.59</td>\n",
              "      <td>NaN</td>\n",
              "      <td>4.34</td>\n",
              "      <td>18.61</td>\n",
              "      <td>58.14</td>\n",
              "      <td>6.05</td>\n",
              "      <td>0.69</td>\n",
              "      <td>34.57</td>\n",
              "      <td>0.19</td>\n",
              "      <td>0.36</td>\n",
              "      <td>0.104059</td>\n",
              "      <td>0.594599</td>\n",
              "      <td>NaN</td>\n",
              "      <td>NaN</td>\n",
              "      <td>NaN</td>\n",
              "      <td>NaN</td>\n",
              "      <td>NaN</td>\n",
              "      <td>0.494919</td>\n",
              "    </tr>\n",
              "    <tr>\n",
              "      <th>174</th>\n",
              "      <td>switch grass</td>\n",
              "      <td>grass</td>\n",
              "      <td>none</td>\n",
              "      <td>7.82</td>\n",
              "      <td>72.04</td>\n",
              "      <td>15.46</td>\n",
              "      <td>4.68</td>\n",
              "      <td>NaN</td>\n",
              "      <td>47.50</td>\n",
              "      <td>5.57</td>\n",
              "      <td>0.65</td>\n",
              "      <td>45.28</td>\n",
              "      <td>NaN</td>\n",
              "      <td>NaN</td>\n",
              "      <td>0.117263</td>\n",
              "      <td>0.953263</td>\n",
              "      <td>NaN</td>\n",
              "      <td>NaN</td>\n",
              "      <td>NaN</td>\n",
              "      <td>NaN</td>\n",
              "      <td>NaN</td>\n",
              "      <td>0.018292</td>\n",
              "    </tr>\n",
              "    <tr>\n",
              "      <th>175</th>\n",
              "      <td>white ash</td>\n",
              "      <td>forest residue</td>\n",
              "      <td>none</td>\n",
              "      <td>10.54</td>\n",
              "      <td>75.83</td>\n",
              "      <td>13.22</td>\n",
              "      <td>0.41</td>\n",
              "      <td>NaN</td>\n",
              "      <td>47.45</td>\n",
              "      <td>6.53</td>\n",
              "      <td>0.43</td>\n",
              "      <td>45.59</td>\n",
              "      <td>NaN</td>\n",
              "      <td>NaN</td>\n",
              "      <td>0.137619</td>\n",
              "      <td>0.960801</td>\n",
              "      <td>NaN</td>\n",
              "      <td>NaN</td>\n",
              "      <td>NaN</td>\n",
              "      <td>NaN</td>\n",
              "      <td>NaN</td>\n",
              "      <td>0.015102</td>\n",
              "    </tr>\n",
              "    <tr>\n",
              "      <th>176</th>\n",
              "      <td>pine wood</td>\n",
              "      <td>softwood</td>\n",
              "      <td>step-wise pyrolysis (torrefaction)</td>\n",
              "      <td>8.00</td>\n",
              "      <td>NaN</td>\n",
              "      <td>NaN</td>\n",
              "      <td>NaN</td>\n",
              "      <td>NaN</td>\n",
              "      <td>46.58</td>\n",
              "      <td>6.34</td>\n",
              "      <td>0.04</td>\n",
              "      <td>46.98</td>\n",
              "      <td>0.06</td>\n",
              "      <td>NaN</td>\n",
              "      <td>0.136110</td>\n",
              "      <td>1.008587</td>\n",
              "      <td>35.0</td>\n",
              "      <td>29.0</td>\n",
              "      <td>28.0</td>\n",
              "      <td>NaN</td>\n",
              "      <td>0</td>\n",
              "      <td>0.083324</td>\n",
              "    </tr>\n",
              "  </tbody>\n",
              "</table>\n",
              "<p>177 rows × 22 columns</p>\n",
              "</div>"
            ],
            "text/plain": [
              "            Material_1  ...   O/C oil\n",
              "0        japonica alga  ...  0.469887\n",
              "1               bamboo  ...  2.561132\n",
              "2        japonica alga  ...  0.393652\n",
              "3           beech wood  ...  0.236315\n",
              "4           rice straw  ...  1.952824\n",
              "..                 ...  ...       ...\n",
              "172         rice straw  ...  0.307387\n",
              "173  sugarcane bagasse  ...  0.494919\n",
              "174       switch grass  ...  0.018292\n",
              "175          white ash  ...  0.015102\n",
              "176          pine wood  ...  0.083324\n",
              "\n",
              "[177 rows x 22 columns]"
            ]
          },
          "metadata": {},
          "execution_count": 5
        }
      ]
    },
    {
      "cell_type": "code",
      "metadata": {
        "colab": {
          "base_uri": "https://localhost:8080/"
        },
        "id": "Z3YEPpx_SZuF",
        "outputId": "e15b75f2-3ce9-4d87-e6bc-4c6a0347d972"
      },
      "source": [
        "#Count the number of empty values of each columns in dataset\n",
        "df.isna().sum()"
      ],
      "execution_count": 6,
      "outputs": [
        {
          "output_type": "execute_result",
          "data": {
            "text/plain": [
              "Material_1               0\n",
              "Type_1                   8\n",
              "Pretreatment_1           1\n",
              "Moisture_1              51\n",
              "Volatiles_1             43\n",
              "Fixed Carbon_1          49\n",
              "Ash_1                   12\n",
              "HHV, MJ/Kg_1            94\n",
              "C_1                     13\n",
              "H_1                     13\n",
              "N_1                     36\n",
              "O_1                     14\n",
              "S_1                    111\n",
              "Cl_1                   172\n",
              "H/C(0)_1                13\n",
              "O/C(0)_1                13\n",
              "Cellulose_1             93\n",
              "Hemicellulose_1        107\n",
              "Lignin_1               102\n",
              "Extractives_1          128\n",
              "Particle Size, mm_1    143\n",
              "O/C oil                  0\n",
              "dtype: int64"
            ]
          },
          "metadata": {},
          "execution_count": 6
        }
      ]
    },
    {
      "cell_type": "code",
      "metadata": {
        "id": "vf-VX3MJNTOG"
      },
      "source": [
        "df=df.drop(columns=[\"Cl_1\",\"Extractives_1\"])"
      ],
      "execution_count": 7,
      "outputs": []
    },
    {
      "cell_type": "markdown",
      "metadata": {
        "id": "rpWySbpLaCWM"
      },
      "source": [
        "#Correlazione"
      ]
    },
    {
      "cell_type": "code",
      "metadata": {
        "colab": {
          "base_uri": "https://localhost:8080/",
          "height": 779
        },
        "id": "CPYbEUhaXkfr",
        "outputId": "c476f32a-cb55-4119-cc48-5b7fd52fb145"
      },
      "source": [
        "# Bivariate Analysis\n",
        "# Make a Features Correlation Matrix of the WBCD features\n",
        "# Readapted from AN6U5\n",
        "\n",
        "def features_correlation_matrix(df):\n",
        "    from matplotlib import pyplot as plt\n",
        "    from matplotlib import cm as cm\n",
        "    fig = plt.figure()\n",
        "    fig.set_size_inches(18.5, 10.5)\n",
        "    ax1 = fig.add_subplot(111)\n",
        "    \n",
        "    cmap = cm.get_cmap('jet', 100)\n",
        "    \n",
        "    # interpolation='nearest' simply displays an image without \n",
        "    # trying to interpolate between pixels if the display \n",
        "    # resolution is not the same as the image resolution\n",
        "    # The correlation is returned in absolute values:\n",
        "    cax = ax1.imshow(df.corr().abs(), interpolation=\"nearest\", \\\n",
        "                     cmap=cmap)\n",
        "    ax1.grid(True)\n",
        "    plt.title('Correlation Matrix of the WBCD features',fontsize=20)\n",
        "    labels=list(df.columns)\n",
        "    \n",
        "    ax1.set_xticks(np.arange(len(labels)))\n",
        "    ax1.set_yticks(np.arange(len(labels)))\n",
        "    \n",
        "    ax1.set_xticklabels(labels,fontsize=15,\\\n",
        "              horizontalalignment=\"left\", rotation='vertical')\n",
        "    \n",
        "    ax1.set_yticklabels(labels,fontsize=15)\n",
        "    \n",
        "    # Add a colorbar\n",
        "    fig.colorbar(cax, ticks=[-1.0, -0.8, -0.6, -0.4, -0.2, 0, \\\n",
        "                             0.2, 0.4, 0.6, 0.8, 1])\n",
        "    plt.show()\n",
        "\n",
        "\n",
        "# Drop the Outcome column from Df and copy it into df_features\n",
        "df_features = df.drop(df.columns[-1],axis=1)\n",
        "# Run the correlation_matrix function, using df_features as argument\n",
        "features_correlation_matrix(df_features)"
      ],
      "execution_count": 8,
      "outputs": [
        {
          "output_type": "display_data",
          "data": {
            "image/png": "[encoded data removed]",
            "text/plain": [
              "<Figure size 1332x756 with 2 Axes>"
            ]
          },
          "metadata": {
            "needs_background": "light"
          }
        }
      ]
    },
    {
      "cell_type": "code",
      "metadata": {
        "id": "41XJxJ0VXoFs"
      },
      "source": [
        "# Dropping of features with a correlation greater than 0.8\n",
        "# Code readapted from Chris Albon\n",
        "# Create the correlation matrix with absolute values\n",
        "corr_matrix = df_features.corr().abs()\n",
        "\n",
        "# Select upper triangle of correlation matrix\n",
        "upper = corr_matrix.where(np.triu(np.ones(corr_matrix.shape), k=1).astype(np.bool))\n",
        "\n",
        "# Find index of feature columns with correlation greater than 0.9\n",
        "to_drop = [column for column in upper.columns if any(upper[column] > 0.8)]"
      ],
      "execution_count": 9,
      "outputs": []
    },
    {
      "cell_type": "code",
      "metadata": {
        "colab": {
          "base_uri": "https://localhost:8080/"
        },
        "id": "0u8Lee9RXo7s",
        "outputId": "477bb837-a67d-475c-d6cf-539ddbc2a841"
      },
      "source": [
        "to_drop"
      ],
      "execution_count": 10,
      "outputs": [
        {
          "output_type": "execute_result",
          "data": {
            "text/plain": [
              "['Fixed Carbon_1', 'Ash_1', 'O/C(0)_1']"
            ]
          },
          "metadata": {},
          "execution_count": 10
        }
      ]
    },
    {
      "cell_type": "code",
      "metadata": {
        "colab": {
          "base_uri": "https://localhost:8080/",
          "height": 779
        },
        "id": "UTJGlByuXqw5",
        "outputId": "ee60aba7-ef49-47cc-853f-12b0f129e515"
      },
      "source": [
        "# Drop the redundant features from the df\n",
        "df_features_corr_dropped = df_features.drop(df_features[to_drop], axis=1)\n",
        "\n",
        "# Re-plot the dropped df containing only not-redundant features\n",
        "# Using the feature_correlation_matrix() function\n",
        "features_correlation_matrix(df_features_corr_dropped)"
      ],
      "execution_count": 11,
      "outputs": [
        {
          "output_type": "display_data",
          "data": {
            "image/png": "[encoded data removed]",
            "text/plain": [
              "<Figure size 1332x756 with 2 Axes>"
            ]
          },
          "metadata": {
            "needs_background": "light"
          }
        }
      ]
    },
    {
      "cell_type": "code",
      "metadata": {
        "colab": {
          "base_uri": "https://localhost:8080/",
          "height": 463
        },
        "id": "h-pFR8QLXvNz",
        "outputId": "e4f52053-a78d-454c-f67f-3d624f1ec5f7"
      },
      "source": [
        "# Print a table with all the features correlations\n",
        "# Redundant features were dropped from the original 30 features dataset\n",
        "# To get the correlation, we apply the .corr() method\n",
        "# followed by the .abs() method to the df_features_corr_dropped DataFrame\n",
        "df_features_corr_dropped.corr().abs()"
      ],
      "execution_count": 12,
      "outputs": [
        {
          "output_type": "execute_result",
          "data": {
            "text/html": [
              "<div>\n",
              "<style scoped>\n",
              "    .dataframe tbody tr th:only-of-type {\n",
              "        vertical-align: middle;\n",
              "    }\n",
              "\n",
              "    .dataframe tbody tr th {\n",
              "        vertical-align: top;\n",
              "    }\n",
              "\n",
              "    .dataframe thead th {\n",
              "        text-align: right;\n",
              "    }\n",
              "</style>\n",
              "<table border=\"1\" class=\"dataframe\">\n",
              "  <thead>\n",
              "    <tr style=\"text-align: right;\">\n",
              "      <th></th>\n",
              "      <th>Moisture_1</th>\n",
              "      <th>Volatiles_1</th>\n",
              "      <th>HHV, MJ/Kg_1</th>\n",
              "      <th>C_1</th>\n",
              "      <th>H_1</th>\n",
              "      <th>N_1</th>\n",
              "      <th>O_1</th>\n",
              "      <th>S_1</th>\n",
              "      <th>H/C(0)_1</th>\n",
              "      <th>Cellulose_1</th>\n",
              "      <th>Hemicellulose_1</th>\n",
              "      <th>Lignin_1</th>\n",
              "    </tr>\n",
              "  </thead>\n",
              "  <tbody>\n",
              "    <tr>\n",
              "      <th>Moisture_1</th>\n",
              "      <td>1.000000</td>\n",
              "      <td>0.054692</td>\n",
              "      <td>0.033974</td>\n",
              "      <td>0.117045</td>\n",
              "      <td>0.009070</td>\n",
              "      <td>0.000106</td>\n",
              "      <td>0.119112</td>\n",
              "      <td>0.094145</td>\n",
              "      <td>0.087100</td>\n",
              "      <td>0.091152</td>\n",
              "      <td>0.153174</td>\n",
              "      <td>0.090820</td>\n",
              "    </tr>\n",
              "    <tr>\n",
              "      <th>Volatiles_1</th>\n",
              "      <td>0.054692</td>\n",
              "      <td>1.000000</td>\n",
              "      <td>0.277812</td>\n",
              "      <td>0.249359</td>\n",
              "      <td>0.080177</td>\n",
              "      <td>0.255256</td>\n",
              "      <td>0.069037</td>\n",
              "      <td>0.599977</td>\n",
              "      <td>0.304352</td>\n",
              "      <td>0.072116</td>\n",
              "      <td>0.177574</td>\n",
              "      <td>0.298567</td>\n",
              "    </tr>\n",
              "    <tr>\n",
              "      <th>HHV, MJ/Kg_1</th>\n",
              "      <td>0.033974</td>\n",
              "      <td>0.277812</td>\n",
              "      <td>1.000000</td>\n",
              "      <td>0.643469</td>\n",
              "      <td>0.390053</td>\n",
              "      <td>0.075775</td>\n",
              "      <td>0.616884</td>\n",
              "      <td>0.129389</td>\n",
              "      <td>0.191990</td>\n",
              "      <td>0.172727</td>\n",
              "      <td>0.600438</td>\n",
              "      <td>0.298651</td>\n",
              "    </tr>\n",
              "    <tr>\n",
              "      <th>C_1</th>\n",
              "      <td>0.117045</td>\n",
              "      <td>0.249359</td>\n",
              "      <td>0.643469</td>\n",
              "      <td>1.000000</td>\n",
              "      <td>0.224369</td>\n",
              "      <td>0.171533</td>\n",
              "      <td>0.531252</td>\n",
              "      <td>0.107326</td>\n",
              "      <td>0.551053</td>\n",
              "      <td>0.163093</td>\n",
              "      <td>0.446867</td>\n",
              "      <td>0.544235</td>\n",
              "    </tr>\n",
              "    <tr>\n",
              "      <th>H_1</th>\n",
              "      <td>0.009070</td>\n",
              "      <td>0.080177</td>\n",
              "      <td>0.390053</td>\n",
              "      <td>0.224369</td>\n",
              "      <td>1.000000</td>\n",
              "      <td>0.084019</td>\n",
              "      <td>0.210793</td>\n",
              "      <td>0.266188</td>\n",
              "      <td>0.669096</td>\n",
              "      <td>0.201306</td>\n",
              "      <td>0.171631</td>\n",
              "      <td>0.068360</td>\n",
              "    </tr>\n",
              "    <tr>\n",
              "      <th>N_1</th>\n",
              "      <td>0.000106</td>\n",
              "      <td>0.255256</td>\n",
              "      <td>0.075775</td>\n",
              "      <td>0.171533</td>\n",
              "      <td>0.084019</td>\n",
              "      <td>1.000000</td>\n",
              "      <td>0.225466</td>\n",
              "      <td>0.607738</td>\n",
              "      <td>0.079665</td>\n",
              "      <td>0.173752</td>\n",
              "      <td>0.221152</td>\n",
              "      <td>0.086579</td>\n",
              "    </tr>\n",
              "    <tr>\n",
              "      <th>O_1</th>\n",
              "      <td>0.119112</td>\n",
              "      <td>0.069037</td>\n",
              "      <td>0.616884</td>\n",
              "      <td>0.531252</td>\n",
              "      <td>0.210793</td>\n",
              "      <td>0.225466</td>\n",
              "      <td>1.000000</td>\n",
              "      <td>0.034509</td>\n",
              "      <td>0.131053</td>\n",
              "      <td>0.174177</td>\n",
              "      <td>0.505006</td>\n",
              "      <td>0.410636</td>\n",
              "    </tr>\n",
              "    <tr>\n",
              "      <th>S_1</th>\n",
              "      <td>0.094145</td>\n",
              "      <td>0.599977</td>\n",
              "      <td>0.129389</td>\n",
              "      <td>0.107326</td>\n",
              "      <td>0.266188</td>\n",
              "      <td>0.607738</td>\n",
              "      <td>0.034509</td>\n",
              "      <td>1.000000</td>\n",
              "      <td>0.092991</td>\n",
              "      <td>0.190215</td>\n",
              "      <td>0.362142</td>\n",
              "      <td>0.231900</td>\n",
              "    </tr>\n",
              "    <tr>\n",
              "      <th>H/C(0)_1</th>\n",
              "      <td>0.087100</td>\n",
              "      <td>0.304352</td>\n",
              "      <td>0.191990</td>\n",
              "      <td>0.551053</td>\n",
              "      <td>0.669096</td>\n",
              "      <td>0.079665</td>\n",
              "      <td>0.131053</td>\n",
              "      <td>0.092991</td>\n",
              "      <td>1.000000</td>\n",
              "      <td>0.290752</td>\n",
              "      <td>0.082525</td>\n",
              "      <td>0.187861</td>\n",
              "    </tr>\n",
              "    <tr>\n",
              "      <th>Cellulose_1</th>\n",
              "      <td>0.091152</td>\n",
              "      <td>0.072116</td>\n",
              "      <td>0.172727</td>\n",
              "      <td>0.163093</td>\n",
              "      <td>0.201306</td>\n",
              "      <td>0.173752</td>\n",
              "      <td>0.174177</td>\n",
              "      <td>0.190215</td>\n",
              "      <td>0.290752</td>\n",
              "      <td>1.000000</td>\n",
              "      <td>0.073139</td>\n",
              "      <td>0.351094</td>\n",
              "    </tr>\n",
              "    <tr>\n",
              "      <th>Hemicellulose_1</th>\n",
              "      <td>0.153174</td>\n",
              "      <td>0.177574</td>\n",
              "      <td>0.600438</td>\n",
              "      <td>0.446867</td>\n",
              "      <td>0.171631</td>\n",
              "      <td>0.221152</td>\n",
              "      <td>0.505006</td>\n",
              "      <td>0.362142</td>\n",
              "      <td>0.082525</td>\n",
              "      <td>0.073139</td>\n",
              "      <td>1.000000</td>\n",
              "      <td>0.135773</td>\n",
              "    </tr>\n",
              "    <tr>\n",
              "      <th>Lignin_1</th>\n",
              "      <td>0.090820</td>\n",
              "      <td>0.298567</td>\n",
              "      <td>0.298651</td>\n",
              "      <td>0.544235</td>\n",
              "      <td>0.068360</td>\n",
              "      <td>0.086579</td>\n",
              "      <td>0.410636</td>\n",
              "      <td>0.231900</td>\n",
              "      <td>0.187861</td>\n",
              "      <td>0.351094</td>\n",
              "      <td>0.135773</td>\n",
              "      <td>1.000000</td>\n",
              "    </tr>\n",
              "  </tbody>\n",
              "</table>\n",
              "</div>"
            ],
            "text/plain": [
              "                 Moisture_1  Volatiles_1  ...  Hemicellulose_1  Lignin_1\n",
              "Moisture_1         1.000000     0.054692  ...         0.153174  0.090820\n",
              "Volatiles_1        0.054692     1.000000  ...         0.177574  0.298567\n",
              "HHV, MJ/Kg_1       0.033974     0.277812  ...         0.600438  0.298651\n",
              "C_1                0.117045     0.249359  ...         0.446867  0.544235\n",
              "H_1                0.009070     0.080177  ...         0.171631  0.068360\n",
              "N_1                0.000106     0.255256  ...         0.221152  0.086579\n",
              "O_1                0.119112     0.069037  ...         0.505006  0.410636\n",
              "S_1                0.094145     0.599977  ...         0.362142  0.231900\n",
              "H/C(0)_1           0.087100     0.304352  ...         0.082525  0.187861\n",
              "Cellulose_1        0.091152     0.072116  ...         0.073139  0.351094\n",
              "Hemicellulose_1    0.153174     0.177574  ...         1.000000  0.135773\n",
              "Lignin_1           0.090820     0.298567  ...         0.135773  1.000000\n",
              "\n",
              "[12 rows x 12 columns]"
            ]
          },
          "metadata": {},
          "execution_count": 12
        }
      ]
    },
    {
      "cell_type": "code",
      "metadata": {
        "id": "b3NEsE85PJ_P"
      },
      "source": [
        "df=df.drop(columns=to_drop)"
      ],
      "execution_count": 13,
      "outputs": []
    },
    {
      "cell_type": "markdown",
      "metadata": {
        "id": "iPQzUWLFXk1i"
      },
      "source": [
        "#Encoding"
      ]
    },
    {
      "cell_type": "code",
      "metadata": {
        "colab": {
          "base_uri": "https://localhost:8080/"
        },
        "id": "0jw0cr2KShWZ",
        "outputId": "4b1c2050-8896-4304-c439-8e6b9258d875"
      },
      "source": [
        "categorical_cols=df.columns[df.dtypes==object].tolist()\n",
        "categorical_cols"
      ],
      "execution_count": 14,
      "outputs": [
        {
          "output_type": "execute_result",
          "data": {
            "text/plain": [
              "['Material_1', 'Type_1', 'Pretreatment_1', 'Particle Size, mm_1']"
            ]
          },
          "metadata": {},
          "execution_count": 14
        }
      ]
    },
    {
      "cell_type": "code",
      "metadata": {
        "colab": {
          "base_uri": "https://localhost:8080/",
          "height": 365
        },
        "id": "arlwEhnOTKQO",
        "outputId": "2c5786b1-987e-4b0d-c6ac-a485c188c40e"
      },
      "source": [
        "df[\"Material_1_cat\"]=df[\"Material_1\"].astype('category').cat.codes\n",
        "df[\"Type_1_cat\"]=df[\"Type_1\"].astype('category').cat.codes\n",
        "df[\"Pretreatment_1_cat\"]=df[\"Pretreatment_1\"].astype('category').cat.codes\n",
        "df[\"Particle Size, mm_1_cat\"]=df[\"Particle Size, mm_1\"].astype('category').cat.codes\n",
        "df.head()"
      ],
      "execution_count": 15,
      "outputs": [
        {
          "output_type": "execute_result",
          "data": {
            "text/html": [
              "<div>\n",
              "<style scoped>\n",
              "    .dataframe tbody tr th:only-of-type {\n",
              "        vertical-align: middle;\n",
              "    }\n",
              "\n",
              "    .dataframe tbody tr th {\n",
              "        vertical-align: top;\n",
              "    }\n",
              "\n",
              "    .dataframe thead th {\n",
              "        text-align: right;\n",
              "    }\n",
              "</style>\n",
              "<table border=\"1\" class=\"dataframe\">\n",
              "  <thead>\n",
              "    <tr style=\"text-align: right;\">\n",
              "      <th></th>\n",
              "      <th>Material_1</th>\n",
              "      <th>Type_1</th>\n",
              "      <th>Pretreatment_1</th>\n",
              "      <th>Moisture_1</th>\n",
              "      <th>Volatiles_1</th>\n",
              "      <th>HHV, MJ/Kg_1</th>\n",
              "      <th>C_1</th>\n",
              "      <th>H_1</th>\n",
              "      <th>N_1</th>\n",
              "      <th>O_1</th>\n",
              "      <th>S_1</th>\n",
              "      <th>H/C(0)_1</th>\n",
              "      <th>Cellulose_1</th>\n",
              "      <th>Hemicellulose_1</th>\n",
              "      <th>Lignin_1</th>\n",
              "      <th>Particle Size, mm_1</th>\n",
              "      <th>O/C oil</th>\n",
              "      <th>Material_1_cat</th>\n",
              "      <th>Type_1_cat</th>\n",
              "      <th>Pretreatment_1_cat</th>\n",
              "      <th>Particle Size, mm_1_cat</th>\n",
              "    </tr>\n",
              "  </thead>\n",
              "  <tbody>\n",
              "    <tr>\n",
              "      <th>0</th>\n",
              "      <td>japonica alga</td>\n",
              "      <td>algae</td>\n",
              "      <td>acid_washed</td>\n",
              "      <td>5.03</td>\n",
              "      <td>NaN</td>\n",
              "      <td>14.27</td>\n",
              "      <td>43.76</td>\n",
              "      <td>6.00</td>\n",
              "      <td>2.76</td>\n",
              "      <td>55.38</td>\n",
              "      <td>NaN</td>\n",
              "      <td>0.137112</td>\n",
              "      <td>NaN</td>\n",
              "      <td>NaN</td>\n",
              "      <td>NaN</td>\n",
              "      <td>NaN</td>\n",
              "      <td>0.469887</td>\n",
              "      <td>22</td>\n",
              "      <td>1</td>\n",
              "      <td>0</td>\n",
              "      <td>-1</td>\n",
              "    </tr>\n",
              "    <tr>\n",
              "      <th>1</th>\n",
              "      <td>bamboo</td>\n",
              "      <td>agricultural_waste</td>\n",
              "      <td>none</td>\n",
              "      <td>7.30</td>\n",
              "      <td>90.90</td>\n",
              "      <td>17.70</td>\n",
              "      <td>46.90</td>\n",
              "      <td>5.85</td>\n",
              "      <td>0.21</td>\n",
              "      <td>47.02</td>\n",
              "      <td>0.02</td>\n",
              "      <td>0.124733</td>\n",
              "      <td>41.0</td>\n",
              "      <td>26.5</td>\n",
              "      <td>25.3</td>\n",
              "      <td>0.6</td>\n",
              "      <td>2.561132</td>\n",
              "      <td>5</td>\n",
              "      <td>0</td>\n",
              "      <td>2</td>\n",
              "      <td>11</td>\n",
              "    </tr>\n",
              "    <tr>\n",
              "      <th>2</th>\n",
              "      <td>japonica alga</td>\n",
              "      <td>algae</td>\n",
              "      <td>none</td>\n",
              "      <td>6.90</td>\n",
              "      <td>NaN</td>\n",
              "      <td>16.96</td>\n",
              "      <td>41.22</td>\n",
              "      <td>7.73</td>\n",
              "      <td>1.17</td>\n",
              "      <td>49.88</td>\n",
              "      <td>NaN</td>\n",
              "      <td>0.187530</td>\n",
              "      <td>NaN</td>\n",
              "      <td>NaN</td>\n",
              "      <td>NaN</td>\n",
              "      <td>NaN</td>\n",
              "      <td>0.393652</td>\n",
              "      <td>22</td>\n",
              "      <td>1</td>\n",
              "      <td>2</td>\n",
              "      <td>-1</td>\n",
              "    </tr>\n",
              "    <tr>\n",
              "      <th>3</th>\n",
              "      <td>beech wood</td>\n",
              "      <td>hardwood</td>\n",
              "      <td>none</td>\n",
              "      <td>8.00</td>\n",
              "      <td>NaN</td>\n",
              "      <td>NaN</td>\n",
              "      <td>48.44</td>\n",
              "      <td>5.83</td>\n",
              "      <td>NaN</td>\n",
              "      <td>45.73</td>\n",
              "      <td>NaN</td>\n",
              "      <td>0.120355</td>\n",
              "      <td>NaN</td>\n",
              "      <td>NaN</td>\n",
              "      <td>NaN</td>\n",
              "      <td>NaN</td>\n",
              "      <td>0.236315</td>\n",
              "      <td>6</td>\n",
              "      <td>5</td>\n",
              "      <td>2</td>\n",
              "      <td>-1</td>\n",
              "    </tr>\n",
              "    <tr>\n",
              "      <th>4</th>\n",
              "      <td>rice straw</td>\n",
              "      <td>agricultural_waste</td>\n",
              "      <td>none</td>\n",
              "      <td>10.80</td>\n",
              "      <td>66.89</td>\n",
              "      <td>NaN</td>\n",
              "      <td>39.98</td>\n",
              "      <td>2.45</td>\n",
              "      <td>4.43</td>\n",
              "      <td>52.61</td>\n",
              "      <td>0.53</td>\n",
              "      <td>0.061281</td>\n",
              "      <td>NaN</td>\n",
              "      <td>NaN</td>\n",
              "      <td>NaN</td>\n",
              "      <td>0.6 mm &lt;particle diameter &lt; 1.18 mm</td>\n",
              "      <td>1.952824</td>\n",
              "      <td>40</td>\n",
              "      <td>0</td>\n",
              "      <td>2</td>\n",
              "      <td>12</td>\n",
              "    </tr>\n",
              "  </tbody>\n",
              "</table>\n",
              "</div>"
            ],
            "text/plain": [
              "      Material_1  ... Particle Size, mm_1_cat\n",
              "0  japonica alga  ...                      -1\n",
              "1         bamboo  ...                      11\n",
              "2  japonica alga  ...                      -1\n",
              "3     beech wood  ...                      -1\n",
              "4     rice straw  ...                      12\n",
              "\n",
              "[5 rows x 21 columns]"
            ]
          },
          "metadata": {},
          "execution_count": 15
        }
      ]
    },
    {
      "cell_type": "code",
      "metadata": {
        "colab": {
          "base_uri": "https://localhost:8080/"
        },
        "id": "ksY3_n_sHO__",
        "outputId": "0c5bf72e-953d-40e7-c917-ecb4b18878cc"
      },
      "source": [
        "df.columns"
      ],
      "execution_count": 16,
      "outputs": [
        {
          "output_type": "execute_result",
          "data": {
            "text/plain": [
              "Index(['Material_1', 'Type_1', 'Pretreatment_1', 'Moisture_1', 'Volatiles_1',\n",
              "       'HHV, MJ/Kg_1', 'C_1', 'H_1', 'N_1', 'O_1', 'S_1', 'H/C(0)_1',\n",
              "       'Cellulose_1', 'Hemicellulose_1', 'Lignin_1', 'Particle Size, mm_1',\n",
              "       'O/C oil', 'Material_1_cat', 'Type_1_cat', 'Pretreatment_1_cat',\n",
              "       'Particle Size, mm_1_cat'],\n",
              "      dtype='object')"
            ]
          },
          "metadata": {},
          "execution_count": 16
        }
      ]
    },
    {
      "cell_type": "code",
      "metadata": {
        "id": "t8dpPGyLJFaF",
        "colab": {
          "base_uri": "https://localhost:8080/",
          "height": 986
        },
        "outputId": "f39b5c66-4212-4980-946b-02e7b1a4b296"
      },
      "source": [
        "#Visualize the correlation\n",
        "plt.figure(figsize=(15,15))\n",
        "sns.heatmap(df.iloc[:,1:df.shape[1]-1].corr(), annot=True, fmt='.0%')"
      ],
      "execution_count": 17,
      "outputs": [
        {
          "output_type": "execute_result",
          "data": {
            "text/plain": [
              "<matplotlib.axes._subplots.AxesSubplot at 0x7ffb3db495d0>"
            ]
          },
          "metadata": {},
          "execution_count": 17
        },
        {
          "output_type": "display_data",
          "data": {
            "image/png": "[encoded data removed]",
            "text/plain": [
              "<Figure size 1080x1080 with 2 Axes>"
            ]
          },
          "metadata": {
            "needs_background": "light"
          }
        }
      ]
    },
    {
      "cell_type": "markdown",
      "metadata": {
        "id": "H3S148zoHdQE"
      },
      "source": [
        "Split"
      ]
    },
    {
      "cell_type": "code",
      "metadata": {
        "id": "UN_uhAFbHc3i"
      },
      "source": [
        "X=df.drop(columns=[\"O/C oil\", 'Material_1', 'Type_1', 'Pretreatment_1', 'Particle Size, mm_1'])\n",
        "Y=df[\"O/C oil\"]"
      ],
      "execution_count": 18,
      "outputs": []
    },
    {
      "cell_type": "code",
      "metadata": {
        "id": "iwZvAzcbHrO6"
      },
      "source": [
        "#Split the training e validation 75% and 25% testing\n",
        "from sklearn.model_selection import train_test_split\n",
        "\n",
        "X_train, X_test, Y_train, Y_test = train_test_split(X, Y, test_size=0.25, random_state=0)"
      ],
      "execution_count": 19,
      "outputs": []
    },
    {
      "cell_type": "code",
      "metadata": {
        "id": "4pyMD14GH3Ic"
      },
      "source": [
        "#Split the training e validation 75% and 25% testing\n",
        "from sklearn.model_selection import train_test_split\n",
        "\n",
        "X_train, X_validation, Y_train, Y_validation = train_test_split(X_train, Y_train, test_size=0.25, random_state=0)"
      ],
      "execution_count": 20,
      "outputs": []
    },
    {
      "cell_type": "markdown",
      "metadata": {
        "id": "3q9eSnQyH9fa"
      },
      "source": [
        "Missing value"
      ]
    },
    {
      "cell_type": "code",
      "metadata": {
        "id": "UGRJEAgPH_lS",
        "colab": {
          "base_uri": "https://localhost:8080/"
        },
        "outputId": "f73ef282-c7b2-4391-9f86-d299b8254141"
      },
      "source": [
        "import statistics\n",
        "mediane={}\n",
        "mediane_tot={}\n",
        "\n",
        "for column in X_train.columns:\n",
        "  mediana=X_train.groupby(\"Material_1_cat\")[column].transform(\"median\")\n",
        "  X_train[column].fillna(mediana, inplace=True)\n",
        "  #mediana=statistics.median(X_train[column])\n",
        "  mediane.update({column: mediana})\n",
        "  print(str(column) + \": \" + str(statistics.median(X_train[column])))\n"
      ],
      "execution_count": 21,
      "outputs": [
        {
          "output_type": "stream",
          "name": "stdout",
          "text": [
            "Moisture_1: 7.03\n",
            "Volatiles_1: 90.9\n",
            "HHV, MJ/Kg_1: nan\n",
            "C_1: 47.4\n",
            "H_1: 5.44\n",
            "N_1: nan\n",
            "O_1: 36.84\n",
            "S_1: nan\n",
            "H/C(0)_1: 0.109677419354839\n",
            "Cellulose_1: 100.0\n",
            "Hemicellulose_1: nan\n",
            "Lignin_1: nan\n",
            "Material_1_cat: 34\n",
            "Type_1_cat: 5\n",
            "Pretreatment_1_cat: 2\n",
            "Particle Size, mm_1_cat: -1\n"
          ]
        }
      ]
    },
    {
      "cell_type": "code",
      "metadata": {
        "id": "IYs1XmIZJ3aF"
      },
      "source": [
        "for column in X_train.columns[3:-1]:\n",
        "  \n",
        "  X_train[column]=X_train[column].fillna(mediane[column])\n",
        "  X_validation[column]=X_validation[column].fillna(mediane[column])\n",
        "  X_test[column]=X_test[column].fillna(mediane[column])\n",
        "\n",
        "X_train=X_train.fillna(-1)\n",
        "X_validation=X_validation.fillna(-1)\n",
        "X_test=X_test.fillna(-1)"
      ],
      "execution_count": 22,
      "outputs": []
    },
    {
      "cell_type": "code",
      "metadata": {
        "colab": {
          "base_uri": "https://localhost:8080/",
          "height": 104
        },
        "id": "kVvg6I8pLSsB",
        "outputId": "191fd849-53c0-4173-d417-b62d7fb63033"
      },
      "source": [
        "#NaN Values\n",
        "df1 = X_train[X_train.isna().any(axis=1)]\n",
        "\n",
        "df1"
      ],
      "execution_count": 23,
      "outputs": [
        {
          "output_type": "execute_result",
          "data": {
            "text/html": [
              "<div>\n",
              "<style scoped>\n",
              "    .dataframe tbody tr th:only-of-type {\n",
              "        vertical-align: middle;\n",
              "    }\n",
              "\n",
              "    .dataframe tbody tr th {\n",
              "        vertical-align: top;\n",
              "    }\n",
              "\n",
              "    .dataframe thead th {\n",
              "        text-align: right;\n",
              "    }\n",
              "</style>\n",
              "<table border=\"1\" class=\"dataframe\">\n",
              "  <thead>\n",
              "    <tr style=\"text-align: right;\">\n",
              "      <th></th>\n",
              "      <th>Moisture_1</th>\n",
              "      <th>Volatiles_1</th>\n",
              "      <th>HHV, MJ/Kg_1</th>\n",
              "      <th>C_1</th>\n",
              "      <th>H_1</th>\n",
              "      <th>N_1</th>\n",
              "      <th>O_1</th>\n",
              "      <th>S_1</th>\n",
              "      <th>H/C(0)_1</th>\n",
              "      <th>Cellulose_1</th>\n",
              "      <th>Hemicellulose_1</th>\n",
              "      <th>Lignin_1</th>\n",
              "      <th>Material_1_cat</th>\n",
              "      <th>Type_1_cat</th>\n",
              "      <th>Pretreatment_1_cat</th>\n",
              "      <th>Particle Size, mm_1_cat</th>\n",
              "    </tr>\n",
              "  </thead>\n",
              "  <tbody>\n",
              "  </tbody>\n",
              "</table>\n",
              "</div>"
            ],
            "text/plain": [
              "Empty DataFrame\n",
              "Columns: [Moisture_1, Volatiles_1, HHV, MJ/Kg_1, C_1, H_1, N_1, O_1, S_1, H/C(0)_1, Cellulose_1, Hemicellulose_1, Lignin_1, Material_1_cat, Type_1_cat, Pretreatment_1_cat, Particle Size, mm_1_cat]\n",
              "Index: []"
            ]
          },
          "metadata": {},
          "execution_count": 23
        }
      ]
    },
    {
      "cell_type": "markdown",
      "metadata": {
        "id": "_wYeqxSbMLWa"
      },
      "source": [
        "Normalizzazione"
      ]
    },
    {
      "cell_type": "code",
      "metadata": {
        "id": "spcJCQ9qMVxH"
      },
      "source": [
        "#Scale the data (Feature Scaling Z Score) z = (x - u) / s\n",
        "from sklearn.preprocessing import StandardScaler\n",
        "sc=StandardScaler()\n",
        "X_train = sc.fit_transform(X_train)\n",
        "X_validation=sc.transform(X_validation)\n",
        "X_test = sc.transform(X_test)"
      ],
      "execution_count": 24,
      "outputs": []
    },
    {
      "cell_type": "code",
      "metadata": {
        "id": "hwd-z5umMZ9X"
      },
      "source": [
        "X_train = np.array(X_train)\n",
        "X_validation=np.array(X_validation)\n",
        "X_test = np.array(X_test)\n",
        "\n",
        "Y_train = np.array(Y_train)\n",
        "Y_validation=np.array(Y_validation)\n",
        "Y_test = np.array(Y_test)"
      ],
      "execution_count": 25,
      "outputs": []
    },
    {
      "cell_type": "markdown",
      "metadata": {
        "id": "D1VBEk19MWNi"
      },
      "source": [
        "#Decision Tree"
      ]
    },
    {
      "cell_type": "code",
      "metadata": {
        "colab": {
          "base_uri": "https://localhost:8080/"
        },
        "id": "YXcuOywwMeSE",
        "outputId": "1d49f316-d224-4134-963a-d05c6b06a5a2"
      },
      "source": [
        "#Decision Tree\n",
        "from sklearn.tree import DecisionTreeRegressor \n",
        "dtr_model = DecisionTreeRegressor(random_state=12)\n",
        "dtr_model.fit(X_train, Y_train)"
      ],
      "execution_count": 74,
      "outputs": [
        {
          "output_type": "execute_result",
          "data": {
            "text/plain": [
              "DecisionTreeRegressor(random_state=12)"
            ]
          },
          "metadata": {},
          "execution_count": 74
        }
      ]
    },
    {
      "cell_type": "markdown",
      "metadata": {
        "id": "cxMFlFz_YNJq"
      },
      "source": [
        "Validation"
      ]
    },
    {
      "cell_type": "code",
      "metadata": {
        "colab": {
          "base_uri": "https://localhost:8080/"
        },
        "id": "YH1C8VIpVHWy",
        "outputId": "56874321-a0f5-4543-946a-ad40e1a1b59a"
      },
      "source": [
        "# test the output by changing values, like 3750\n",
        "y_pred = dtr_model.predict(X_validation)\n",
        "  \n",
        "# print the predicted price\n",
        "print(\"Predicted O/C oil:\")\n",
        "print(y_pred) "
      ],
      "execution_count": 75,
      "outputs": [
        {
          "output_type": "stream",
          "name": "stdout",
          "text": [
            "Predicted O/C oil:\n",
            "[0.22418693 0.50155914 0.51910499 0.045      0.27452189 0.22418693\n",
            " 0.07610176 0.06348438 0.90725806 2.09310345 0.40237193 0.01284999\n",
            " 0.59123435 1.01100845 1.01100845 0.50797006 0.51910499 0.51910499\n",
            " 0.0961828  4.45849421 0.4        0.35637969 0.35637969 0.52542927\n",
            " 1.02649007 0.22731103 0.0961828  2.56113208 2.09310345 0.8995687\n",
            " 0.51910499 0.0961828  0.59123435]\n"
          ]
        }
      ]
    },
    {
      "cell_type": "code",
      "metadata": {
        "colab": {
          "base_uri": "https://localhost:8080/"
        },
        "id": "fnxP72XsVsjo",
        "outputId": "fcf948f9-9b38-48bb-da20-c761ec3161c4"
      },
      "source": [
        "from sklearn.metrics import mean_absolute_error\n",
        "\n",
        "y_pred = dtr_model.predict(X_validation)\n",
        "print(mean_absolute_error(Y_validation, y_pred), dtr_model.get_depth())\n",
        "#get_depth returns the depth of the tree"
      ],
      "execution_count": 76,
      "outputs": [
        {
          "output_type": "stream",
          "name": "stdout",
          "text": [
            "0.27305735302804557 17\n"
          ]
        }
      ]
    },
    {
      "cell_type": "markdown",
      "metadata": {
        "id": "eJiSm8AuYP4-"
      },
      "source": [
        "Test"
      ]
    },
    {
      "cell_type": "code",
      "metadata": {
        "colab": {
          "base_uri": "https://localhost:8080/"
        },
        "id": "yEFWPyDMYLsM",
        "outputId": "cd90b483-30cb-45df-ac96-9fe3891bda8a"
      },
      "source": [
        "# test the output by changing values, like 3750\n",
        "y_pred_test = dtr_model.predict(X_test)\n",
        "  \n",
        "# print the predicted price\n",
        "print(\"Predicted O/C oil:\")\n",
        "print(y_pred_test) "
      ],
      "execution_count": 77,
      "outputs": [
        {
          "output_type": "stream",
          "name": "stdout",
          "text": [
            "Predicted O/C oil:\n",
            "[0.22418693 0.0961828  0.22418693 0.22418693 0.59123435 0.14773106\n",
            " 1.01100845 0.045      1.01100845 0.90725806 0.22731103 0.24087168\n",
            " 0.90725806 0.7358741  0.10518333 2.09310345 0.582      0.59123435\n",
            " 0.26351351 0.61904762 0.045      0.04164612 0.33117859 0.92745218\n",
            " 0.04164612 0.30504009 0.22731103 0.30504009 0.27452189 0.0961828\n",
            " 0.26351351 0.50155914 0.6964548  0.61904762 0.61904762 0.8995687\n",
            " 0.045      0.51910499 2.09310345 1.01100845 0.7358741  0.50155914\n",
            " 0.51910499 0.22418693 0.52542927]\n"
          ]
        }
      ]
    },
    {
      "cell_type": "code",
      "metadata": {
        "colab": {
          "base_uri": "https://localhost:8080/"
        },
        "id": "KCSElzKXYR9u",
        "outputId": "d7afe7f0-3d6f-4c9d-f097-18a3859fadcb"
      },
      "source": [
        "from sklearn.metrics import mean_absolute_error\n",
        "\n",
        "y_pred_test = dtr_model.predict(X_test)\n",
        "print(mean_absolute_error(Y_test, y_pred_test), dtr_model.get_depth())\n",
        "#get_depth returns the depth of the tree"
      ],
      "execution_count": 73,
      "outputs": [
        {
          "output_type": "stream",
          "name": "stdout",
          "text": [
            "0.3318758927693795 6\n"
          ]
        }
      ]
    },
    {
      "cell_type": "code",
      "metadata": {
        "id": "mj2dcEN-Vb1O"
      },
      "source": [
        "# import export_graphviz\n",
        "from sklearn.tree import export_graphviz \n",
        "  \n",
        "# export the decision tree to a tree.dot file\n",
        "# for visualizing the plot easily anywhere\n",
        "export_graphviz(dtr_model, out_file ='tree.dot',\n",
        "               feature_names = X.columns) "
      ],
      "execution_count": 63,
      "outputs": []
    },
    {
      "cell_type": "code",
      "metadata": {
        "id": "yUQ2GRO1RoCH"
      },
      "source": [
        ""
      ],
      "execution_count": null,
      "outputs": []
    },
    {
      "cell_type": "markdown",
      "metadata": {
        "id": "li20oswBRog5"
      },
      "source": [
        "#Random Forest"
      ]
    },
    {
      "cell_type": "code",
      "metadata": {
        "colab": {
          "base_uri": "https://localhost:8080/"
        },
        "id": "cATUqIOTRog5",
        "outputId": "e1a8748e-401a-4cca-becc-cd9c0a20c8e9"
      },
      "source": [
        "#Random Forest\n",
        "from sklearn.ensemble import RandomForestRegressor \n",
        "rf = RandomForestRegressor(n_estimators=200, random_state=12)\n",
        "rf.fit(X_train, Y_train)"
      ],
      "execution_count": 120,
      "outputs": [
        {
          "output_type": "execute_result",
          "data": {
            "text/plain": [
              "RandomForestRegressor(n_estimators=200, random_state=12)"
            ]
          },
          "metadata": {},
          "execution_count": 120
        }
      ]
    },
    {
      "cell_type": "markdown",
      "metadata": {
        "id": "lgWIcCJ_Rog5"
      },
      "source": [
        "Validation"
      ]
    },
    {
      "cell_type": "code",
      "metadata": {
        "colab": {
          "base_uri": "https://localhost:8080/"
        },
        "id": "tmuKuqomRog5",
        "outputId": "7ac22916-416d-4028-9b3c-6464fdfa3fd0"
      },
      "source": [
        "# test the output by changing values, like 3750\n",
        "y_pred = rf.predict(X_validation)\n",
        "  \n",
        "# print the predicted price\n",
        "print(\"Predicted O/C oil:\")\n",
        "print(y_pred) "
      ],
      "execution_count": 121,
      "outputs": [
        {
          "output_type": "stream",
          "name": "stdout",
          "text": [
            "Predicted O/C oil:\n",
            "[0.31194116 0.43046851 0.58436023 0.28678452 0.27878559 0.27784814\n",
            " 0.12773934 0.11515267 0.71942359 0.79512011 0.53268664 0.1818612\n",
            " 1.20559634 0.93309396 0.82556456 0.54627475 0.70615209 0.58436023\n",
            " 0.21137533 2.56234442 0.741689   0.45065698 0.45065698 0.58493463\n",
            " 0.75056629 0.47973738 0.17369874 1.81923942 1.21188226 1.01125805\n",
            " 0.70520706 0.1733849  1.17809407]\n"
          ]
        }
      ]
    },
    {
      "cell_type": "code",
      "metadata": {
        "colab": {
          "base_uri": "https://localhost:8080/"
        },
        "id": "rdO7IcQrRog5",
        "outputId": "a5ee363f-77dc-448d-b92f-6cf33a16b13b"
      },
      "source": [
        "from sklearn.metrics import mean_absolute_error\n",
        "\n",
        "y_pred = dtr_model.predict(X_validation)\n",
        "print(mean_absolute_error(Y_validation, y_pred))\n",
        "#get_depth returns the depth of the tree"
      ],
      "execution_count": 122,
      "outputs": [
        {
          "output_type": "stream",
          "name": "stdout",
          "text": [
            "0.27305735302804557\n"
          ]
        }
      ]
    },
    {
      "cell_type": "markdown",
      "metadata": {
        "id": "HsvmmlEaRog6"
      },
      "source": [
        "Test"
      ]
    },
    {
      "cell_type": "code",
      "metadata": {
        "colab": {
          "base_uri": "https://localhost:8080/"
        },
        "id": "4C2ItaY9Rog6",
        "outputId": "e43e30b1-8896-4506-c6be-11abe8e9ead0"
      },
      "source": [
        "# test the output by changing values, like 3750\n",
        "y_pred_test = rf.predict(X_test)\n",
        "  \n",
        "# print the predicted price\n",
        "print(\"Predicted O/C oil:\")\n",
        "print(y_pred_test) "
      ],
      "execution_count": 123,
      "outputs": [
        {
          "output_type": "stream",
          "name": "stdout",
          "text": [
            "Predicted O/C oil:\n",
            "[0.28435584 0.17603795 0.27784814 0.40155116 1.17809407 0.20502289\n",
            " 0.98299673 0.29447374 0.98299673 0.71586785 0.75471882 0.25071242\n",
            " 0.73091776 0.6878837  0.18157373 1.21188226 0.22633789 0.69047306\n",
            " 0.29993273 0.92107994 0.07280841 0.15369246 0.87059447 0.83990567\n",
            " 0.11556224 0.28793514 0.53901947 0.28793514 0.27878559 0.18448495\n",
            " 0.29993273 0.43046851 0.52965895 0.92107994 0.92107994 1.25006172\n",
            " 0.1131743  0.58436023 1.21188226 1.14269993 0.69759554 0.32602449\n",
            " 0.68177185 0.40155116 0.58493463]\n"
          ]
        }
      ]
    },
    {
      "cell_type": "code",
      "metadata": {
        "colab": {
          "base_uri": "https://localhost:8080/"
        },
        "id": "zR7twUFaRog6",
        "outputId": "2b236a1a-668b-428d-8435-cde9cdb0bda1"
      },
      "source": [
        "from sklearn.metrics import mean_absolute_error\n",
        "\n",
        "y_pred_test = rf.predict(X_test)\n",
        "print(mean_absolute_error(Y_test, y_pred_test))\n",
        "#get_depth returns the depth of the tree"
      ],
      "execution_count": 124,
      "outputs": [
        {
          "output_type": "stream",
          "name": "stdout",
          "text": [
            "0.3621912424030793\n"
          ]
        }
      ]
    },
    {
      "cell_type": "code",
      "metadata": {
        "id": "NO_YEffiRog6"
      },
      "source": [
        "# import export_graphviz\n",
        "from sklearn.tree import export_graphviz \n",
        "  \n",
        "# export the decision tree to a tree.dot file\n",
        "# for visualizing the plot easily anywhere\n",
        "export_graphviz(dtr_model, out_file ='tree.dot',\n",
        "               feature_names = X.columns) "
      ],
      "execution_count": 125,
      "outputs": []
    },
    {
      "cell_type": "markdown",
      "metadata": {
        "id": "8D2wzoU3ZACu"
      },
      "source": [
        "#Linear Regression"
      ]
    },
    {
      "cell_type": "code",
      "metadata": {
        "colab": {
          "base_uri": "https://localhost:8080/"
        },
        "id": "flMZQ3MVY_gP",
        "outputId": "b27c876c-f7c1-4f49-d678-94bd27bbdf9b"
      },
      "source": [
        "from sklearn.linear_model import LinearRegression\n",
        "regressor = LinearRegression()\n",
        "regressor.fit(X_train,Y_train)"
      ],
      "execution_count": 43,
      "outputs": [
        {
          "output_type": "execute_result",
          "data": {
            "text/plain": [
              "LinearRegression()"
            ]
          },
          "metadata": {},
          "execution_count": 43
        }
      ]
    },
    {
      "cell_type": "code",
      "metadata": {
        "colab": {
          "base_uri": "https://localhost:8080/"
        },
        "id": "CxMwuMIoZEw-",
        "outputId": "7c4cd741-f5f2-4a48-ccbb-bee8d9942648"
      },
      "source": [
        "# test the output by changing values, like 3750\n",
        "y_pred = regressor.predict(X_validation)\n",
        "  \n",
        "# print the predicted price\n",
        "print(\"Predicted O/C oil:\")\n",
        "print(y_pred) "
      ],
      "execution_count": 44,
      "outputs": [
        {
          "output_type": "stream",
          "name": "stdout",
          "text": [
            "Predicted O/C oil:\n",
            "[-1.05755402  0.42997191  1.16406152 -0.14249273  0.75566844  0.00793976\n",
            "  0.17795011  0.02620558  0.61357694  0.68599087 -0.17456938  0.28709747\n",
            "  0.18872729  0.35516259  0.97097268  0.55146584  0.56013284  1.16406152\n",
            "  1.21230873  2.87903918  1.70590429  0.32307617  0.32307617  0.41397996\n",
            "  0.96734083 -0.2995933  -0.28266913  1.03140697  0.49615572  1.65862981\n",
            "  0.57784     0.32209918  0.22144058]\n"
          ]
        }
      ]
    },
    {
      "cell_type": "code",
      "metadata": {
        "colab": {
          "base_uri": "https://localhost:8080/"
        },
        "id": "ymMODQCjZM_l",
        "outputId": "aa04b4df-fe3f-4b89-ae44-b12f9a95f508"
      },
      "source": [
        "from sklearn.metrics import mean_absolute_error\n",
        "\n",
        "y_pred = regressor.predict(X_validation)\n",
        "print(mean_absolute_error(Y_validation, y_pred))\n"
      ],
      "execution_count": 45,
      "outputs": [
        {
          "output_type": "stream",
          "name": "stdout",
          "text": [
            "0.4860560192585534\n"
          ]
        }
      ]
    },
    {
      "cell_type": "markdown",
      "metadata": {
        "id": "9ksHfkD4dL11"
      },
      "source": [
        "#Models"
      ]
    },
    {
      "cell_type": "code",
      "metadata": {
        "id": "0p8Y-7k0dNNn"
      },
      "source": [
        "from sklearn.metrics import explained_variance_score,mean_absolute_error,r2_score\n",
        "from time import time\n",
        "\n",
        "from sklearn.linear_model import LinearRegression, Ridge,Lasso\n",
        "from sklearn.neighbors import KNeighborsRegressor\n",
        "from sklearn.ensemble import GradientBoostingRegressor\n",
        "from sklearn.ensemble import ExtraTreesRegressor, RandomForestRegressor\n",
        "from sklearn.tree import DecisionTreeRegressor"
      ],
      "execution_count": 46,
      "outputs": []
    },
    {
      "cell_type": "code",
      "metadata": {
        "id": "ZlxtqdV8dPYZ"
      },
      "source": [
        "regressors = [\n",
        "    KNeighborsRegressor(),\n",
        "    GradientBoostingRegressor(),\n",
        "    ExtraTreesRegressor(),\n",
        "    RandomForestRegressor(),\n",
        "    DecisionTreeRegressor(),\n",
        "    LinearRegression(),\n",
        "    Lasso(),\n",
        "    Ridge()\n",
        "]"
      ],
      "execution_count": 47,
      "outputs": []
    },
    {
      "cell_type": "code",
      "metadata": {
        "colab": {
          "base_uri": "https://localhost:8080/"
        },
        "id": "7hSaLHeddR_z",
        "outputId": "ef4d45e6-f13d-41aa-ed29-0c4775e2edd8"
      },
      "source": [
        "head = 10\n",
        "for model in regressors[:head]:\n",
        "    start = time()\n",
        "    model.fit(X_train, Y_train)\n",
        "    train_time = time() - start\n",
        "    start = time()\n",
        "    y_pred = model.predict(X_validation)\n",
        "    predict_time = time()-start    \n",
        "    print(model)\n",
        "    print(\"\\tTraining time: %0.3fs\" % train_time)\n",
        "    print(\"\\tPrediction time: %0.3fs\" % predict_time)\n",
        "    print(\"\\tExplained variance:\", explained_variance_score(Y_validation, y_pred))\n",
        "    print(\"\\tMean absolute error:\", mean_absolute_error(Y_validation, y_pred))\n",
        "    print(\"\\tR2 score:\", r2_score(Y_validation, y_pred))\n",
        "    print()"
      ],
      "execution_count": 48,
      "outputs": [
        {
          "output_type": "stream",
          "name": "stdout",
          "text": [
            "KNeighborsRegressor()\n",
            "\tTraining time: 0.000s\n",
            "\tPrediction time: 0.002s\n",
            "\tExplained variance: 0.0896426297613595\n",
            "\tMean absolute error: 0.5027684839488219\n",
            "\tR2 score: 0.07169126310400264\n",
            "\n",
            "GradientBoostingRegressor()\n",
            "\tTraining time: 0.062s\n",
            "\tPrediction time: 0.000s\n",
            "\tExplained variance: 0.6637612385760616\n",
            "\tMean absolute error: 0.32802539925105645\n",
            "\tR2 score: 0.662053485595042\n",
            "\n",
            "ExtraTreesRegressor()\n",
            "\tTraining time: 0.122s\n",
            "\tPrediction time: 0.013s\n",
            "\tExplained variance: 0.528777986615638\n",
            "\tMean absolute error: 0.4105639182696837\n",
            "\tR2 score: 0.5161223636211165\n",
            "\n",
            "RandomForestRegressor()\n",
            "\tTraining time: 0.174s\n",
            "\tPrediction time: 0.009s\n",
            "\tExplained variance: 0.5698052612656423\n",
            "\tMean absolute error: 0.37244049728989115\n",
            "\tR2 score: 0.5688908094547183\n",
            "\n",
            "DecisionTreeRegressor()\n",
            "\tTraining time: 0.001s\n",
            "\tPrediction time: 0.000s\n",
            "\tExplained variance: 0.6934301942028853\n",
            "\tMean absolute error: 0.28729697572844026\n",
            "\tR2 score: 0.6905737940077722\n",
            "\n",
            "LinearRegression()\n",
            "\tTraining time: 0.001s\n",
            "\tPrediction time: 0.000s\n",
            "\tExplained variance: 0.3469745653159033\n",
            "\tMean absolute error: 0.4860560192585534\n",
            "\tR2 score: 0.3224432040170162\n",
            "\n",
            "Lasso()\n",
            "\tTraining time: 0.001s\n",
            "\tPrediction time: 0.000s\n",
            "\tExplained variance: 0.0\n",
            "\tMean absolute error: 0.5031554298854205\n",
            "\tR2 score: -0.03210594143110912\n",
            "\n",
            "Ridge()\n",
            "\tTraining time: 0.001s\n",
            "\tPrediction time: 0.000s\n",
            "\tExplained variance: 0.3840024827728479\n",
            "\tMean absolute error: 0.465265953901204\n",
            "\tR2 score: 0.36564752090480557\n",
            "\n"
          ]
        }
      ]
    },
    {
      "cell_type": "code",
      "metadata": {
        "id": "Ee4cfTRUdV-t"
      },
      "source": [
        "from sklearn.model_selection import GridSearchCV"
      ],
      "execution_count": 49,
      "outputs": []
    },
    {
      "cell_type": "code",
      "metadata": {
        "id": "pJ3raWDTdXSj"
      },
      "source": [
        "parameters = { 'loss' : ['ls', 'lad', 'huber', 'quantile'],\n",
        "              'learning_rate' : (0.05,0.25,0.50,1),\n",
        "              'criterion' : ['friedman_mse', 'mse', 'mae'],\n",
        "              'max_features' : ['auto', 'sqrt', 'log2']\n",
        "             }"
      ],
      "execution_count": 38,
      "outputs": []
    },
    {
      "cell_type": "code",
      "metadata": {
        "id": "HoTt8wxlgEGS"
      },
      "source": [
        "tree_param = {'max_depth':[4,5,6,7,8,9,10,11,12,13,14,15,16,17,18,19,20]}"
      ],
      "execution_count": 78,
      "outputs": []
    },
    {
      "cell_type": "code",
      "metadata": {
        "id": "1GBi3B4vd-2f"
      },
      "source": [
        "df_1=pd.DataFrame(X_train)\n",
        "df_2=pd.DataFrame(X_validation)\n",
        "\n",
        "X_n=df_1.append(df_2, ignore_index=True)\n",
        "\n",
        "df_1=pd.DataFrame(Y_train)\n",
        "df_2=pd.DataFrame(Y_validation)\n",
        "\n",
        "Y_n=df_1.append(df_2, ignore_index=True)\n",
        "\n",
        "X_n=np.array(X_n)\n",
        "Y_n=np.array(Y_n)\n",
        "\n",
        "\n",
        "X_n_test=X_test\n",
        "Y_n_test=Y_test"
      ],
      "execution_count": 79,
      "outputs": []
    },
    {
      "cell_type": "code",
      "metadata": {
        "colab": {
          "base_uri": "https://localhost:8080/"
        },
        "id": "ohYquaE8dYc6",
        "outputId": "3b7a8982-5418-4fd1-b033-f8ca36725925"
      },
      "source": [
        "grid = GridSearchCV(DecisionTreeRegressor(), tree_param)\n",
        "model = grid.fit(X_n,Y_n)\n",
        "print(model.best_params_,'\\n')\n",
        "print(model.best_estimator_,'\\n')"
      ],
      "execution_count": 89,
      "outputs": [
        {
          "output_type": "stream",
          "name": "stdout",
          "text": [
            "{'max_depth': 4} \n",
            "\n",
            "DecisionTreeRegressor(max_depth=4) \n",
            "\n"
          ]
        }
      ]
    },
    {
      "cell_type": "code",
      "metadata": {
        "id": "x1Orn6WofDL0"
      },
      "source": [
        "#{'criterion': 'mae', 'learning_rate': 0.05, 'loss': 'ls', 'max_features': 'auto'} \n",
        "\n",
        "model=GradientBoostingRegressor(criterion='mae', learning_rate=0.05, loss='ls',\n",
        "                          max_features='auto') "
      ],
      "execution_count": 81,
      "outputs": []
    },
    {
      "cell_type": "code",
      "metadata": {
        "id": "zPe7dkEtQcb2"
      },
      "source": [
        "#{'criterion': 'mae', 'learning_rate': 0.05, 'loss': 'huber', 'max_features': 'auto'} \n",
        "\n",
        "model=DecisionTreeRegressor(max_depth=4)"
      ],
      "execution_count": 102,
      "outputs": []
    },
    {
      "cell_type": "code",
      "metadata": {
        "id": "VnNy8cFjfaof",
        "colab": {
          "base_uri": "https://localhost:8080/"
        },
        "outputId": "79ec25b6-4161-4baa-a87b-81a833df7fd0"
      },
      "source": [
        "model.fit(X_n, Y_n)"
      ],
      "execution_count": 103,
      "outputs": [
        {
          "output_type": "execute_result",
          "data": {
            "text/plain": [
              "DecisionTreeRegressor(max_depth=4)"
            ]
          },
          "metadata": {},
          "execution_count": 103
        }
      ]
    },
    {
      "cell_type": "code",
      "metadata": {
        "id": "b7iEN5jnfhDq"
      },
      "source": [
        "y_pred=model.predict(X_n_test)"
      ],
      "execution_count": 104,
      "outputs": []
    },
    {
      "cell_type": "code",
      "metadata": {
        "colab": {
          "base_uri": "https://localhost:8080/",
          "height": 342
        },
        "id": "1GSTEVAqfSnu",
        "outputId": "fe19b4d2-399a-469b-ba2e-00ae3b77161b"
      },
      "source": [
        "sns.distplot(y_pred-Y_n_test)"
      ],
      "execution_count": 105,
      "outputs": [
        {
          "output_type": "stream",
          "name": "stderr",
          "text": [
            "/usr/local/lib/python3.7/dist-packages/seaborn/distributions.py:2619: FutureWarning: `distplot` is a deprecated function and will be removed in a future version. Please adapt your code to use either `displot` (a figure-level function with similar flexibility) or `histplot` (an axes-level function for histograms).\n",
            "  warnings.warn(msg, FutureWarning)\n"
          ]
        },
        {
          "output_type": "execute_result",
          "data": {
            "text/plain": [
              "<matplotlib.axes._subplots.AxesSubplot at 0x7ffb3dbcf110>"
            ]
          },
          "metadata": {},
          "execution_count": 105
        },
        {
          "output_type": "display_data",
          "data": {
            "image/png": "[encoded data removed]",
            "text/plain": [
              "<Figure size 432x288 with 1 Axes>"
            ]
          },
          "metadata": {
            "needs_background": "light"
          }
        }
      ]
    },
    {
      "cell_type": "code",
      "metadata": {
        "colab": {
          "base_uri": "https://localhost:8080/"
        },
        "id": "sT2BrqwLdbau",
        "outputId": "35991e93-fba9-4a9d-9b88-224ed91e16e6"
      },
      "source": [
        "df_1 = pd.DataFrame(grid.cv_results_).set_index('rank_test_score').sort_index()\n",
        "df_1.shape"
      ],
      "execution_count": 50,
      "outputs": [
        {
          "output_type": "execute_result",
          "data": {
            "text/plain": [
              "(144, 16)"
            ]
          },
          "metadata": {},
          "execution_count": 50
        }
      ]
    },
    {
      "cell_type": "code",
      "metadata": {
        "colab": {
          "base_uri": "https://localhost:8080/"
        },
        "id": "0cgp0gAof1t9",
        "outputId": "86e2c349-7918-41eb-fafa-a3753295894b"
      },
      "source": [
        "from sklearn.metrics import mean_absolute_error\n",
        "\n",
        "y_pred = model.predict(X_n_test)\n",
        "print(mean_absolute_error(Y_n_test, y_pred))"
      ],
      "execution_count": 106,
      "outputs": [
        {
          "output_type": "stream",
          "name": "stdout",
          "text": [
            "0.4258524197212394\n"
          ]
        }
      ]
    },
    {
      "cell_type": "markdown",
      "metadata": {
        "id": "5lRvmorCZlTt"
      },
      "source": [
        "#Soluzione Finale"
      ]
    },
    {
      "cell_type": "code",
      "metadata": {
        "id": "KWK8eaozZoEi"
      },
      "source": [
        "# importo il csv\n",
        "\n",
        "with open(\"/content/drive/MyDrive/Minicontest2/Test.xlsx\", 'rb') as fp:\n",
        "    df_test = pd.read_excel(fp)\n",
        "\n",
        "df_test"
      ],
      "execution_count": null,
      "outputs": []
    },
    {
      "cell_type": "code",
      "metadata": {
        "id": "_vXxQycEi5q6"
      },
      "source": [
        "df_test=df_test.drop(columns=[\"O/C oil\"], axis=1)           "
      ],
      "execution_count": 134,
      "outputs": []
    },
    {
      "cell_type": "code",
      "metadata": {
        "id": "PPBKlWGhZ3QE"
      },
      "source": [
        "df1 = df_test[df_test.isna().any(axis=1)]\n",
        "\n",
        "df1"
      ],
      "execution_count": null,
      "outputs": []
    },
    {
      "cell_type": "code",
      "metadata": {
        "colab": {
          "base_uri": "https://localhost:8080/"
        },
        "id": "ULL47tQXaJWU",
        "outputId": "9300fc8f-ea0b-4629-d033-a965c060cce8"
      },
      "source": [
        "categorical_cols=df_test.columns[df_test.dtypes==object].tolist()\n",
        "categorical_cols"
      ],
      "execution_count": 136,
      "outputs": [
        {
          "output_type": "execute_result",
          "data": {
            "text/plain": [
              "['Material_1', 'Type_1', 'Pretreatment_1', 'Particle Size, mm_1']"
            ]
          },
          "metadata": {},
          "execution_count": 136
        }
      ]
    },
    {
      "cell_type": "code",
      "metadata": {
        "id": "8ixg5PkZaSda"
      },
      "source": [
        "df_test[\"Material_1_cat\"]=df_test[\"Material_1\"].astype('category').cat.codes\n",
        "df_test[\"Type_1_cat\"]=df_test[\"Type_1\"].astype('category').cat.codes\n",
        "df_test[\"Pretreatment_1_cat\"]=df_test[\"Pretreatment_1\"].astype('category').cat.codes\n",
        "df_test[\"Particle Size, mm_1_cat\"]=df_test[\"Particle Size, mm_1\"].astype('category').cat.codes"
      ],
      "execution_count": 137,
      "outputs": []
    },
    {
      "cell_type": "code",
      "metadata": {
        "id": "4VYITN58ak00"
      },
      "source": [
        "df_test=df_test.drop(columns=['Material_1', 'Type_1', 'Pretreatment_1', 'Particle Size, mm_1'])"
      ],
      "execution_count": 138,
      "outputs": []
    },
    {
      "cell_type": "code",
      "metadata": {
        "id": "irR7qrQxUV1n"
      },
      "source": [
        "df_test=df_test.drop(columns=[\"Cl_1\",\"Extractives_1\"])\n",
        "df_test=df_test.drop(columns=to_drop)"
      ],
      "execution_count": 141,
      "outputs": []
    },
    {
      "cell_type": "code",
      "metadata": {
        "id": "xPhaUmGuagtC"
      },
      "source": [
        "for column in df_test.columns[:-5]:\n",
        "  \n",
        "  df_test[column]=df_test[column].fillna(mediane[column])\n",
        "\n",
        "df_test=df_test.fillna(-1)\n"
      ],
      "execution_count": 142,
      "outputs": []
    },
    {
      "cell_type": "code",
      "metadata": {
        "id": "NfEAYOe4hnSl"
      },
      "source": [
        ""
      ],
      "execution_count": null,
      "outputs": []
    },
    {
      "cell_type": "markdown",
      "metadata": {
        "id": "cix4s76phnu4"
      },
      "source": [
        "#Decision Tree"
      ]
    },
    {
      "cell_type": "code",
      "metadata": {
        "id": "eJ-6ZwYOcq3P"
      },
      "source": [
        "#Dataset train\n",
        "X=df.drop(columns=[\"O/C oil\", 'Material_1', 'Type_1', 'Pretreatment_1', 'Particle Size, mm_1'])\n",
        "Y=df[\"O/C oil\"]"
      ],
      "execution_count": null,
      "outputs": []
    },
    {
      "cell_type": "code",
      "metadata": {
        "id": "1_7oSdNehsH9"
      },
      "source": [
        "for column in X.columns[3:-1]:\n",
        "  \n",
        "  X[column]=X[column].fillna(mediane[column])\n",
        "\n",
        "X=X.fillna(-1)\n"
      ],
      "execution_count": null,
      "outputs": []
    },
    {
      "cell_type": "code",
      "metadata": {
        "id": "DC19CZ-aiJ3s"
      },
      "source": [
        "#Scale the data (Feature Scaling Z Score) z = (x - u) / s\n",
        "from sklearn.preprocessing import StandardScaler\n",
        "sc=StandardScaler()\n",
        "X = sc.fit_transform(X)\n",
        "X_test = sc.transform(df_test)"
      ],
      "execution_count": null,
      "outputs": []
    },
    {
      "cell_type": "code",
      "metadata": {
        "colab": {
          "base_uri": "https://localhost:8080/"
        },
        "id": "VVu4W7ntji98",
        "outputId": "a99f0970-ac7c-4f3b-9a1a-30fa6d8e5981"
      },
      "source": [
        "#Decision Tree\n",
        "from sklearn.tree import DecisionTreeRegressor \n",
        "dtr_model = DecisionTreeRegressor(max_depth=8, random_state=42)\n",
        "dtr_model.fit(X, Y)"
      ],
      "execution_count": null,
      "outputs": [
        {
          "output_type": "execute_result",
          "data": {
            "text/plain": [
              "DecisionTreeRegressor(max_depth=8, random_state=42)"
            ]
          },
          "metadata": {},
          "execution_count": 34
        }
      ]
    },
    {
      "cell_type": "code",
      "metadata": {
        "colab": {
          "base_uri": "https://localhost:8080/"
        },
        "id": "O8xDQqFSjrzn",
        "outputId": "4037131f-8b55-4298-c7a5-5cf090688966"
      },
      "source": [
        "# test the output by changing values, like 3750\n",
        "y_pred = dtr_model.predict(X_test)\n",
        "  \n",
        "# print the predicted price\n",
        "print(\"Predicted O/C oil:\")\n",
        "print(y_pred) "
      ],
      "execution_count": null,
      "outputs": [
        {
          "output_type": "stream",
          "name": "stdout",
          "text": [
            "Predicted O/C oil:\n",
            "[0.72516599 1.31644918 0.46138152 0.30721455 0.30721455 0.08388422\n",
            " 0.30521715 1.31644918 0.72516599 0.87619435 0.30721455 0.8811328\n",
            " 0.30721455 0.41343153 1.31644918 0.64851941 1.87914057 0.48761921\n",
            " 0.30721455 2.21745756 0.04772499 0.30721455 0.72516599 0.30721455\n",
            " 0.61300544 0.30721455 0.30721455 0.08388422 0.33117859 0.8811328\n",
            " 0.30721455 0.48761921 0.30721455 0.30721455 0.78059528 0.30721455\n",
            " 0.91022965 0.94505771 0.04772499 0.30721455 0.66997027 0.30721455\n",
            " 0.30721455 0.64851941 0.48761921 1.31644918 0.8811328  1.31644918\n",
            " 1.87914057 0.24139839 0.46069182 0.30721455 0.22393193 1.42204301\n",
            " 0.08388422 0.30721455 0.64851941 1.31644918 0.30721455 0.66997027\n",
            " 0.30721455 0.8926584  0.30721455 1.20179916 0.30721455 0.78059528\n",
            " 0.30721455 0.30721455 0.282882   0.30721455 0.78059528 0.64851941\n",
            " 2.21745756 0.30721455 0.8926584  0.66997027 0.8811328  2.21745756\n",
            " 0.46669502 0.30721455 0.72516599 0.64851941 0.78059528 0.46138152\n",
            " 0.30721455 0.30721455 0.06042876 0.30721455 0.76957887 0.64851941]\n"
          ]
        }
      ]
    },
    {
      "cell_type": "code",
      "metadata": {
        "id": "jYdG4dbuUehN"
      },
      "source": [
        ""
      ],
      "execution_count": null,
      "outputs": []
    },
    {
      "cell_type": "markdown",
      "metadata": {
        "id": "S3kDFMN1UezY"
      },
      "source": [
        "#Random Forest"
      ]
    },
    {
      "cell_type": "code",
      "metadata": {
        "id": "fuZY6PEpUezY"
      },
      "source": [
        "#Dataset train\n",
        "X=df.drop(columns=[\"O/C oil\", 'Material_1', 'Type_1', 'Pretreatment_1', 'Particle Size, mm_1'])\n",
        "Y=df[\"O/C oil\"]"
      ],
      "execution_count": 143,
      "outputs": []
    },
    {
      "cell_type": "code",
      "metadata": {
        "id": "Ehj0j8z2UezZ"
      },
      "source": [
        "for column in X.columns[3:-1]:\n",
        "  \n",
        "  X[column]=X[column].fillna(mediane[column])\n",
        "\n",
        "X=X.fillna(-1)\n"
      ],
      "execution_count": 144,
      "outputs": []
    },
    {
      "cell_type": "code",
      "metadata": {
        "id": "qeOEuQPZUezZ"
      },
      "source": [
        "#Scale the data (Feature Scaling Z Score) z = (x - u) / s\n",
        "from sklearn.preprocessing import StandardScaler\n",
        "sc=StandardScaler()\n",
        "X = sc.fit_transform(X)\n",
        "X_test = sc.transform(df_test)"
      ],
      "execution_count": 145,
      "outputs": []
    },
    {
      "cell_type": "code",
      "metadata": {
        "colab": {
          "base_uri": "https://localhost:8080/"
        },
        "id": "DbiyZDfAUezZ",
        "outputId": "fb323654-aafa-4916-b2da-43c8d9c622c9"
      },
      "source": [
        "#RF\n",
        "from sklearn.ensemble import RandomForestRegressor \n",
        "rf = RandomForestRegressor(n_estimators=200, random_state=12)\n",
        "rf.fit(X, Y)"
      ],
      "execution_count": 146,
      "outputs": [
        {
          "output_type": "execute_result",
          "data": {
            "text/plain": [
              "RandomForestRegressor(n_estimators=200, random_state=12)"
            ]
          },
          "metadata": {},
          "execution_count": 146
        }
      ]
    },
    {
      "cell_type": "code",
      "metadata": {
        "colab": {
          "base_uri": "https://localhost:8080/"
        },
        "id": "BlU14gSdUezZ",
        "outputId": "d06a1e12-9844-4624-8a24-8ed94ea30c2b"
      },
      "source": [
        "# test the output by changing values, like 3750\n",
        "y_pred = rf.predict(X_test)\n",
        "  \n",
        "# print the predicted price\n",
        "print(\"Predicted O/C oil:\")\n",
        "print(y_pred) "
      ],
      "execution_count": 148,
      "outputs": [
        {
          "output_type": "stream",
          "name": "stdout",
          "text": [
            "Predicted O/C oil:\n",
            "[0.87599174 0.81137241 0.44954161 0.4066833  0.44349514 0.12322578\n",
            " 1.51337699 1.32946259 0.80291502 0.74361537 0.37485962 0.76202341\n",
            " 0.65996476 0.49176126 0.76107817 0.49567237 0.37904451 0.57127896\n",
            " 0.30490791 0.85157331 0.14597899 0.37843261 0.767311   0.43828326\n",
            " 0.78142976 0.38944424 0.39758405 0.11503681 0.62653724 0.64365925\n",
            " 0.43646712 0.52897308 0.4440837  0.4440837  0.35025728 0.56171529\n",
            " 0.53185344 0.89860204 0.29376821 0.3553974  0.67081078 0.37859999\n",
            " 0.50322781 1.26960385 0.52897308 0.98915707 0.66520868 0.53452327\n",
            " 0.8546566  0.28470654 0.59041615 0.44349514 1.31081062 0.86709924\n",
            " 0.12322578 0.65996476 0.66908434 1.32946259 0.48153374 0.67081078\n",
            " 0.44349514 0.80805235 0.43646712 0.61723294 0.32482909 0.33861397\n",
            " 0.44349514 0.44629155 0.58103685 0.44349514 0.34994212 0.49567237\n",
            " 1.67642529 0.26580885 0.83853778 0.67081078 0.60247112 0.72192623\n",
            " 0.56334972 0.52282205 0.6831483  0.53880369 0.38013138 0.36603552\n",
            " 0.4463054  0.29712214 0.44658997 0.31291974 0.56075473 0.5551232 ]\n"
          ]
        }
      ]
    },
    {
      "cell_type": "markdown",
      "metadata": {
        "id": "0k99N-IfcrMx"
      },
      "source": [
        "#Output file"
      ]
    },
    {
      "cell_type": "code",
      "metadata": {
        "colab": {
          "base_uri": "https://localhost:8080/"
        },
        "id": "W5-p09e9byrS",
        "outputId": "cd8d6946-2ce1-4e4f-c40e-d4072d8ff345"
      },
      "source": [
        "id_list=[]\n",
        "\n",
        "for i in range(1,91):\n",
        "  id_list.append(i)\n",
        "\n",
        "id=np.array(id_list)  #id\n",
        "\n",
        "id"
      ],
      "execution_count": 149,
      "outputs": [
        {
          "output_type": "execute_result",
          "data": {
            "text/plain": [
              "array([ 1,  2,  3,  4,  5,  6,  7,  8,  9, 10, 11, 12, 13, 14, 15, 16, 17,\n",
              "       18, 19, 20, 21, 22, 23, 24, 25, 26, 27, 28, 29, 30, 31, 32, 33, 34,\n",
              "       35, 36, 37, 38, 39, 40, 41, 42, 43, 44, 45, 46, 47, 48, 49, 50, 51,\n",
              "       52, 53, 54, 55, 56, 57, 58, 59, 60, 61, 62, 63, 64, 65, 66, 67, 68,\n",
              "       69, 70, 71, 72, 73, 74, 75, 76, 77, 78, 79, 80, 81, 82, 83, 84, 85,\n",
              "       86, 87, 88, 89, 90])"
            ]
          },
          "metadata": {},
          "execution_count": 149
        }
      ]
    },
    {
      "cell_type": "code",
      "metadata": {
        "colab": {
          "base_uri": "https://localhost:8080/",
          "height": 423
        },
        "id": "FbMANZvYcYTd",
        "outputId": "ee3305b6-9b18-415c-ab00-9deb8d96b41e"
      },
      "source": [
        "colonna_1=pd.DataFrame(id, columns=['ID'])\n",
        "\n",
        "colonna_1"
      ],
      "execution_count": 150,
      "outputs": [
        {
          "output_type": "execute_result",
          "data": {
            "text/html": [
              "<div>\n",
              "<style scoped>\n",
              "    .dataframe tbody tr th:only-of-type {\n",
              "        vertical-align: middle;\n",
              "    }\n",
              "\n",
              "    .dataframe tbody tr th {\n",
              "        vertical-align: top;\n",
              "    }\n",
              "\n",
              "    .dataframe thead th {\n",
              "        text-align: right;\n",
              "    }\n",
              "</style>\n",
              "<table border=\"1\" class=\"dataframe\">\n",
              "  <thead>\n",
              "    <tr style=\"text-align: right;\">\n",
              "      <th></th>\n",
              "      <th>ID</th>\n",
              "    </tr>\n",
              "  </thead>\n",
              "  <tbody>\n",
              "    <tr>\n",
              "      <th>0</th>\n",
              "      <td>1</td>\n",
              "    </tr>\n",
              "    <tr>\n",
              "      <th>1</th>\n",
              "      <td>2</td>\n",
              "    </tr>\n",
              "    <tr>\n",
              "      <th>2</th>\n",
              "      <td>3</td>\n",
              "    </tr>\n",
              "    <tr>\n",
              "      <th>3</th>\n",
              "      <td>4</td>\n",
              "    </tr>\n",
              "    <tr>\n",
              "      <th>4</th>\n",
              "      <td>5</td>\n",
              "    </tr>\n",
              "    <tr>\n",
              "      <th>...</th>\n",
              "      <td>...</td>\n",
              "    </tr>\n",
              "    <tr>\n",
              "      <th>85</th>\n",
              "      <td>86</td>\n",
              "    </tr>\n",
              "    <tr>\n",
              "      <th>86</th>\n",
              "      <td>87</td>\n",
              "    </tr>\n",
              "    <tr>\n",
              "      <th>87</th>\n",
              "      <td>88</td>\n",
              "    </tr>\n",
              "    <tr>\n",
              "      <th>88</th>\n",
              "      <td>89</td>\n",
              "    </tr>\n",
              "    <tr>\n",
              "      <th>89</th>\n",
              "      <td>90</td>\n",
              "    </tr>\n",
              "  </tbody>\n",
              "</table>\n",
              "<p>90 rows × 1 columns</p>\n",
              "</div>"
            ],
            "text/plain": [
              "    ID\n",
              "0    1\n",
              "1    2\n",
              "2    3\n",
              "3    4\n",
              "4    5\n",
              "..  ..\n",
              "85  86\n",
              "86  87\n",
              "87  88\n",
              "88  89\n",
              "89  90\n",
              "\n",
              "[90 rows x 1 columns]"
            ]
          },
          "metadata": {},
          "execution_count": 150
        }
      ]
    },
    {
      "cell_type": "code",
      "metadata": {
        "colab": {
          "base_uri": "https://localhost:8080/",
          "height": 423
        },
        "id": "19V-StmwcfWy",
        "outputId": "8fc049b1-24e0-49a6-cfd9-133bcd378f52"
      },
      "source": [
        "colonna_2=pd.DataFrame(y_pred, columns=[\"O/C oil\"])\n",
        "\n",
        "colonna_2\n"
      ],
      "execution_count": 151,
      "outputs": [
        {
          "output_type": "execute_result",
          "data": {
            "text/html": [
              "<div>\n",
              "<style scoped>\n",
              "    .dataframe tbody tr th:only-of-type {\n",
              "        vertical-align: middle;\n",
              "    }\n",
              "\n",
              "    .dataframe tbody tr th {\n",
              "        vertical-align: top;\n",
              "    }\n",
              "\n",
              "    .dataframe thead th {\n",
              "        text-align: right;\n",
              "    }\n",
              "</style>\n",
              "<table border=\"1\" class=\"dataframe\">\n",
              "  <thead>\n",
              "    <tr style=\"text-align: right;\">\n",
              "      <th></th>\n",
              "      <th>O/C oil</th>\n",
              "    </tr>\n",
              "  </thead>\n",
              "  <tbody>\n",
              "    <tr>\n",
              "      <th>0</th>\n",
              "      <td>0.875992</td>\n",
              "    </tr>\n",
              "    <tr>\n",
              "      <th>1</th>\n",
              "      <td>0.811372</td>\n",
              "    </tr>\n",
              "    <tr>\n",
              "      <th>2</th>\n",
              "      <td>0.449542</td>\n",
              "    </tr>\n",
              "    <tr>\n",
              "      <th>3</th>\n",
              "      <td>0.406683</td>\n",
              "    </tr>\n",
              "    <tr>\n",
              "      <th>4</th>\n",
              "      <td>0.443495</td>\n",
              "    </tr>\n",
              "    <tr>\n",
              "      <th>...</th>\n",
              "      <td>...</td>\n",
              "    </tr>\n",
              "    <tr>\n",
              "      <th>85</th>\n",
              "      <td>0.297122</td>\n",
              "    </tr>\n",
              "    <tr>\n",
              "      <th>86</th>\n",
              "      <td>0.446590</td>\n",
              "    </tr>\n",
              "    <tr>\n",
              "      <th>87</th>\n",
              "      <td>0.312920</td>\n",
              "    </tr>\n",
              "    <tr>\n",
              "      <th>88</th>\n",
              "      <td>0.560755</td>\n",
              "    </tr>\n",
              "    <tr>\n",
              "      <th>89</th>\n",
              "      <td>0.555123</td>\n",
              "    </tr>\n",
              "  </tbody>\n",
              "</table>\n",
              "<p>90 rows × 1 columns</p>\n",
              "</div>"
            ],
            "text/plain": [
              "     O/C oil\n",
              "0   0.875992\n",
              "1   0.811372\n",
              "2   0.449542\n",
              "3   0.406683\n",
              "4   0.443495\n",
              "..       ...\n",
              "85  0.297122\n",
              "86  0.446590\n",
              "87  0.312920\n",
              "88  0.560755\n",
              "89  0.555123\n",
              "\n",
              "[90 rows x 1 columns]"
            ]
          },
          "metadata": {},
          "execution_count": 151
        }
      ]
    },
    {
      "cell_type": "code",
      "metadata": {
        "id": "UYYc8hLhj0eV"
      },
      "source": [
        "# concatenating along columns\n",
        "horizontal_concat = pd.concat([colonna_1, colonna_2], axis=1)"
      ],
      "execution_count": 152,
      "outputs": []
    },
    {
      "cell_type": "code",
      "metadata": {
        "colab": {
          "base_uri": "https://localhost:8080/",
          "height": 423
        },
        "id": "Uf7U45u_j2U1",
        "outputId": "6c29f2c5-bed5-4e38-b1ef-d9ea11a7b85c"
      },
      "source": [
        "horizontal_concat"
      ],
      "execution_count": 153,
      "outputs": [
        {
          "output_type": "execute_result",
          "data": {
            "text/html": [
              "<div>\n",
              "<style scoped>\n",
              "    .dataframe tbody tr th:only-of-type {\n",
              "        vertical-align: middle;\n",
              "    }\n",
              "\n",
              "    .dataframe tbody tr th {\n",
              "        vertical-align: top;\n",
              "    }\n",
              "\n",
              "    .dataframe thead th {\n",
              "        text-align: right;\n",
              "    }\n",
              "</style>\n",
              "<table border=\"1\" class=\"dataframe\">\n",
              "  <thead>\n",
              "    <tr style=\"text-align: right;\">\n",
              "      <th></th>\n",
              "      <th>ID</th>\n",
              "      <th>O/C oil</th>\n",
              "    </tr>\n",
              "  </thead>\n",
              "  <tbody>\n",
              "    <tr>\n",
              "      <th>0</th>\n",
              "      <td>1</td>\n",
              "      <td>0.875992</td>\n",
              "    </tr>\n",
              "    <tr>\n",
              "      <th>1</th>\n",
              "      <td>2</td>\n",
              "      <td>0.811372</td>\n",
              "    </tr>\n",
              "    <tr>\n",
              "      <th>2</th>\n",
              "      <td>3</td>\n",
              "      <td>0.449542</td>\n",
              "    </tr>\n",
              "    <tr>\n",
              "      <th>3</th>\n",
              "      <td>4</td>\n",
              "      <td>0.406683</td>\n",
              "    </tr>\n",
              "    <tr>\n",
              "      <th>4</th>\n",
              "      <td>5</td>\n",
              "      <td>0.443495</td>\n",
              "    </tr>\n",
              "    <tr>\n",
              "      <th>...</th>\n",
              "      <td>...</td>\n",
              "      <td>...</td>\n",
              "    </tr>\n",
              "    <tr>\n",
              "      <th>85</th>\n",
              "      <td>86</td>\n",
              "      <td>0.297122</td>\n",
              "    </tr>\n",
              "    <tr>\n",
              "      <th>86</th>\n",
              "      <td>87</td>\n",
              "      <td>0.446590</td>\n",
              "    </tr>\n",
              "    <tr>\n",
              "      <th>87</th>\n",
              "      <td>88</td>\n",
              "      <td>0.312920</td>\n",
              "    </tr>\n",
              "    <tr>\n",
              "      <th>88</th>\n",
              "      <td>89</td>\n",
              "      <td>0.560755</td>\n",
              "    </tr>\n",
              "    <tr>\n",
              "      <th>89</th>\n",
              "      <td>90</td>\n",
              "      <td>0.555123</td>\n",
              "    </tr>\n",
              "  </tbody>\n",
              "</table>\n",
              "<p>90 rows × 2 columns</p>\n",
              "</div>"
            ],
            "text/plain": [
              "    ID   O/C oil\n",
              "0    1  0.875992\n",
              "1    2  0.811372\n",
              "2    3  0.449542\n",
              "3    4  0.406683\n",
              "4    5  0.443495\n",
              "..  ..       ...\n",
              "85  86  0.297122\n",
              "86  87  0.446590\n",
              "87  88  0.312920\n",
              "88  89  0.560755\n",
              "89  90  0.555123\n",
              "\n",
              "[90 rows x 2 columns]"
            ]
          },
          "metadata": {},
          "execution_count": 153
        }
      ]
    },
    {
      "cell_type": "code",
      "metadata": {
        "id": "bLh4jjQrj4ha"
      },
      "source": [
        "horizontal_concat.to_csv('Risultato_RF_200.csv', index = False)"
      ],
      "execution_count": 154,
      "outputs": []
    }
  ]
}