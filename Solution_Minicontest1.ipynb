{
  "nbformat": 4,
  "nbformat_minor": 0,
  "metadata": {
    "kernelspec": {
      "name": "python382jvsc74a57bd06a2150018f06f78942343fcec9335369472ca5a2cf672c6a2f2ef8f3e6f74264",
      "display_name": "Python 3.8.2 64-bit"
    },
    "language_info": {
      "codemirror_mode": {
        "name": "ipython",
        "version": 3
      },
      "file_extension": ".py",
      "mimetype": "text/x-python",
      "name": "python",
      "nbconvert_exporter": "python",
      "pygments_lexer": "ipython3",
      "version": "3.8.2"
    },
    "metadata": {
      "interpreter": {
        "hash": "63fd5069d213b44bf678585dea6b12cceca9941eaf7f819626cde1f2670de90d"
      }
    },
    "colab": {
      "name": "Solution - Minicontest1.ipynb",
      "provenance": [],
      "collapsed_sections": [
        "tb7kNM4dCx-a"
      ],
      "include_colab_link": true
    }
  },
  "cells": [
    {
      "cell_type": "markdown",
      "metadata": {
        "id": "view-in-github",
        "colab_type": "text"
      },
      "source": [
        "<a href=\"https://colab.research.google.com/github/annalamboglia/Minicontest1/blob/main/Solution_Minicontest1.ipynb\" target=\"_parent\"><img src=\"https://colab.research.google.com/assets/colab-badge.svg\" alt=\"Open In Colab\"/></a>"
      ]
    },
    {
      "cell_type": "markdown",
      "metadata": {
        "id": "VZFDJF5oUfz7"
      },
      "source": [
        "#Import the Train.csv\n"
      ]
    },
    {
      "cell_type": "code",
      "metadata": {
        "tags": [],
        "id": "az2PY0ffoK7R"
      },
      "source": [
        "#importing libraries\n",
        "import numpy as np\n",
        "import pandas as pd\n",
        "import matplotlib.pyplot as plt\n",
        "import seaborn as sns; sns.set()"
      ],
      "execution_count": null,
      "outputs": []
    },
    {
      "cell_type": "code",
      "metadata": {
        "id": "epfGvl6y7XZ2",
        "colab": {
          "base_uri": "https://localhost:8080/"
        },
        "outputId": "f4ec2525-a69d-4b01-9874-55cf85d514f6"
      },
      "source": [
        "#Link the Drive\n",
        "from google.colab import drive\n",
        "drive.mount('/content/drive')"
      ],
      "execution_count": null,
      "outputs": [
        {
          "output_type": "stream",
          "name": "stdout",
          "text": [
            "Drive already mounted at /content/drive; to attempt to forcibly remount, call drive.mount(\"/content/drive\", force_remount=True).\n"
          ]
        }
      ]
    },
    {
      "cell_type": "code",
      "metadata": {
        "id": "Lcg2BL50Xz2F",
        "colab": {
          "base_uri": "https://localhost:8080/",
          "height": 461
        },
        "outputId": "a9cfc49d-6bbd-4d88-967e-0e482834a3be"
      },
      "source": [
        "#Import the csv\n",
        "\n",
        "with open(\"/content/drive/MyDrive/Minicontest1/Train.csv\", 'r') as fp:\n",
        "    df = pd.read_csv(fp)\n",
        "\n",
        "df"
      ],
      "execution_count": null,
      "outputs": [
        {
          "output_type": "execute_result",
          "data": {
            "text/html": [
              "<div>\n",
              "<style scoped>\n",
              "    .dataframe tbody tr th:only-of-type {\n",
              "        vertical-align: middle;\n",
              "    }\n",
              "\n",
              "    .dataframe tbody tr th {\n",
              "        vertical-align: top;\n",
              "    }\n",
              "\n",
              "    .dataframe thead th {\n",
              "        text-align: right;\n",
              "    }\n",
              "</style>\n",
              "<table border=\"1\" class=\"dataframe\">\n",
              "  <thead>\n",
              "    <tr style=\"text-align: right;\">\n",
              "      <th></th>\n",
              "      <th>row ID</th>\n",
              "      <th>PESO_KG</th>\n",
              "      <th>ALTEZZA_M</th>\n",
              "      <th>BMI</th>\n",
              "      <th>base_sx</th>\n",
              "      <th>base_med</th>\n",
              "      <th>base_dx</th>\n",
              "      <th>equ_sx</th>\n",
              "      <th>equ_med</th>\n",
              "      <th>equ_dx</th>\n",
              "      <th>ap_sx</th>\n",
              "      <th>ap_med</th>\n",
              "      <th>ap_dx</th>\n",
              "      <th>tran_sx</th>\n",
              "      <th>tran_med</th>\n",
              "      <th>tran_dx</th>\n",
              "      <th>train_nd</th>\n",
              "      <th>TOT_ZONE</th>\n",
              "      <th>VOLUME_PROSTATICO</th>\n",
              "      <th>PSA</th>\n",
              "      <th>psa_density</th>\n",
              "      <th>FREE_PSA</th>\n",
              "      <th>RATIO</th>\n",
              "      <th>Glicemia</th>\n",
              "      <th>Colesterolo</th>\n",
              "      <th>HDL</th>\n",
              "      <th>LDL</th>\n",
              "      <th>Trigliceridi</th>\n",
              "      <th>Creatinina</th>\n",
              "      <th>CANCER</th>\n",
              "    </tr>\n",
              "  </thead>\n",
              "  <tbody>\n",
              "    <tr>\n",
              "      <th>0</th>\n",
              "      <td>2.0</td>\n",
              "      <td>83</td>\n",
              "      <td>1.70</td>\n",
              "      <td>28.719723</td>\n",
              "      <td>0.0</td>\n",
              "      <td>0.0</td>\n",
              "      <td>0.0</td>\n",
              "      <td>0.0</td>\n",
              "      <td>0.0</td>\n",
              "      <td>0.0</td>\n",
              "      <td>1.0</td>\n",
              "      <td>0.0</td>\n",
              "      <td>0.0</td>\n",
              "      <td>0.0</td>\n",
              "      <td>0.0</td>\n",
              "      <td>0.0</td>\n",
              "      <td>0.0</td>\n",
              "      <td>1.0</td>\n",
              "      <td>70.0</td>\n",
              "      <td>6.35</td>\n",
              "      <td>0.090714</td>\n",
              "      <td>2.24</td>\n",
              "      <td>0.352756</td>\n",
              "      <td>93</td>\n",
              "      <td>204</td>\n",
              "      <td>62</td>\n",
              "      <td>128</td>\n",
              "      <td>68</td>\n",
              "      <td>0.80</td>\n",
              "      <td>0</td>\n",
              "    </tr>\n",
              "    <tr>\n",
              "      <th>1</th>\n",
              "      <td>3.0</td>\n",
              "      <td>75</td>\n",
              "      <td>1.78</td>\n",
              "      <td>23.671254</td>\n",
              "      <td>0.0</td>\n",
              "      <td>0.0</td>\n",
              "      <td>0.0</td>\n",
              "      <td>0.0</td>\n",
              "      <td>0.0</td>\n",
              "      <td>0.0</td>\n",
              "      <td>1.0</td>\n",
              "      <td>0.0</td>\n",
              "      <td>0.0</td>\n",
              "      <td>0.0</td>\n",
              "      <td>0.0</td>\n",
              "      <td>0.0</td>\n",
              "      <td>0.0</td>\n",
              "      <td>1.0</td>\n",
              "      <td>92.0</td>\n",
              "      <td>7.72</td>\n",
              "      <td>0.083913</td>\n",
              "      <td>1.49</td>\n",
              "      <td>0.193005</td>\n",
              "      <td>112</td>\n",
              "      <td>242</td>\n",
              "      <td>53</td>\n",
              "      <td>174</td>\n",
              "      <td>76</td>\n",
              "      <td>1.00</td>\n",
              "      <td>0</td>\n",
              "    </tr>\n",
              "    <tr>\n",
              "      <th>2</th>\n",
              "      <td>4.0</td>\n",
              "      <td>72</td>\n",
              "      <td>1.75</td>\n",
              "      <td>23.510204</td>\n",
              "      <td>0.0</td>\n",
              "      <td>0.0</td>\n",
              "      <td>0.0</td>\n",
              "      <td>0.0</td>\n",
              "      <td>0.0</td>\n",
              "      <td>1.0</td>\n",
              "      <td>0.0</td>\n",
              "      <td>0.0</td>\n",
              "      <td>0.0</td>\n",
              "      <td>0.0</td>\n",
              "      <td>0.0</td>\n",
              "      <td>0.0</td>\n",
              "      <td>0.0</td>\n",
              "      <td>1.0</td>\n",
              "      <td>68.0</td>\n",
              "      <td>5.37</td>\n",
              "      <td>0.078971</td>\n",
              "      <td>1.16</td>\n",
              "      <td>0.216015</td>\n",
              "      <td>133</td>\n",
              "      <td>160</td>\n",
              "      <td>35</td>\n",
              "      <td>105</td>\n",
              "      <td>100</td>\n",
              "      <td>1.50</td>\n",
              "      <td>0</td>\n",
              "    </tr>\n",
              "    <tr>\n",
              "      <th>3</th>\n",
              "      <td>6.0</td>\n",
              "      <td>72</td>\n",
              "      <td>1.72</td>\n",
              "      <td>24.337480</td>\n",
              "      <td>0.0</td>\n",
              "      <td>0.0</td>\n",
              "      <td>1.0</td>\n",
              "      <td>0.0</td>\n",
              "      <td>0.0</td>\n",
              "      <td>0.0</td>\n",
              "      <td>0.0</td>\n",
              "      <td>0.0</td>\n",
              "      <td>0.0</td>\n",
              "      <td>0.0</td>\n",
              "      <td>0.0</td>\n",
              "      <td>0.0</td>\n",
              "      <td>0.0</td>\n",
              "      <td>1.0</td>\n",
              "      <td>50.0</td>\n",
              "      <td>6.43</td>\n",
              "      <td>0.128600</td>\n",
              "      <td>1.12</td>\n",
              "      <td>0.174184</td>\n",
              "      <td>196</td>\n",
              "      <td>128</td>\n",
              "      <td>33</td>\n",
              "      <td>56</td>\n",
              "      <td>254</td>\n",
              "      <td>1.31</td>\n",
              "      <td>1</td>\n",
              "    </tr>\n",
              "    <tr>\n",
              "      <th>4</th>\n",
              "      <td>8.0</td>\n",
              "      <td>80</td>\n",
              "      <td>1.75</td>\n",
              "      <td>26.122449</td>\n",
              "      <td>0.0</td>\n",
              "      <td>0.0</td>\n",
              "      <td>0.0</td>\n",
              "      <td>1.0</td>\n",
              "      <td>0.0</td>\n",
              "      <td>0.0</td>\n",
              "      <td>0.0</td>\n",
              "      <td>0.0</td>\n",
              "      <td>0.0</td>\n",
              "      <td>0.0</td>\n",
              "      <td>0.0</td>\n",
              "      <td>0.0</td>\n",
              "      <td>0.0</td>\n",
              "      <td>1.0</td>\n",
              "      <td>138.0</td>\n",
              "      <td>12.16</td>\n",
              "      <td>0.088116</td>\n",
              "      <td>NaN</td>\n",
              "      <td>NaN</td>\n",
              "      <td>80</td>\n",
              "      <td>204</td>\n",
              "      <td>43</td>\n",
              "      <td>144</td>\n",
              "      <td>155</td>\n",
              "      <td>1.00</td>\n",
              "      <td>1</td>\n",
              "    </tr>\n",
              "    <tr>\n",
              "      <th>...</th>\n",
              "      <td>...</td>\n",
              "      <td>...</td>\n",
              "      <td>...</td>\n",
              "      <td>...</td>\n",
              "      <td>...</td>\n",
              "      <td>...</td>\n",
              "      <td>...</td>\n",
              "      <td>...</td>\n",
              "      <td>...</td>\n",
              "      <td>...</td>\n",
              "      <td>...</td>\n",
              "      <td>...</td>\n",
              "      <td>...</td>\n",
              "      <td>...</td>\n",
              "      <td>...</td>\n",
              "      <td>...</td>\n",
              "      <td>...</td>\n",
              "      <td>...</td>\n",
              "      <td>...</td>\n",
              "      <td>...</td>\n",
              "      <td>...</td>\n",
              "      <td>...</td>\n",
              "      <td>...</td>\n",
              "      <td>...</td>\n",
              "      <td>...</td>\n",
              "      <td>...</td>\n",
              "      <td>...</td>\n",
              "      <td>...</td>\n",
              "      <td>...</td>\n",
              "      <td>...</td>\n",
              "    </tr>\n",
              "    <tr>\n",
              "      <th>60</th>\n",
              "      <td>104.0</td>\n",
              "      <td>85</td>\n",
              "      <td>1.75</td>\n",
              "      <td>27.755102</td>\n",
              "      <td>1.0</td>\n",
              "      <td>1.0</td>\n",
              "      <td>0.0</td>\n",
              "      <td>1.0</td>\n",
              "      <td>1.0</td>\n",
              "      <td>0.0</td>\n",
              "      <td>0.0</td>\n",
              "      <td>0.0</td>\n",
              "      <td>0.0</td>\n",
              "      <td>0.0</td>\n",
              "      <td>0.0</td>\n",
              "      <td>0.0</td>\n",
              "      <td>0.0</td>\n",
              "      <td>4.0</td>\n",
              "      <td>62.0</td>\n",
              "      <td>5.20</td>\n",
              "      <td>0.083871</td>\n",
              "      <td>1.36</td>\n",
              "      <td>0.261538</td>\n",
              "      <td>96</td>\n",
              "      <td>189</td>\n",
              "      <td>50</td>\n",
              "      <td>123</td>\n",
              "      <td>79</td>\n",
              "      <td>0.79</td>\n",
              "      <td>1</td>\n",
              "    </tr>\n",
              "    <tr>\n",
              "      <th>61</th>\n",
              "      <td>106.0</td>\n",
              "      <td>87</td>\n",
              "      <td>1.75</td>\n",
              "      <td>28.408163</td>\n",
              "      <td>0.0</td>\n",
              "      <td>0.0</td>\n",
              "      <td>1.0</td>\n",
              "      <td>0.0</td>\n",
              "      <td>0.0</td>\n",
              "      <td>1.0</td>\n",
              "      <td>0.0</td>\n",
              "      <td>0.0</td>\n",
              "      <td>1.0</td>\n",
              "      <td>0.0</td>\n",
              "      <td>0.0</td>\n",
              "      <td>0.0</td>\n",
              "      <td>0.0</td>\n",
              "      <td>3.0</td>\n",
              "      <td>32.0</td>\n",
              "      <td>10.74</td>\n",
              "      <td>0.335625</td>\n",
              "      <td>NaN</td>\n",
              "      <td>NaN</td>\n",
              "      <td>101</td>\n",
              "      <td>216</td>\n",
              "      <td>45</td>\n",
              "      <td>123</td>\n",
              "      <td>155</td>\n",
              "      <td>1.00</td>\n",
              "      <td>0</td>\n",
              "    </tr>\n",
              "    <tr>\n",
              "      <th>62</th>\n",
              "      <td>107.0</td>\n",
              "      <td>87</td>\n",
              "      <td>1.80</td>\n",
              "      <td>26.851852</td>\n",
              "      <td>0.0</td>\n",
              "      <td>0.0</td>\n",
              "      <td>0.0</td>\n",
              "      <td>0.0</td>\n",
              "      <td>0.0</td>\n",
              "      <td>0.0</td>\n",
              "      <td>0.0</td>\n",
              "      <td>1.0</td>\n",
              "      <td>1.0</td>\n",
              "      <td>0.0</td>\n",
              "      <td>0.0</td>\n",
              "      <td>0.0</td>\n",
              "      <td>1.0</td>\n",
              "      <td>3.0</td>\n",
              "      <td>36.0</td>\n",
              "      <td>9.54</td>\n",
              "      <td>0.265000</td>\n",
              "      <td>4.17</td>\n",
              "      <td>0.437107</td>\n",
              "      <td>94</td>\n",
              "      <td>183</td>\n",
              "      <td>51</td>\n",
              "      <td>110</td>\n",
              "      <td>112</td>\n",
              "      <td>8.20</td>\n",
              "      <td>0</td>\n",
              "    </tr>\n",
              "    <tr>\n",
              "      <th>63</th>\n",
              "      <td>108.0</td>\n",
              "      <td>54</td>\n",
              "      <td>1.40</td>\n",
              "      <td>27.551020</td>\n",
              "      <td>NaN</td>\n",
              "      <td>NaN</td>\n",
              "      <td>NaN</td>\n",
              "      <td>NaN</td>\n",
              "      <td>NaN</td>\n",
              "      <td>NaN</td>\n",
              "      <td>NaN</td>\n",
              "      <td>NaN</td>\n",
              "      <td>NaN</td>\n",
              "      <td>NaN</td>\n",
              "      <td>NaN</td>\n",
              "      <td>NaN</td>\n",
              "      <td>NaN</td>\n",
              "      <td>NaN</td>\n",
              "      <td>NaN</td>\n",
              "      <td>5.55</td>\n",
              "      <td>NaN</td>\n",
              "      <td>2.28</td>\n",
              "      <td>0.410811</td>\n",
              "      <td>146</td>\n",
              "      <td>162</td>\n",
              "      <td>50</td>\n",
              "      <td>77</td>\n",
              "      <td>173</td>\n",
              "      <td>0.84</td>\n",
              "      <td>0</td>\n",
              "    </tr>\n",
              "    <tr>\n",
              "      <th>64</th>\n",
              "      <td>109.0</td>\n",
              "      <td>94</td>\n",
              "      <td>1.80</td>\n",
              "      <td>29.012346</td>\n",
              "      <td>1.0</td>\n",
              "      <td>0.0</td>\n",
              "      <td>0.0</td>\n",
              "      <td>1.0</td>\n",
              "      <td>0.0</td>\n",
              "      <td>0.0</td>\n",
              "      <td>0.0</td>\n",
              "      <td>0.0</td>\n",
              "      <td>0.0</td>\n",
              "      <td>1.0</td>\n",
              "      <td>0.0</td>\n",
              "      <td>0.0</td>\n",
              "      <td>0.0</td>\n",
              "      <td>3.0</td>\n",
              "      <td>60.0</td>\n",
              "      <td>9.56</td>\n",
              "      <td>0.159333</td>\n",
              "      <td>1.13</td>\n",
              "      <td>0.118201</td>\n",
              "      <td>81</td>\n",
              "      <td>208</td>\n",
              "      <td>28</td>\n",
              "      <td>145</td>\n",
              "      <td>153</td>\n",
              "      <td>1.31</td>\n",
              "      <td>0</td>\n",
              "    </tr>\n",
              "  </tbody>\n",
              "</table>\n",
              "<p>65 rows × 30 columns</p>\n",
              "</div>"
            ],
            "text/plain": [
              "    row ID  PESO_KG  ALTEZZA_M  ...  Trigliceridi  Creatinina  CANCER\n",
              "0      2.0       83       1.70  ...            68        0.80       0\n",
              "1      3.0       75       1.78  ...            76        1.00       0\n",
              "2      4.0       72       1.75  ...           100        1.50       0\n",
              "3      6.0       72       1.72  ...           254        1.31       1\n",
              "4      8.0       80       1.75  ...           155        1.00       1\n",
              "..     ...      ...        ...  ...           ...         ...     ...\n",
              "60   104.0       85       1.75  ...            79        0.79       1\n",
              "61   106.0       87       1.75  ...           155        1.00       0\n",
              "62   107.0       87       1.80  ...           112        8.20       0\n",
              "63   108.0       54       1.40  ...           173        0.84       0\n",
              "64   109.0       94       1.80  ...           153        1.31       0\n",
              "\n",
              "[65 rows x 30 columns]"
            ]
          },
          "metadata": {},
          "execution_count": 3
        }
      ]
    },
    {
      "cell_type": "markdown",
      "metadata": {
        "id": "JVqG-iVFLnkA"
      },
      "source": [
        "#Dataset"
      ]
    },
    {
      "cell_type": "code",
      "metadata": {
        "colab": {
          "base_uri": "https://localhost:8080/"
        },
        "id": "zAIyAOgvLmsy",
        "outputId": "1d14f791-0fed-4cf5-aed6-99a9e64ee394"
      },
      "source": [
        "#Get the number of Cancer or Not\n",
        "df['CANCER'].value_counts()"
      ],
      "execution_count": null,
      "outputs": [
        {
          "output_type": "execute_result",
          "data": {
            "text/plain": [
              "1    42\n",
              "0    23\n",
              "Name: CANCER, dtype: int64"
            ]
          },
          "metadata": {},
          "execution_count": 4
        }
      ]
    },
    {
      "cell_type": "code",
      "metadata": {
        "colab": {
          "base_uri": "https://localhost:8080/",
          "height": 359
        },
        "id": "SKtnqljZLykY",
        "outputId": "f0966360-1d1a-4cb7-d61e-30d0c1a890fd"
      },
      "source": [
        "#Visualize the count\n",
        "sns.countplot(df['CANCER'], label='count')"
      ],
      "execution_count": null,
      "outputs": [
        {
          "output_type": "stream",
          "name": "stderr",
          "text": [
            "/usr/local/lib/python3.7/dist-packages/seaborn/_decorators.py:43: FutureWarning: Pass the following variable as a keyword arg: x. From version 0.12, the only valid positional argument will be `data`, and passing other arguments without an explicit keyword will result in an error or misinterpretation.\n",
            "  FutureWarning\n"
          ]
        },
        {
          "output_type": "execute_result",
          "data": {
            "text/plain": [
              "<matplotlib.axes._subplots.AxesSubplot at 0x7f0a9e92fe50>"
            ]
          },
          "metadata": {},
          "execution_count": 5
        },
        {
          "output_type": "display_data",
          "data": {
            "image/png": "[encoded data removed]",
            "text/plain": [
              "<Figure size 432x288 with 1 Axes>"
            ]
          },
          "metadata": {
            "needs_background": "light"
          }
        }
      ]
    },
    {
      "cell_type": "code",
      "metadata": {
        "colab": {
          "base_uri": "https://localhost:8080/"
        },
        "id": "GNVz2mAiL4D6",
        "outputId": "6e956bfc-e0c3-4212-cf94-d5125dadcfbd"
      },
      "source": [
        "#Look at the data types whitch columns need to be encoded\n",
        "df.dtypes"
      ],
      "execution_count": null,
      "outputs": [
        {
          "output_type": "execute_result",
          "data": {
            "text/plain": [
              "row ID               float64\n",
              "PESO_KG                int64\n",
              "ALTEZZA_M            float64\n",
              "BMI                  float64\n",
              "base_sx              float64\n",
              "base_med             float64\n",
              "base_dx              float64\n",
              "equ_sx               float64\n",
              "equ_med              float64\n",
              "equ_dx               float64\n",
              "ap_sx                float64\n",
              "ap_med               float64\n",
              "ap_dx                float64\n",
              "tran_sx              float64\n",
              "tran_med             float64\n",
              "tran_dx              float64\n",
              "train_nd             float64\n",
              "TOT_ZONE             float64\n",
              "VOLUME_PROSTATICO    float64\n",
              "PSA                  float64\n",
              "psa_density          float64\n",
              "FREE_PSA             float64\n",
              "RATIO                float64\n",
              "Glicemia               int64\n",
              "Colesterolo            int64\n",
              "HDL                    int64\n",
              "LDL                    int64\n",
              "Trigliceridi           int64\n",
              "Creatinina           float64\n",
              "CANCER                 int64\n",
              "dtype: object"
            ]
          },
          "metadata": {},
          "execution_count": 6
        }
      ]
    },
    {
      "cell_type": "code",
      "metadata": {
        "colab": {
          "base_uri": "https://localhost:8080/",
          "height": 337
        },
        "id": "mvEMAukc-v2b",
        "outputId": "83304f3c-855c-42bd-baa2-8ac15dac9d06"
      },
      "source": [
        "#NaN Values\n",
        "df1 = df[df.isna().any(axis=1)]\n",
        "\n",
        "df1"
      ],
      "execution_count": null,
      "outputs": [
        {
          "output_type": "execute_result",
          "data": {
            "text/html": [
              "<div>\n",
              "<style scoped>\n",
              "    .dataframe tbody tr th:only-of-type {\n",
              "        vertical-align: middle;\n",
              "    }\n",
              "\n",
              "    .dataframe tbody tr th {\n",
              "        vertical-align: top;\n",
              "    }\n",
              "\n",
              "    .dataframe thead th {\n",
              "        text-align: right;\n",
              "    }\n",
              "</style>\n",
              "<table border=\"1\" class=\"dataframe\">\n",
              "  <thead>\n",
              "    <tr style=\"text-align: right;\">\n",
              "      <th></th>\n",
              "      <th>row ID</th>\n",
              "      <th>PESO_KG</th>\n",
              "      <th>ALTEZZA_M</th>\n",
              "      <th>BMI</th>\n",
              "      <th>base_sx</th>\n",
              "      <th>base_med</th>\n",
              "      <th>base_dx</th>\n",
              "      <th>equ_sx</th>\n",
              "      <th>equ_med</th>\n",
              "      <th>equ_dx</th>\n",
              "      <th>ap_sx</th>\n",
              "      <th>ap_med</th>\n",
              "      <th>ap_dx</th>\n",
              "      <th>tran_sx</th>\n",
              "      <th>tran_med</th>\n",
              "      <th>tran_dx</th>\n",
              "      <th>train_nd</th>\n",
              "      <th>TOT_ZONE</th>\n",
              "      <th>VOLUME_PROSTATICO</th>\n",
              "      <th>PSA</th>\n",
              "      <th>psa_density</th>\n",
              "      <th>FREE_PSA</th>\n",
              "      <th>RATIO</th>\n",
              "      <th>Glicemia</th>\n",
              "      <th>Colesterolo</th>\n",
              "      <th>HDL</th>\n",
              "      <th>LDL</th>\n",
              "      <th>Trigliceridi</th>\n",
              "      <th>Creatinina</th>\n",
              "      <th>CANCER</th>\n",
              "    </tr>\n",
              "  </thead>\n",
              "  <tbody>\n",
              "    <tr>\n",
              "      <th>4</th>\n",
              "      <td>8.0</td>\n",
              "      <td>80</td>\n",
              "      <td>1.75</td>\n",
              "      <td>26.122449</td>\n",
              "      <td>0.0</td>\n",
              "      <td>0.0</td>\n",
              "      <td>0.0</td>\n",
              "      <td>1.0</td>\n",
              "      <td>0.0</td>\n",
              "      <td>0.0</td>\n",
              "      <td>0.0</td>\n",
              "      <td>0.0</td>\n",
              "      <td>0.0</td>\n",
              "      <td>0.0</td>\n",
              "      <td>0.0</td>\n",
              "      <td>0.0</td>\n",
              "      <td>0.0</td>\n",
              "      <td>1.0</td>\n",
              "      <td>138.0</td>\n",
              "      <td>12.16</td>\n",
              "      <td>0.088116</td>\n",
              "      <td>NaN</td>\n",
              "      <td>NaN</td>\n",
              "      <td>80</td>\n",
              "      <td>204</td>\n",
              "      <td>43</td>\n",
              "      <td>144</td>\n",
              "      <td>155</td>\n",
              "      <td>1.00</td>\n",
              "      <td>1</td>\n",
              "    </tr>\n",
              "    <tr>\n",
              "      <th>20</th>\n",
              "      <td>36.0</td>\n",
              "      <td>90</td>\n",
              "      <td>1.78</td>\n",
              "      <td>28.405504</td>\n",
              "      <td>0.0</td>\n",
              "      <td>0.0</td>\n",
              "      <td>1.0</td>\n",
              "      <td>0.0</td>\n",
              "      <td>0.0</td>\n",
              "      <td>1.0</td>\n",
              "      <td>1.0</td>\n",
              "      <td>0.0</td>\n",
              "      <td>0.0</td>\n",
              "      <td>0.0</td>\n",
              "      <td>0.0</td>\n",
              "      <td>0.0</td>\n",
              "      <td>0.0</td>\n",
              "      <td>3.0</td>\n",
              "      <td>66.0</td>\n",
              "      <td>15.43</td>\n",
              "      <td>0.233788</td>\n",
              "      <td>NaN</td>\n",
              "      <td>NaN</td>\n",
              "      <td>95</td>\n",
              "      <td>164</td>\n",
              "      <td>27</td>\n",
              "      <td>108</td>\n",
              "      <td>145</td>\n",
              "      <td>0.84</td>\n",
              "      <td>0</td>\n",
              "    </tr>\n",
              "    <tr>\n",
              "      <th>22</th>\n",
              "      <td>39.0</td>\n",
              "      <td>62</td>\n",
              "      <td>1.70</td>\n",
              "      <td>21.453287</td>\n",
              "      <td>NaN</td>\n",
              "      <td>NaN</td>\n",
              "      <td>NaN</td>\n",
              "      <td>NaN</td>\n",
              "      <td>NaN</td>\n",
              "      <td>NaN</td>\n",
              "      <td>NaN</td>\n",
              "      <td>NaN</td>\n",
              "      <td>NaN</td>\n",
              "      <td>NaN</td>\n",
              "      <td>NaN</td>\n",
              "      <td>NaN</td>\n",
              "      <td>NaN</td>\n",
              "      <td>NaN</td>\n",
              "      <td>28.0</td>\n",
              "      <td>8.00</td>\n",
              "      <td>0.285714</td>\n",
              "      <td>1.20</td>\n",
              "      <td>0.150000</td>\n",
              "      <td>129</td>\n",
              "      <td>220</td>\n",
              "      <td>50</td>\n",
              "      <td>165</td>\n",
              "      <td>117</td>\n",
              "      <td>0.88</td>\n",
              "      <td>1</td>\n",
              "    </tr>\n",
              "    <tr>\n",
              "      <th>52</th>\n",
              "      <td>85.0</td>\n",
              "      <td>85</td>\n",
              "      <td>1.72</td>\n",
              "      <td>28.731747</td>\n",
              "      <td>1.0</td>\n",
              "      <td>0.0</td>\n",
              "      <td>0.0</td>\n",
              "      <td>0.0</td>\n",
              "      <td>0.0</td>\n",
              "      <td>0.0</td>\n",
              "      <td>0.0</td>\n",
              "      <td>0.0</td>\n",
              "      <td>0.0</td>\n",
              "      <td>0.0</td>\n",
              "      <td>0.0</td>\n",
              "      <td>0.0</td>\n",
              "      <td>0.0</td>\n",
              "      <td>1.0</td>\n",
              "      <td>34.0</td>\n",
              "      <td>0.24</td>\n",
              "      <td>0.007059</td>\n",
              "      <td>NaN</td>\n",
              "      <td>NaN</td>\n",
              "      <td>99</td>\n",
              "      <td>200</td>\n",
              "      <td>42</td>\n",
              "      <td>129</td>\n",
              "      <td>146</td>\n",
              "      <td>0.96</td>\n",
              "      <td>1</td>\n",
              "    </tr>\n",
              "    <tr>\n",
              "      <th>54</th>\n",
              "      <td>92.0</td>\n",
              "      <td>70</td>\n",
              "      <td>1.68</td>\n",
              "      <td>24.801587</td>\n",
              "      <td>0.0</td>\n",
              "      <td>0.0</td>\n",
              "      <td>0.0</td>\n",
              "      <td>0.0</td>\n",
              "      <td>1.0</td>\n",
              "      <td>1.0</td>\n",
              "      <td>0.0</td>\n",
              "      <td>0.0</td>\n",
              "      <td>0.0</td>\n",
              "      <td>0.0</td>\n",
              "      <td>0.0</td>\n",
              "      <td>0.0</td>\n",
              "      <td>0.0</td>\n",
              "      <td>2.0</td>\n",
              "      <td>55.0</td>\n",
              "      <td>1.90</td>\n",
              "      <td>0.034545</td>\n",
              "      <td>NaN</td>\n",
              "      <td>NaN</td>\n",
              "      <td>93</td>\n",
              "      <td>217</td>\n",
              "      <td>63</td>\n",
              "      <td>122</td>\n",
              "      <td>155</td>\n",
              "      <td>1.12</td>\n",
              "      <td>0</td>\n",
              "    </tr>\n",
              "    <tr>\n",
              "      <th>56</th>\n",
              "      <td>95.0</td>\n",
              "      <td>65</td>\n",
              "      <td>1.70</td>\n",
              "      <td>22.491349</td>\n",
              "      <td>0.0</td>\n",
              "      <td>0.0</td>\n",
              "      <td>0.0</td>\n",
              "      <td>0.0</td>\n",
              "      <td>0.0</td>\n",
              "      <td>0.0</td>\n",
              "      <td>0.0</td>\n",
              "      <td>0.0</td>\n",
              "      <td>0.0</td>\n",
              "      <td>0.0</td>\n",
              "      <td>0.0</td>\n",
              "      <td>0.0</td>\n",
              "      <td>1.0</td>\n",
              "      <td>1.0</td>\n",
              "      <td>45.6</td>\n",
              "      <td>11.02</td>\n",
              "      <td>0.241667</td>\n",
              "      <td>NaN</td>\n",
              "      <td>NaN</td>\n",
              "      <td>76</td>\n",
              "      <td>160</td>\n",
              "      <td>39</td>\n",
              "      <td>123</td>\n",
              "      <td>196</td>\n",
              "      <td>1.00</td>\n",
              "      <td>0</td>\n",
              "    </tr>\n",
              "    <tr>\n",
              "      <th>61</th>\n",
              "      <td>106.0</td>\n",
              "      <td>87</td>\n",
              "      <td>1.75</td>\n",
              "      <td>28.408163</td>\n",
              "      <td>0.0</td>\n",
              "      <td>0.0</td>\n",
              "      <td>1.0</td>\n",
              "      <td>0.0</td>\n",
              "      <td>0.0</td>\n",
              "      <td>1.0</td>\n",
              "      <td>0.0</td>\n",
              "      <td>0.0</td>\n",
              "      <td>1.0</td>\n",
              "      <td>0.0</td>\n",
              "      <td>0.0</td>\n",
              "      <td>0.0</td>\n",
              "      <td>0.0</td>\n",
              "      <td>3.0</td>\n",
              "      <td>32.0</td>\n",
              "      <td>10.74</td>\n",
              "      <td>0.335625</td>\n",
              "      <td>NaN</td>\n",
              "      <td>NaN</td>\n",
              "      <td>101</td>\n",
              "      <td>216</td>\n",
              "      <td>45</td>\n",
              "      <td>123</td>\n",
              "      <td>155</td>\n",
              "      <td>1.00</td>\n",
              "      <td>0</td>\n",
              "    </tr>\n",
              "    <tr>\n",
              "      <th>63</th>\n",
              "      <td>108.0</td>\n",
              "      <td>54</td>\n",
              "      <td>1.40</td>\n",
              "      <td>27.551020</td>\n",
              "      <td>NaN</td>\n",
              "      <td>NaN</td>\n",
              "      <td>NaN</td>\n",
              "      <td>NaN</td>\n",
              "      <td>NaN</td>\n",
              "      <td>NaN</td>\n",
              "      <td>NaN</td>\n",
              "      <td>NaN</td>\n",
              "      <td>NaN</td>\n",
              "      <td>NaN</td>\n",
              "      <td>NaN</td>\n",
              "      <td>NaN</td>\n",
              "      <td>NaN</td>\n",
              "      <td>NaN</td>\n",
              "      <td>NaN</td>\n",
              "      <td>5.55</td>\n",
              "      <td>NaN</td>\n",
              "      <td>2.28</td>\n",
              "      <td>0.410811</td>\n",
              "      <td>146</td>\n",
              "      <td>162</td>\n",
              "      <td>50</td>\n",
              "      <td>77</td>\n",
              "      <td>173</td>\n",
              "      <td>0.84</td>\n",
              "      <td>0</td>\n",
              "    </tr>\n",
              "  </tbody>\n",
              "</table>\n",
              "</div>"
            ],
            "text/plain": [
              "    row ID  PESO_KG  ALTEZZA_M  ...  Trigliceridi  Creatinina  CANCER\n",
              "4      8.0       80       1.75  ...           155        1.00       1\n",
              "20    36.0       90       1.78  ...           145        0.84       0\n",
              "22    39.0       62       1.70  ...           117        0.88       1\n",
              "52    85.0       85       1.72  ...           146        0.96       1\n",
              "54    92.0       70       1.68  ...           155        1.12       0\n",
              "56    95.0       65       1.70  ...           196        1.00       0\n",
              "61   106.0       87       1.75  ...           155        1.00       0\n",
              "63   108.0       54       1.40  ...           173        0.84       0\n",
              "\n",
              "[8 rows x 30 columns]"
            ]
          },
          "metadata": {},
          "execution_count": 7
        }
      ]
    },
    {
      "cell_type": "code",
      "metadata": {
        "colab": {
          "base_uri": "https://localhost:8080/",
          "height": 998
        },
        "id": "t8dpPGyLJFaF",
        "outputId": "3b278b67-500c-48b8-ab94-3afd59bb5947"
      },
      "source": [
        "#Visualize the correlation\n",
        "plt.figure(figsize=(15,15))\n",
        "sns.heatmap(df.iloc[:,1:df.shape[1]-1].corr(), annot=True, fmt='.0%')"
      ],
      "execution_count": null,
      "outputs": [
        {
          "output_type": "execute_result",
          "data": {
            "text/plain": [
              "<matplotlib.axes._subplots.AxesSubplot at 0x7f0a9dbff390>"
            ]
          },
          "metadata": {},
          "execution_count": 8
        },
        {
          "output_type": "display_data",
          "data": {
            "image/png": "[encoded data removed]",
            "text/plain": [
              "<Figure size 1080x1080 with 2 Axes>"
            ]
          },
          "metadata": {
            "needs_background": "light"
          }
        }
      ]
    },
    {
      "cell_type": "markdown",
      "metadata": {
        "id": "IcRbcVLuL8pX"
      },
      "source": [
        "#Preprocessing"
      ]
    },
    {
      "cell_type": "markdown",
      "metadata": {
        "id": "NWTMBMWuAP2I"
      },
      "source": [
        "Constant Column"
      ]
    },
    {
      "cell_type": "code",
      "metadata": {
        "id": "X3rSHY4WIpij"
      },
      "source": [
        "df=df.drop(columns=[\"tran_med\"], axis=1)"
      ],
      "execution_count": null,
      "outputs": []
    },
    {
      "cell_type": "markdown",
      "metadata": {
        "id": "g1oCE6sgAOeW"
      },
      "source": [
        "Some columns give the same information like:\n",
        "\n",
        "PSA density=PSA/Volume Prostatico\n",
        "BMI=BMI = peso in kg / (statura in metri * statura in metri)"
      ]
    },
    {
      "cell_type": "code",
      "metadata": {
        "id": "-xod2alyAK2H"
      },
      "source": [
        "df=df.drop(columns=[\"PESO_KG\",\"ALTEZZA_M\",\"psa_density\"], axis=1)"
      ],
      "execution_count": null,
      "outputs": []
    },
    {
      "cell_type": "markdown",
      "metadata": {
        "id": "dMVRFZWRAVz3"
      },
      "source": [
        "Also FREE PSA e PSA TOTALE\n",
        "\n",
        "RATIO=FREE PSA/PSA"
      ]
    },
    {
      "cell_type": "code",
      "metadata": {
        "id": "P4PNeAcrAZVE"
      },
      "source": [
        "#df=df.drop(columns=[\"PSA\"], axis=1)"
      ],
      "execution_count": null,
      "outputs": []
    },
    {
      "cell_type": "markdown",
      "metadata": {
        "id": "2uQBiEkOAq3o"
      },
      "source": [
        "#Also TOT_ZONE= base + equ + ap + tran"
      ]
    },
    {
      "cell_type": "code",
      "metadata": {
        "id": "QM-2-8zpAvDh"
      },
      "source": [
        "df=df.drop(columns=[\"base_dx\",\"ap_dx\",\"tran_sx\",\"tran_dx\"])"
      ],
      "execution_count": null,
      "outputs": []
    },
    {
      "cell_type": "markdown",
      "metadata": {
        "id": "plnj1lQwAvnF"
      },
      "source": [
        "Colesterolo = HDL + LDL "
      ]
    },
    {
      "cell_type": "code",
      "metadata": {
        "id": "wZYmtbghA2Qm"
      },
      "source": [
        "df=df.drop(columns=['Colesterolo'])"
      ],
      "execution_count": null,
      "outputs": []
    },
    {
      "cell_type": "markdown",
      "metadata": {
        "id": "36iMTatV9AJj"
      },
      "source": [
        "#Splitting X=features e Y=target"
      ]
    },
    {
      "cell_type": "code",
      "metadata": {
        "id": "Zrdzczyu9y1z"
      },
      "source": [
        "X=df.drop(columns=[\"row ID\",\"CANCER\"])\n",
        "Y=df[\"CANCER\"]"
      ],
      "execution_count": null,
      "outputs": []
    },
    {
      "cell_type": "code",
      "metadata": {
        "id": "0ExgKK8o9MRA"
      },
      "source": [
        "#Split the training e validation 75% and 25% testing\n",
        "from sklearn.model_selection import train_test_split\n",
        "\n",
        "X_train, X_test, Y_train, Y_test = train_test_split(X, Y, test_size=0.30, stratify=Y, random_state=0)"
      ],
      "execution_count": null,
      "outputs": []
    },
    {
      "cell_type": "code",
      "metadata": {
        "id": "DiROe9599EOw"
      },
      "source": [
        "#Split the training e validation 75% and 25% testing\n",
        "from sklearn.model_selection import train_test_split\n",
        "\n",
        "X_train, X_validation, Y_train, Y_validation = train_test_split(X_train, Y_train, test_size=0.40, stratify=Y_train, random_state=0)"
      ],
      "execution_count": null,
      "outputs": []
    },
    {
      "cell_type": "markdown",
      "metadata": {
        "id": "-ZaauQRl9lJf"
      },
      "source": [
        "#Missing Value"
      ]
    },
    {
      "cell_type": "markdown",
      "metadata": {
        "id": "EVHykru_9G_X"
      },
      "source": [
        "Missing Value on train"
      ]
    },
    {
      "cell_type": "code",
      "metadata": {
        "colab": {
          "base_uri": "https://localhost:8080/",
          "height": 226
        },
        "id": "NHx8uSTX9jnI",
        "outputId": "35d88ee6-d766-4987-8742-540a7471520e"
      },
      "source": [
        "df1 = X_train[X_train.isna().any(axis=1)]\n",
        "\n",
        "df1"
      ],
      "execution_count": null,
      "outputs": [
        {
          "output_type": "execute_result",
          "data": {
            "text/html": [
              "<div>\n",
              "<style scoped>\n",
              "    .dataframe tbody tr th:only-of-type {\n",
              "        vertical-align: middle;\n",
              "    }\n",
              "\n",
              "    .dataframe tbody tr th {\n",
              "        vertical-align: top;\n",
              "    }\n",
              "\n",
              "    .dataframe thead th {\n",
              "        text-align: right;\n",
              "    }\n",
              "</style>\n",
              "<table border=\"1\" class=\"dataframe\">\n",
              "  <thead>\n",
              "    <tr style=\"text-align: right;\">\n",
              "      <th></th>\n",
              "      <th>BMI</th>\n",
              "      <th>base_sx</th>\n",
              "      <th>base_med</th>\n",
              "      <th>equ_sx</th>\n",
              "      <th>equ_med</th>\n",
              "      <th>equ_dx</th>\n",
              "      <th>ap_sx</th>\n",
              "      <th>ap_med</th>\n",
              "      <th>train_nd</th>\n",
              "      <th>TOT_ZONE</th>\n",
              "      <th>VOLUME_PROSTATICO</th>\n",
              "      <th>PSA</th>\n",
              "      <th>FREE_PSA</th>\n",
              "      <th>RATIO</th>\n",
              "      <th>Glicemia</th>\n",
              "      <th>HDL</th>\n",
              "      <th>LDL</th>\n",
              "      <th>Trigliceridi</th>\n",
              "      <th>Creatinina</th>\n",
              "    </tr>\n",
              "  </thead>\n",
              "  <tbody>\n",
              "    <tr>\n",
              "      <th>22</th>\n",
              "      <td>21.453287</td>\n",
              "      <td>NaN</td>\n",
              "      <td>NaN</td>\n",
              "      <td>NaN</td>\n",
              "      <td>NaN</td>\n",
              "      <td>NaN</td>\n",
              "      <td>NaN</td>\n",
              "      <td>NaN</td>\n",
              "      <td>NaN</td>\n",
              "      <td>NaN</td>\n",
              "      <td>28.0</td>\n",
              "      <td>8.00</td>\n",
              "      <td>1.20</td>\n",
              "      <td>0.150000</td>\n",
              "      <td>129</td>\n",
              "      <td>50</td>\n",
              "      <td>165</td>\n",
              "      <td>117</td>\n",
              "      <td>0.88</td>\n",
              "    </tr>\n",
              "    <tr>\n",
              "      <th>63</th>\n",
              "      <td>27.551020</td>\n",
              "      <td>NaN</td>\n",
              "      <td>NaN</td>\n",
              "      <td>NaN</td>\n",
              "      <td>NaN</td>\n",
              "      <td>NaN</td>\n",
              "      <td>NaN</td>\n",
              "      <td>NaN</td>\n",
              "      <td>NaN</td>\n",
              "      <td>NaN</td>\n",
              "      <td>NaN</td>\n",
              "      <td>5.55</td>\n",
              "      <td>2.28</td>\n",
              "      <td>0.410811</td>\n",
              "      <td>146</td>\n",
              "      <td>50</td>\n",
              "      <td>77</td>\n",
              "      <td>173</td>\n",
              "      <td>0.84</td>\n",
              "    </tr>\n",
              "    <tr>\n",
              "      <th>54</th>\n",
              "      <td>24.801587</td>\n",
              "      <td>0.0</td>\n",
              "      <td>0.0</td>\n",
              "      <td>0.0</td>\n",
              "      <td>1.0</td>\n",
              "      <td>1.0</td>\n",
              "      <td>0.0</td>\n",
              "      <td>0.0</td>\n",
              "      <td>0.0</td>\n",
              "      <td>2.0</td>\n",
              "      <td>55.0</td>\n",
              "      <td>1.90</td>\n",
              "      <td>NaN</td>\n",
              "      <td>NaN</td>\n",
              "      <td>93</td>\n",
              "      <td>63</td>\n",
              "      <td>122</td>\n",
              "      <td>155</td>\n",
              "      <td>1.12</td>\n",
              "    </tr>\n",
              "    <tr>\n",
              "      <th>4</th>\n",
              "      <td>26.122449</td>\n",
              "      <td>0.0</td>\n",
              "      <td>0.0</td>\n",
              "      <td>1.0</td>\n",
              "      <td>0.0</td>\n",
              "      <td>0.0</td>\n",
              "      <td>0.0</td>\n",
              "      <td>0.0</td>\n",
              "      <td>0.0</td>\n",
              "      <td>1.0</td>\n",
              "      <td>138.0</td>\n",
              "      <td>12.16</td>\n",
              "      <td>NaN</td>\n",
              "      <td>NaN</td>\n",
              "      <td>80</td>\n",
              "      <td>43</td>\n",
              "      <td>144</td>\n",
              "      <td>155</td>\n",
              "      <td>1.00</td>\n",
              "    </tr>\n",
              "    <tr>\n",
              "      <th>52</th>\n",
              "      <td>28.731747</td>\n",
              "      <td>1.0</td>\n",
              "      <td>0.0</td>\n",
              "      <td>0.0</td>\n",
              "      <td>0.0</td>\n",
              "      <td>0.0</td>\n",
              "      <td>0.0</td>\n",
              "      <td>0.0</td>\n",
              "      <td>0.0</td>\n",
              "      <td>1.0</td>\n",
              "      <td>34.0</td>\n",
              "      <td>0.24</td>\n",
              "      <td>NaN</td>\n",
              "      <td>NaN</td>\n",
              "      <td>99</td>\n",
              "      <td>42</td>\n",
              "      <td>129</td>\n",
              "      <td>146</td>\n",
              "      <td>0.96</td>\n",
              "    </tr>\n",
              "  </tbody>\n",
              "</table>\n",
              "</div>"
            ],
            "text/plain": [
              "          BMI  base_sx  base_med  equ_sx  ...  HDL  LDL  Trigliceridi  Creatinina\n",
              "22  21.453287      NaN       NaN     NaN  ...   50  165           117        0.88\n",
              "63  27.551020      NaN       NaN     NaN  ...   50   77           173        0.84\n",
              "54  24.801587      0.0       0.0     0.0  ...   63  122           155        1.12\n",
              "4   26.122449      0.0       0.0     1.0  ...   43  144           155        1.00\n",
              "52  28.731747      1.0       0.0     0.0  ...   42  129           146        0.96\n",
              "\n",
              "[5 rows x 19 columns]"
            ]
          },
          "metadata": {},
          "execution_count": 16
        }
      ]
    },
    {
      "cell_type": "code",
      "metadata": {
        "colab": {
          "base_uri": "https://localhost:8080/"
        },
        "id": "C0eafryRFlR6",
        "outputId": "67c49b23-66cb-47b1-e650-b0bf9a249957"
      },
      "source": [
        "import statistics\n",
        "print(statistics.median(X_train[\"FREE_PSA\"]))\n",
        "print(statistics.median(X_train[\"RATIO\"]))"
      ],
      "execution_count": null,
      "outputs": [
        {
          "output_type": "stream",
          "name": "stdout",
          "text": [
            "1.07\n",
            "0.1601796407185629\n"
          ]
        }
      ]
    },
    {
      "cell_type": "code",
      "metadata": {
        "id": "gcDa1PnGHDn_"
      },
      "source": [
        "PSA_Median=statistics.median(X_train[\"FREE_PSA\"])\n",
        "Ratio_median=statistics.median(X_train[\"RATIO\"])"
      ],
      "execution_count": null,
      "outputs": []
    },
    {
      "cell_type": "code",
      "metadata": {
        "id": "RLV4gaVT-mQu"
      },
      "source": [
        "X_train[\"FREE_PSA\"].fillna(PSA_Median)\n",
        "X_train[\"RATIO\"].fillna(Ratio_median)\n",
        "X_train=X_train.fillna(-1)"
      ],
      "execution_count": null,
      "outputs": []
    },
    {
      "cell_type": "markdown",
      "metadata": {
        "id": "xzi5mV75_CPq"
      },
      "source": [
        "Missing Value on Validation"
      ]
    },
    {
      "cell_type": "code",
      "metadata": {
        "colab": {
          "base_uri": "https://localhost:8080/",
          "height": 100
        },
        "id": "Fx96eE8K_BqK",
        "outputId": "3bc42812-ab88-4961-fa41-24baf04a04fd"
      },
      "source": [
        "df1 = X_validation[X_validation.isna().any(axis=1)]\n",
        "\n",
        "df1"
      ],
      "execution_count": null,
      "outputs": [
        {
          "output_type": "execute_result",
          "data": {
            "text/html": [
              "<div>\n",
              "<style scoped>\n",
              "    .dataframe tbody tr th:only-of-type {\n",
              "        vertical-align: middle;\n",
              "    }\n",
              "\n",
              "    .dataframe tbody tr th {\n",
              "        vertical-align: top;\n",
              "    }\n",
              "\n",
              "    .dataframe thead th {\n",
              "        text-align: right;\n",
              "    }\n",
              "</style>\n",
              "<table border=\"1\" class=\"dataframe\">\n",
              "  <thead>\n",
              "    <tr style=\"text-align: right;\">\n",
              "      <th></th>\n",
              "      <th>BMI</th>\n",
              "      <th>base_sx</th>\n",
              "      <th>base_med</th>\n",
              "      <th>equ_sx</th>\n",
              "      <th>equ_med</th>\n",
              "      <th>equ_dx</th>\n",
              "      <th>ap_sx</th>\n",
              "      <th>ap_med</th>\n",
              "      <th>train_nd</th>\n",
              "      <th>TOT_ZONE</th>\n",
              "      <th>VOLUME_PROSTATICO</th>\n",
              "      <th>PSA</th>\n",
              "      <th>FREE_PSA</th>\n",
              "      <th>RATIO</th>\n",
              "      <th>Glicemia</th>\n",
              "      <th>HDL</th>\n",
              "      <th>LDL</th>\n",
              "      <th>Trigliceridi</th>\n",
              "      <th>Creatinina</th>\n",
              "    </tr>\n",
              "  </thead>\n",
              "  <tbody>\n",
              "    <tr>\n",
              "      <th>20</th>\n",
              "      <td>28.405504</td>\n",
              "      <td>0.0</td>\n",
              "      <td>0.0</td>\n",
              "      <td>0.0</td>\n",
              "      <td>0.0</td>\n",
              "      <td>1.0</td>\n",
              "      <td>1.0</td>\n",
              "      <td>0.0</td>\n",
              "      <td>0.0</td>\n",
              "      <td>3.0</td>\n",
              "      <td>66.0</td>\n",
              "      <td>15.43</td>\n",
              "      <td>NaN</td>\n",
              "      <td>NaN</td>\n",
              "      <td>95</td>\n",
              "      <td>27</td>\n",
              "      <td>108</td>\n",
              "      <td>145</td>\n",
              "      <td>0.84</td>\n",
              "    </tr>\n",
              "  </tbody>\n",
              "</table>\n",
              "</div>"
            ],
            "text/plain": [
              "          BMI  base_sx  base_med  equ_sx  ...  HDL  LDL  Trigliceridi  Creatinina\n",
              "20  28.405504      0.0       0.0     0.0  ...   27  108           145        0.84\n",
              "\n",
              "[1 rows x 19 columns]"
            ]
          },
          "metadata": {},
          "execution_count": 20
        }
      ]
    },
    {
      "cell_type": "code",
      "metadata": {
        "id": "Rd7f9TNxEGI7"
      },
      "source": [
        "X_validation[\"FREE_PSA\"].fillna(PSA_Median)\n",
        "X_validation[\"RATIO\"].fillna(Ratio_median)\n",
        "X_validation=X_validation.fillna(-1)"
      ],
      "execution_count": null,
      "outputs": []
    },
    {
      "cell_type": "markdown",
      "metadata": {
        "id": "K3u1XdwWJk9c"
      },
      "source": [
        "Missing value on test"
      ]
    },
    {
      "cell_type": "code",
      "metadata": {
        "colab": {
          "base_uri": "https://localhost:8080/",
          "height": 132
        },
        "id": "ESQWJuEyJjt2",
        "outputId": "2c623e4f-94fd-4bd9-cfdf-9317e0531424"
      },
      "source": [
        "df1 = X_test[X_test.isna().any(axis=1)]\n",
        "\n",
        "df1"
      ],
      "execution_count": null,
      "outputs": [
        {
          "output_type": "execute_result",
          "data": {
            "text/html": [
              "<div>\n",
              "<style scoped>\n",
              "    .dataframe tbody tr th:only-of-type {\n",
              "        vertical-align: middle;\n",
              "    }\n",
              "\n",
              "    .dataframe tbody tr th {\n",
              "        vertical-align: top;\n",
              "    }\n",
              "\n",
              "    .dataframe thead th {\n",
              "        text-align: right;\n",
              "    }\n",
              "</style>\n",
              "<table border=\"1\" class=\"dataframe\">\n",
              "  <thead>\n",
              "    <tr style=\"text-align: right;\">\n",
              "      <th></th>\n",
              "      <th>BMI</th>\n",
              "      <th>base_sx</th>\n",
              "      <th>base_med</th>\n",
              "      <th>equ_sx</th>\n",
              "      <th>equ_med</th>\n",
              "      <th>equ_dx</th>\n",
              "      <th>ap_sx</th>\n",
              "      <th>ap_med</th>\n",
              "      <th>train_nd</th>\n",
              "      <th>TOT_ZONE</th>\n",
              "      <th>VOLUME_PROSTATICO</th>\n",
              "      <th>PSA</th>\n",
              "      <th>FREE_PSA</th>\n",
              "      <th>RATIO</th>\n",
              "      <th>Glicemia</th>\n",
              "      <th>HDL</th>\n",
              "      <th>LDL</th>\n",
              "      <th>Trigliceridi</th>\n",
              "      <th>Creatinina</th>\n",
              "    </tr>\n",
              "  </thead>\n",
              "  <tbody>\n",
              "    <tr>\n",
              "      <th>56</th>\n",
              "      <td>22.491349</td>\n",
              "      <td>0.0</td>\n",
              "      <td>0.0</td>\n",
              "      <td>0.0</td>\n",
              "      <td>0.0</td>\n",
              "      <td>0.0</td>\n",
              "      <td>0.0</td>\n",
              "      <td>0.0</td>\n",
              "      <td>1.0</td>\n",
              "      <td>1.0</td>\n",
              "      <td>45.6</td>\n",
              "      <td>11.02</td>\n",
              "      <td>NaN</td>\n",
              "      <td>NaN</td>\n",
              "      <td>76</td>\n",
              "      <td>39</td>\n",
              "      <td>123</td>\n",
              "      <td>196</td>\n",
              "      <td>1.0</td>\n",
              "    </tr>\n",
              "    <tr>\n",
              "      <th>61</th>\n",
              "      <td>28.408163</td>\n",
              "      <td>0.0</td>\n",
              "      <td>0.0</td>\n",
              "      <td>0.0</td>\n",
              "      <td>0.0</td>\n",
              "      <td>1.0</td>\n",
              "      <td>0.0</td>\n",
              "      <td>0.0</td>\n",
              "      <td>0.0</td>\n",
              "      <td>3.0</td>\n",
              "      <td>32.0</td>\n",
              "      <td>10.74</td>\n",
              "      <td>NaN</td>\n",
              "      <td>NaN</td>\n",
              "      <td>101</td>\n",
              "      <td>45</td>\n",
              "      <td>123</td>\n",
              "      <td>155</td>\n",
              "      <td>1.0</td>\n",
              "    </tr>\n",
              "  </tbody>\n",
              "</table>\n",
              "</div>"
            ],
            "text/plain": [
              "          BMI  base_sx  base_med  equ_sx  ...  HDL  LDL  Trigliceridi  Creatinina\n",
              "56  22.491349      0.0       0.0     0.0  ...   39  123           196         1.0\n",
              "61  28.408163      0.0       0.0     0.0  ...   45  123           155         1.0\n",
              "\n",
              "[2 rows x 19 columns]"
            ]
          },
          "metadata": {},
          "execution_count": 22
        }
      ]
    },
    {
      "cell_type": "code",
      "metadata": {
        "id": "4IneA4bkJuW1"
      },
      "source": [
        "X_test[\"FREE_PSA\"].fillna(PSA_Median)\n",
        "X_test[\"RATIO\"].fillna(Ratio_median)\n",
        "X_test=X_test.fillna(-1)"
      ],
      "execution_count": null,
      "outputs": []
    },
    {
      "cell_type": "markdown",
      "metadata": {
        "id": "hMi5qXul_1xO"
      },
      "source": [
        "#Normalization"
      ]
    },
    {
      "cell_type": "code",
      "metadata": {
        "id": "JWmK0C_5_1TK"
      },
      "source": [
        "#Scale the data (Feature Scaling Z Score) z = (x - u) / s\n",
        "from sklearn.preprocessing import StandardScaler\n",
        "sc=StandardScaler()\n",
        "X_train = sc.fit_transform(X_train)\n",
        "X_validation=sc.transform(X_validation)\n",
        "X_test = sc.transform(X_test)"
      ],
      "execution_count": null,
      "outputs": []
    },
    {
      "cell_type": "markdown",
      "metadata": {
        "id": "U5LurLvN_Zbg"
      },
      "source": [
        "#SMOTE"
      ]
    },
    {
      "cell_type": "code",
      "metadata": {
        "id": "c05F_0-i_X1a"
      },
      "source": [
        "from imblearn.over_sampling import SMOTE\n",
        "sm = SMOTE(random_state=42)\n",
        "X_train, Y_train = sm.fit_resample(X_train, Y_train)"
      ],
      "execution_count": null,
      "outputs": []
    },
    {
      "cell_type": "code",
      "metadata": {
        "colab": {
          "base_uri": "https://localhost:8080/"
        },
        "id": "--Rsa-qPC38f",
        "outputId": "543901ab-9fd3-4c6e-b5e5-4478d9e462cd"
      },
      "source": [
        "X_train.shape"
      ],
      "execution_count": null,
      "outputs": [
        {
          "output_type": "execute_result",
          "data": {
            "text/plain": [
              "(34, 19)"
            ]
          },
          "metadata": {},
          "execution_count": 26
        }
      ]
    },
    {
      "cell_type": "markdown",
      "metadata": {
        "id": "mJhAHqraLNCv"
      },
      "source": [
        "#Convert in np array"
      ]
    },
    {
      "cell_type": "code",
      "metadata": {
        "id": "hx4ktVQULPQU"
      },
      "source": [
        "X_train = np.array(X_train)\n",
        "X_validation=np.array(X_validation)\n",
        "X_test = np.array(X_test)\n",
        "\n",
        "Y_train = np.array(Y_train)\n",
        "Y_validation=np.array(Y_validation)\n",
        "Y_test = np.array(Y_test)"
      ],
      "execution_count": null,
      "outputs": []
    },
    {
      "cell_type": "markdown",
      "metadata": {
        "id": "zybbtFCCGnod"
      },
      "source": [
        "#Grid Search"
      ]
    },
    {
      "cell_type": "code",
      "metadata": {
        "colab": {
          "base_uri": "https://localhost:8080/"
        },
        "id": "tumHqgrnFNBn",
        "outputId": "0daa0270-8dcd-4b41-a600-c020ce43f92f"
      },
      "source": [
        "from sklearn.svm import SVC\n",
        "from sklearn.pipeline import make_pipeline\n",
        "from sklearn.model_selection import GridSearchCV\n",
        "pipelineSVC = make_pipeline(SVC(random_state=1))\n",
        "#\n",
        "# Create the parameter grid\n",
        "#\n",
        "param_grid_svc = [\n",
        "                 {\n",
        "                    'svc__C': [0.001, 0.01, 0.05, 0.1, 0.5, 1.0, 10.0,100],\n",
        "                    'svc__gamma': [0.001, 0.01, 0.05, 0.1, 0.5, 1.0, 10.0],\n",
        "                    'svc__kernel': ['rbf']\n",
        "                 },\n",
        "                 {\n",
        "                    'svc__C': [0.001, 0.01, 0.05, 0.1, 0.5, 1.0, 10.0,100],\n",
        "                    'svc__degree': [1,2,3,4,5,6,7,8,9,10],\n",
        "                    'svc__kernel': ['poly']\n",
        "                 },\n",
        "                  {\n",
        "                    'svc__C': [0.001, 0.01, 0.05, 0.1, 0.5, 1.0, 10.0,100],\n",
        "                    'svc__kernel': ['linear']\n",
        "                  }\n",
        "                  ]\n",
        "#\n",
        "# Create an instance of GridSearch Cross-validation estimator\n",
        "#\n",
        "gsSVC = GridSearchCV(estimator=pipelineSVC,\n",
        "                     param_grid = param_grid_svc,\n",
        "                     scoring='accuracy',\n",
        "                     cv=10,\n",
        "                     refit=True,\n",
        "                     n_jobs=1)\n",
        "#\n",
        "# Train the SVM classifier\n",
        "#\n",
        "gsSVC.fit(X_train, Y_train)\n",
        "#\n",
        "# Print the training score of the best model\n",
        "#\n",
        "print(gsSVC.best_score_)\n",
        "#\n",
        "# Print the model parameters of the best model\n",
        "#\n",
        "print(gsSVC.best_params_)\n",
        "#\n",
        "# Print the model score on the test data using GridSearchCV score method\n",
        "#\n",
        "print('Test accuracy: %.3f' % gsSVC.score(X_validation, Y_validation))\n",
        "#\n",
        "# Print the model score on the test data using Best estimator instance\n",
        "#\n",
        "clfSVC = gsSVC.best_estimator_\n",
        "print('Test accuracy: %.3f' % clfSVC.score(X_validation, Y_validation))"
      ],
      "execution_count": null,
      "outputs": [
        {
          "output_type": "stream",
          "name": "stdout",
          "text": [
            "0.8833333333333332\n",
            "{'svc__C': 100, 'svc__degree': 3, 'svc__kernel': 'poly'}\n",
            "Test accuracy: 0.556\n",
            "Test accuracy: 0.556\n"
          ]
        }
      ]
    },
    {
      "cell_type": "code",
      "metadata": {
        "colab": {
          "base_uri": "https://localhost:8080/"
        },
        "id": "axCR48cHLeWu",
        "outputId": "2ce83422-6dbf-4ab6-8e87-a4179f5b4f2e"
      },
      "source": [
        "from sklearn.linear_model import LogisticRegression\n",
        "pipelineLR = make_pipeline(LogisticRegression(random_state=1, penalty='l2', solver='lbfgs'))\n",
        "#\n",
        "# Create the parameter grid\n",
        "#\n",
        "param_grid_lr = [{\n",
        "    'logisticregression__C': [0.001, 0.01, 0.05, 0.1, 0.5, 1.0, 10.0,100,200],\n",
        "}]\n",
        "#\n",
        "# Create an instance of GridSearch Cross-validation estimator\n",
        "#\n",
        "gsLR = GridSearchCV(estimator=pipelineLR,\n",
        "                     param_grid = param_grid_lr,\n",
        "                     scoring='accuracy',\n",
        "                     cv=10,\n",
        "                     refit=True,\n",
        "                     n_jobs=1)\n",
        "#\n",
        "# Train the LogisticRegression Classifier\n",
        "#\n",
        "gsLR = gsLR.fit(X_train, Y_train)\n",
        "#\n",
        "# Print the training score of the best model\n",
        "#\n",
        "print(gsLR.best_score_)\n",
        "#\n",
        "# Print the model parameters of the best model\n",
        "#\n",
        "print(gsLR.best_params_)\n",
        "#\n",
        "# Print the test score of the best model\n",
        "#\n",
        "clfLR = gsLR.best_estimator_\n",
        "print('Test accuracy: %.3f' % clfLR.score(X_validation, Y_validation))"
      ],
      "execution_count": null,
      "outputs": [
        {
          "output_type": "stream",
          "name": "stdout",
          "text": [
            "0.7166666666666666\n",
            "{'logisticregression__C': 10.0}\n",
            "Test accuracy: 0.722\n"
          ]
        }
      ]
    },
    {
      "cell_type": "markdown",
      "metadata": {
        "id": "LLhHAH2BggJ8"
      },
      "source": [
        "Provo vari modelli"
      ]
    },
    {
      "cell_type": "code",
      "metadata": {
        "id": "X_CUqd3mupwB"
      },
      "source": [
        "#Create a function for the models\n",
        "def models(X_train,Y_train):\n",
        "  from sklearn.linear_model import LogisticRegression\n",
        "  log=LogisticRegression(penalty='l2', random_state=1, solver='lbfgs', C=10)\n",
        "  log.fit(X_train,Y_train)\n",
        "\n",
        "  #Decision Tree\n",
        "  from sklearn.tree import DecisionTreeClassifier\n",
        "  tree=DecisionTreeClassifier(criterion='entropy', random_state=0)\n",
        "  tree.fit(X_train,Y_train)\n",
        "\n",
        "  #Support Vector Machine\n",
        "  from sklearn.svm import SVC\n",
        "  support_vector_machine = SVC(C=100, kernel='linear')\n",
        "  support_vector_machine.fit(X_train, Y_train)\n",
        "\n",
        "  #NaiveBayes\n",
        "  from sklearn.naive_bayes import GaussianNB\n",
        "  NB = GaussianNB()\n",
        "  NB.fit(X_train, Y_train)\n",
        "\n",
        "  #MLP\n",
        "  from sklearn.neural_network import MLPClassifier\n",
        "  # Create model object\n",
        "  Mlp = MLPClassifier(random_state=0, verbose=False, learning_rate_init=0.01)\n",
        "  Mlp.fit(X_train, Y_train)\n",
        "\n",
        "  print(\"[0] Logistic Regression Training Accuracy: \", log.score(X_train,Y_train))\n",
        "  print(\"[1] Decision Tree Training Accuracy: \", tree.score(X_train,Y_train))\n",
        "  print(\"[2] Support Vector Machine Training Accuracy: \", support_vector_machine.score(X_train,Y_train))\n",
        "  print(\"[3] Nayve Bayes Training Accuracy: \", NB.score(X_train,Y_train))\n",
        "  print(\"[4] Mlp Training Accuracy: \", Mlp.score(X_train,Y_train))\n",
        "  \n",
        "  return log,tree,support_vector_machine,NB,Mlp"
      ],
      "execution_count": null,
      "outputs": []
    },
    {
      "cell_type": "code",
      "metadata": {
        "colab": {
          "base_uri": "https://localhost:8080/"
        },
        "id": "g_2mkEiI22aq",
        "outputId": "c2136acf-b2ec-42c7-a801-fb9bdcb753ed"
      },
      "source": [
        "#Get all of the models\n",
        "model = models(X_train,Y_train)"
      ],
      "execution_count": null,
      "outputs": [
        {
          "output_type": "stream",
          "name": "stdout",
          "text": [
            "[0] Logistic Regression Training Accuracy:  1.0\n",
            "[1] Decision Tree Training Accuracy:  1.0\n",
            "[2] Support Vector Machine Training Accuracy:  1.0\n",
            "[3] Nayve Bayes Training Accuracy:  0.7941176470588235\n",
            "[4] Mlp Training Accuracy:  1.0\n"
          ]
        }
      ]
    },
    {
      "cell_type": "code",
      "metadata": {
        "tags": [],
        "id": "nHgxuBOhoK7r"
      },
      "source": [
        "def Matrix(ytest,ypred):\n",
        "  mat = confusion_matrix(ytest, ypred, normalize = 'true') # evaluate\n",
        "  plt.figure(figsize=(12, 8), dpi=70)\n",
        "  sns.heatmap(mat.T*100, square=True, annot=True, vmin=0.0, vmax=100.0, fmt='.1f', cbar=True) # plot via seaborn\n",
        "  sns.set(font_scale=1.4) # for label size\n",
        "  plt.xlabel('True Label')\n",
        "  plt.ylabel('Predicted Label');\n",
        "  plt.title('Confusion Matrix of model '+ str(i))"
      ],
      "execution_count": null,
      "outputs": []
    },
    {
      "cell_type": "code",
      "metadata": {
        "colab": {
          "base_uri": "https://localhost:8080/"
        },
        "id": "i_vqEbSZ1igP",
        "outputId": "9ad123fe-ad14-4152-a616-e6373211107c"
      },
      "source": [
        "#test model accuracy on test data on confusion metrics\n",
        "from sklearn.metrics import confusion_matrix\n",
        "from sklearn.metrics import accuracy_score\n",
        "from sklearn.metrics import classification_report\n",
        "from sklearn.metrics import plot_confusion_matrix \n",
        "\n",
        "for i in range(len(model)):\n",
        "  print(\"Model: \" + str(i))\n",
        "  ypred = model[i].predict(X_validation)\n",
        "  cm = confusion_matrix(Y_validation,ypred)\n",
        "  print(cm)\n",
        "  print(\"\\nAccuracy : \", accuracy_score(Y_validation, ypred))\n",
        "  print(\"Classification Report : \", classification_report(Y_validation, ypred))\n",
        "  #Matrix(Y_test,ypred)\n",
        "  #plot_confusion_matrix(model[i],X_test, Y_test) # evaluate and plot confusion matrix"
      ],
      "execution_count": null,
      "outputs": [
        {
          "output_type": "stream",
          "name": "stdout",
          "text": [
            "Model: 0\n",
            "[[ 2  4]\n",
            " [ 1 11]]\n",
            "\n",
            "Accuracy :  0.7222222222222222\n",
            "Classification Report :                precision    recall  f1-score   support\n",
            "\n",
            "           0       0.67      0.33      0.44         6\n",
            "           1       0.73      0.92      0.81        12\n",
            "\n",
            "    accuracy                           0.72        18\n",
            "   macro avg       0.70      0.62      0.63        18\n",
            "weighted avg       0.71      0.72      0.69        18\n",
            "\n",
            "Model: 1\n",
            "[[3 3]\n",
            " [3 9]]\n",
            "\n",
            "Accuracy :  0.6666666666666666\n",
            "Classification Report :                precision    recall  f1-score   support\n",
            "\n",
            "           0       0.50      0.50      0.50         6\n",
            "           1       0.75      0.75      0.75        12\n",
            "\n",
            "    accuracy                           0.67        18\n",
            "   macro avg       0.62      0.62      0.62        18\n",
            "weighted avg       0.67      0.67      0.67        18\n",
            "\n",
            "Model: 2\n",
            "[[ 2  4]\n",
            " [ 1 11]]\n",
            "\n",
            "Accuracy :  0.7222222222222222\n",
            "Classification Report :                precision    recall  f1-score   support\n",
            "\n",
            "           0       0.67      0.33      0.44         6\n",
            "           1       0.73      0.92      0.81        12\n",
            "\n",
            "    accuracy                           0.72        18\n",
            "   macro avg       0.70      0.62      0.63        18\n",
            "weighted avg       0.71      0.72      0.69        18\n",
            "\n",
            "Model: 3\n",
            "[[ 0  6]\n",
            " [ 2 10]]\n",
            "\n",
            "Accuracy :  0.5555555555555556\n",
            "Classification Report :                precision    recall  f1-score   support\n",
            "\n",
            "           0       0.00      0.00      0.00         6\n",
            "           1       0.62      0.83      0.71        12\n",
            "\n",
            "    accuracy                           0.56        18\n",
            "   macro avg       0.31      0.42      0.36        18\n",
            "weighted avg       0.42      0.56      0.48        18\n",
            "\n",
            "Model: 4\n",
            "[[1 5]\n",
            " [3 9]]\n",
            "\n",
            "Accuracy :  0.5555555555555556\n",
            "Classification Report :                precision    recall  f1-score   support\n",
            "\n",
            "           0       0.25      0.17      0.20         6\n",
            "           1       0.64      0.75      0.69        12\n",
            "\n",
            "    accuracy                           0.56        18\n",
            "   macro avg       0.45      0.46      0.45        18\n",
            "weighted avg       0.51      0.56      0.53        18\n",
            "\n"
          ]
        }
      ]
    },
    {
      "cell_type": "code",
      "metadata": {
        "id": "7Xl0BudI3xVP",
        "colab": {
          "base_uri": "https://localhost:8080/"
        },
        "outputId": "67b5cf19-0888-49a7-f295-34e93cbbc83e"
      },
      "source": [
        "#test model accuracy on test data on confusion metrics\n",
        "from sklearn.metrics import confusion_matrix\n",
        "from sklearn.metrics import accuracy_score\n",
        "from sklearn.metrics import classification_report\n",
        "from sklearn.metrics import plot_confusion_matrix \n",
        "\n",
        "for i in range(len(model)):\n",
        "  print(\"Model: \" + str(i))\n",
        "  ypred = model[i].predict(X_test)\n",
        "  cm = confusion_matrix(Y_test,ypred)\n",
        "  print(cm)\n",
        "  print(\"\\nAccuracy : \", accuracy_score(Y_test, ypred))\n",
        "  print(\"Classification Report : \", classification_report(Y_test, ypred))\n",
        "  #Matrix(Y_test,ypred)\n",
        "  #plot_confusion_matrix(model[i],X_test, Y_test) # evaluate and plot confusion matrix\n"
      ],
      "execution_count": null,
      "outputs": [
        {
          "output_type": "stream",
          "name": "stdout",
          "text": [
            "Model: 0\n",
            "[[ 3  4]\n",
            " [ 3 10]]\n",
            "\n",
            "Accuracy :  0.65\n",
            "Classification Report :                precision    recall  f1-score   support\n",
            "\n",
            "           0       0.50      0.43      0.46         7\n",
            "           1       0.71      0.77      0.74        13\n",
            "\n",
            "    accuracy                           0.65        20\n",
            "   macro avg       0.61      0.60      0.60        20\n",
            "weighted avg       0.64      0.65      0.64        20\n",
            "\n",
            "Model: 1\n",
            "[[ 5  2]\n",
            " [ 2 11]]\n",
            "\n",
            "Accuracy :  0.8\n",
            "Classification Report :                precision    recall  f1-score   support\n",
            "\n",
            "           0       0.71      0.71      0.71         7\n",
            "           1       0.85      0.85      0.85        13\n",
            "\n",
            "    accuracy                           0.80        20\n",
            "   macro avg       0.78      0.78      0.78        20\n",
            "weighted avg       0.80      0.80      0.80        20\n",
            "\n",
            "Model: 2\n",
            "[[ 4  3]\n",
            " [ 3 10]]\n",
            "\n",
            "Accuracy :  0.7\n",
            "Classification Report :                precision    recall  f1-score   support\n",
            "\n",
            "           0       0.57      0.57      0.57         7\n",
            "           1       0.77      0.77      0.77        13\n",
            "\n",
            "    accuracy                           0.70        20\n",
            "   macro avg       0.67      0.67      0.67        20\n",
            "weighted avg       0.70      0.70      0.70        20\n",
            "\n",
            "Model: 3\n",
            "[[ 3  4]\n",
            " [ 0 13]]\n",
            "\n",
            "Accuracy :  0.8\n",
            "Classification Report :                precision    recall  f1-score   support\n",
            "\n",
            "           0       1.00      0.43      0.60         7\n",
            "           1       0.76      1.00      0.87        13\n",
            "\n",
            "    accuracy                           0.80        20\n",
            "   macro avg       0.88      0.71      0.73        20\n",
            "weighted avg       0.85      0.80      0.77        20\n",
            "\n",
            "Model: 4\n",
            "[[ 4  3]\n",
            " [ 1 12]]\n",
            "\n",
            "Accuracy :  0.8\n",
            "Classification Report :                precision    recall  f1-score   support\n",
            "\n",
            "           0       0.80      0.57      0.67         7\n",
            "           1       0.80      0.92      0.86        13\n",
            "\n",
            "    accuracy                           0.80        20\n",
            "   macro avg       0.80      0.75      0.76        20\n",
            "weighted avg       0.80      0.80      0.79        20\n",
            "\n"
          ]
        }
      ]
    },
    {
      "cell_type": "code",
      "metadata": {
        "id": "XJm9IOvX8ZyK",
        "colab": {
          "base_uri": "https://localhost:8080/"
        },
        "outputId": "a24091a2-4485-4798-eff5-486a15860b7a"
      },
      "source": [
        "pred=model[3].predict(X_test)\n",
        "print(pred)\n",
        "print()\n",
        "print(Y_test)"
      ],
      "execution_count": null,
      "outputs": [
        {
          "output_type": "stream",
          "name": "stdout",
          "text": [
            "[1 1 1 0 1 0 1 1 1 1 1 1 1 0 0 1 1 1 1 0]\n",
            "\n",
            "[1 1 0 0 0 0 1 0 1 1 1 1 0 1 0 1 1 1 1 1]\n"
          ]
        }
      ]
    },
    {
      "cell_type": "markdown",
      "metadata": {
        "id": "MjZLbJSiKdV-"
      },
      "source": [
        "#Andiamo più a fuoco sulla SVM\n",
        "\n",
        "\n"
      ]
    },
    {
      "cell_type": "code",
      "metadata": {
        "colab": {
          "base_uri": "https://localhost:8080/"
        },
        "id": "MHmuAMib6Lgm",
        "outputId": "03c3a12e-9524-4d35-cf8b-732f0b9cd8cb"
      },
      "source": [
        "#Support Vector Machine\n",
        "from sklearn.svm import SVC\n",
        "support_vector_machine = SVC(C=10, kernel='linear', random_state=0)\n",
        "support_vector_machine.fit(X_train, Y_train)"
      ],
      "execution_count": null,
      "outputs": [
        {
          "output_type": "execute_result",
          "data": {
            "text/plain": [
              "SVC(C=10, kernel='linear', random_state=0)"
            ]
          },
          "metadata": {},
          "execution_count": 35
        }
      ]
    },
    {
      "cell_type": "code",
      "metadata": {
        "id": "2Aq29P9s6RNN",
        "colab": {
          "base_uri": "https://localhost:8080/"
        },
        "outputId": "65f3aadf-27cd-49f9-eae0-8882af1d2d84"
      },
      "source": [
        "print(\"Support Vector Machine Training Accuracy: \", support_vector_machine.score(X_train,Y_train))\n",
        "ypred = support_vector_machine.predict(X_validation)\n",
        "cm = confusion_matrix(Y_validation,ypred)\n",
        "print(cm)\n",
        "print(\"\\nAccuracy : \", accuracy_score(Y_validation, ypred))\n",
        "print(\"Classification Report : \", classification_report(Y_validation, ypred))\n",
        "#Matrix(Y_test,ypred)\n",
        "#plot_confusion_matrix(model[i],X_test, Y_test) # evaluate and plot confusion matrix"
      ],
      "execution_count": null,
      "outputs": [
        {
          "output_type": "stream",
          "name": "stdout",
          "text": [
            "Support Vector Machine Training Accuracy:  1.0\n",
            "[[ 2  4]\n",
            " [ 1 11]]\n",
            "\n",
            "Accuracy :  0.7222222222222222\n",
            "Classification Report :                precision    recall  f1-score   support\n",
            "\n",
            "           0       0.67      0.33      0.44         6\n",
            "           1       0.73      0.92      0.81        12\n",
            "\n",
            "    accuracy                           0.72        18\n",
            "   macro avg       0.70      0.62      0.63        18\n",
            "weighted avg       0.71      0.72      0.69        18\n",
            "\n"
          ]
        }
      ]
    },
    {
      "cell_type": "code",
      "metadata": {
        "colab": {
          "base_uri": "https://localhost:8080/"
        },
        "id": "OzO9b_GIKnAQ",
        "outputId": "4ca0940b-2f3b-4843-ab8f-989e145be4b5"
      },
      "source": [
        "print(\"Support Vector Machine Training Accuracy: \", support_vector_machine.score(X_train,Y_train))\n",
        "ypred = support_vector_machine.predict(X_test)\n",
        "cm = confusion_matrix(Y_test,ypred)\n",
        "print(cm)\n",
        "print(\"\\nAccuracy : \", accuracy_score(Y_test, ypred))\n",
        "print(\"Classification Report : \", classification_report(Y_test, ypred))\n",
        "#Matrix(Y_test,ypred)\n",
        "#plot_confusion_matrix(model[i],X_test, Y_test) # evaluate and plot confusion matrix\n",
        "\n"
      ],
      "execution_count": null,
      "outputs": [
        {
          "output_type": "stream",
          "name": "stdout",
          "text": [
            "Support Vector Machine Training Accuracy:  1.0\n",
            "[[ 4  3]\n",
            " [ 3 10]]\n",
            "\n",
            "Accuracy :  0.7\n",
            "Classification Report :                precision    recall  f1-score   support\n",
            "\n",
            "           0       0.57      0.57      0.57         7\n",
            "           1       0.77      0.77      0.77        13\n",
            "\n",
            "    accuracy                           0.70        20\n",
            "   macro avg       0.67      0.67      0.67        20\n",
            "weighted avg       0.70      0.70      0.70        20\n",
            "\n"
          ]
        }
      ]
    },
    {
      "cell_type": "code",
      "metadata": {
        "colab": {
          "base_uri": "https://localhost:8080/"
        },
        "id": "29LpevD0NMI_",
        "outputId": "15e5beb3-1375-4850-bbb7-9512c0282407"
      },
      "source": [
        "pred=support_vector_machine.predict(X_test)\n",
        "print(pred)\n",
        "print()"
      ],
      "execution_count": null,
      "outputs": [
        {
          "output_type": "stream",
          "name": "stdout",
          "text": [
            "[1 1 0 0 1 0 1 1 1 1 1 0 1 1 0 1 0 1 1 0]\n",
            "\n"
          ]
        }
      ]
    },
    {
      "cell_type": "markdown",
      "metadata": {
        "id": "sgLOWcr8A9k0"
      },
      "source": [
        "#Andiamo più a fuoco sulla Logistic Regression"
      ]
    },
    {
      "cell_type": "code",
      "metadata": {
        "colab": {
          "base_uri": "https://localhost:8080/"
        },
        "id": "HlvXfKDiA6oU",
        "outputId": "8b73893f-2ecf-4c51-e853-441e1d2d4f8f"
      },
      "source": [
        "from sklearn.linear_model import LogisticRegression\n",
        "log=LogisticRegression(penalty='l2', random_state=1, solver='lbfgs', C=10)\n",
        "log.fit(X_train,Y_train)"
      ],
      "execution_count": null,
      "outputs": [
        {
          "output_type": "execute_result",
          "data": {
            "text/plain": [
              "LogisticRegression(C=10, random_state=1)"
            ]
          },
          "metadata": {},
          "execution_count": 39
        }
      ]
    },
    {
      "cell_type": "code",
      "metadata": {
        "colab": {
          "base_uri": "https://localhost:8080/"
        },
        "id": "DQQVebGDBnZ-",
        "outputId": "90101eab-d2f2-4a35-c1e1-1a4d0548d091"
      },
      "source": [
        "print(\"Logistic Regression Training Accuracy: \", log.score(X_train,Y_train))\n",
        "ypred = log.predict(X_validation)\n",
        "cm = confusion_matrix(Y_validation,ypred)\n",
        "print(cm)\n",
        "print(\"\\nAccuracy : \", accuracy_score(Y_validation, ypred))\n",
        "print(\"Classification Report : \", classification_report(Y_validation, ypred))\n",
        "#Matrix(Y_test,ypred)\n",
        "#plot_confusion_matrix(model[i],X_test, Y_test) # evaluate and plot confusion matrix"
      ],
      "execution_count": null,
      "outputs": [
        {
          "output_type": "stream",
          "name": "stdout",
          "text": [
            "Logistic Regression Training Accuracy:  1.0\n",
            "[[ 2  4]\n",
            " [ 1 11]]\n",
            "\n",
            "Accuracy :  0.7222222222222222\n",
            "Classification Report :                precision    recall  f1-score   support\n",
            "\n",
            "           0       0.67      0.33      0.44         6\n",
            "           1       0.73      0.92      0.81        12\n",
            "\n",
            "    accuracy                           0.72        18\n",
            "   macro avg       0.70      0.62      0.63        18\n",
            "weighted avg       0.71      0.72      0.69        18\n",
            "\n"
          ]
        }
      ]
    },
    {
      "cell_type": "code",
      "metadata": {
        "colab": {
          "base_uri": "https://localhost:8080/"
        },
        "id": "N3osRer9B5DM",
        "outputId": "87673568-d604-4412-9d2e-0cb8d3552049"
      },
      "source": [
        "print(\"Logistic Regression Training Accuracy: \", log.score(X_train,Y_train))\n",
        "ypred = log.predict(X_test)\n",
        "cm = confusion_matrix(Y_test,ypred)\n",
        "print(cm)\n",
        "print(\"\\nAccuracy : \", accuracy_score(Y_test, ypred))\n",
        "print(\"Classification Report : \", classification_report(Y_test, ypred))\n",
        "#Matrix(Y_test,ypred)\n",
        "#plot_confusion_matrix(model[i],X_test, Y_test) # evaluate and plot confusion matrix"
      ],
      "execution_count": null,
      "outputs": [
        {
          "output_type": "stream",
          "name": "stdout",
          "text": [
            "Logistic Regression Training Accuracy:  1.0\n",
            "[[ 3  4]\n",
            " [ 3 10]]\n",
            "\n",
            "Accuracy :  0.65\n",
            "Classification Report :                precision    recall  f1-score   support\n",
            "\n",
            "           0       0.50      0.43      0.46         7\n",
            "           1       0.71      0.77      0.74        13\n",
            "\n",
            "    accuracy                           0.65        20\n",
            "   macro avg       0.61      0.60      0.60        20\n",
            "weighted avg       0.64      0.65      0.64        20\n",
            "\n"
          ]
        }
      ]
    },
    {
      "cell_type": "markdown",
      "metadata": {
        "id": "kqQbW41Napdl"
      },
      "source": [
        "#Definition"
      ]
    },
    {
      "cell_type": "code",
      "metadata": {
        "id": "56pF8hNfaov7"
      },
      "source": [
        "df_1=pd.DataFrame(X_train)\n",
        "df_2=pd.DataFrame(X_validation)\n",
        "\n",
        "X_n=df_1.append(df_2, ignore_index=True)\n",
        "\n",
        "df_1=pd.DataFrame(Y_train)\n",
        "df_2=pd.DataFrame(Y_validation)\n",
        "\n",
        "Y_n=df_1.append(df_2, ignore_index=True)\n",
        "\n",
        "X_n=np.array(X_n)\n",
        "Y_n=np.array(Y_n)\n",
        "\n",
        "X_n_test=X_test\n",
        "Y_n_test=Y_test"
      ],
      "execution_count": null,
      "outputs": []
    },
    {
      "cell_type": "code",
      "metadata": {
        "id": "i83QUg4mOOKX",
        "colab": {
          "base_uri": "https://localhost:8080/"
        },
        "outputId": "b31197d6-e6bb-46b2-86c5-b7d97a8c8a41"
      },
      "source": [
        "#Support Vector Machine\n",
        "from sklearn.svm import SVC\n",
        "support_vector_machine = SVC(C=1, kernel='linear', random_state=0)\n",
        "support_vector_machine.fit(X_n, Y_n)"
      ],
      "execution_count": null,
      "outputs": [
        {
          "output_type": "stream",
          "name": "stderr",
          "text": [
            "/usr/local/lib/python3.7/dist-packages/sklearn/utils/validation.py:985: DataConversionWarning: A column-vector y was passed when a 1d array was expected. Please change the shape of y to (n_samples, ), for example using ravel().\n",
            "  y = column_or_1d(y, warn=True)\n"
          ]
        },
        {
          "output_type": "execute_result",
          "data": {
            "text/plain": [
              "SVC(C=1, kernel='linear', random_state=0)"
            ]
          },
          "metadata": {},
          "execution_count": 43
        }
      ]
    },
    {
      "cell_type": "code",
      "metadata": {
        "colab": {
          "base_uri": "https://localhost:8080/"
        },
        "id": "EOdSlHxH-DpE",
        "outputId": "405dd948-bd57-4fbc-c064-86dac5205a95"
      },
      "source": [
        "#test model accuracy on test data on confusion metrics\n",
        "from sklearn.metrics import confusion_matrix\n",
        "from sklearn.metrics import accuracy_score\n",
        "from sklearn.metrics import classification_report\n",
        "from sklearn.metrics import plot_confusion_matrix \n",
        "print(\"Support Vector Machine Training Accuracy: \", support_vector_machine.score(X_n,Y_n))\n",
        "ypred = support_vector_machine.predict(X_n_test)\n",
        "cm = confusion_matrix(Y_n_test,ypred)\n",
        "print(cm)\n",
        "print(\"\\nAccuracy : \", accuracy_score(Y_n_test, ypred))\n",
        "print(\"Classification Report : \", classification_report(Y_n_test, ypred))\n",
        "#Matrix(Y_test,ypred)\n",
        "#plot_confusion_matrix(model[i],X_test, Y_test) # evaluate and plot confusion matrix"
      ],
      "execution_count": null,
      "outputs": [
        {
          "output_type": "stream",
          "name": "stdout",
          "text": [
            "Support Vector Machine Training Accuracy:  0.8653846153846154\n",
            "[[ 4  3]\n",
            " [ 1 12]]\n",
            "\n",
            "Accuracy :  0.8\n",
            "Classification Report :                precision    recall  f1-score   support\n",
            "\n",
            "           0       0.80      0.57      0.67         7\n",
            "           1       0.80      0.92      0.86        13\n",
            "\n",
            "    accuracy                           0.80        20\n",
            "   macro avg       0.80      0.75      0.76        20\n",
            "weighted avg       0.80      0.80      0.79        20\n",
            "\n"
          ]
        }
      ]
    },
    {
      "cell_type": "code",
      "metadata": {
        "colab": {
          "base_uri": "https://localhost:8080/"
        },
        "id": "BqNP287NdDA6",
        "outputId": "fd1d50d2-2b37-4c41-d442-cee206d44aef"
      },
      "source": [
        "from sklearn.linear_model import LogisticRegression\n",
        "log=LogisticRegression(penalty='l2', random_state=1, solver='lbfgs', C=10)\n",
        "log.fit(X_n,Y_n)"
      ],
      "execution_count": null,
      "outputs": [
        {
          "output_type": "stream",
          "name": "stderr",
          "text": [
            "/usr/local/lib/python3.7/dist-packages/sklearn/utils/validation.py:985: DataConversionWarning: A column-vector y was passed when a 1d array was expected. Please change the shape of y to (n_samples, ), for example using ravel().\n",
            "  y = column_or_1d(y, warn=True)\n"
          ]
        },
        {
          "output_type": "execute_result",
          "data": {
            "text/plain": [
              "LogisticRegression(C=10, random_state=1)"
            ]
          },
          "metadata": {},
          "execution_count": 45
        }
      ]
    },
    {
      "cell_type": "code",
      "metadata": {
        "colab": {
          "base_uri": "https://localhost:8080/"
        },
        "id": "6VZytAYfyf-6",
        "outputId": "7afc13aa-56f1-4ccc-e115-fd59b5154539"
      },
      "source": [
        "#test model accuracy on test data on confusion metrics\n",
        "from sklearn.metrics import confusion_matrix\n",
        "from sklearn.metrics import accuracy_score\n",
        "from sklearn.metrics import classification_report\n",
        "from sklearn.metrics import plot_confusion_matrix \n",
        "print(\"Logistic Regression Accuracy: \", log.score(X_n,Y_n))\n",
        "ypred = log.predict(X_n_test)\n",
        "cm = confusion_matrix(Y_n_test,ypred)\n",
        "print(cm)\n",
        "print(\"\\nAccuracy : \", accuracy_score(Y_n_test, ypred))\n",
        "print(\"Classification Report : \", classification_report(Y_n_test, ypred))\n",
        "#Matrix(Y_test,ypred)\n",
        "#plot_confusion_matrix(model[i],X_test, Y_test) # evaluate and plot confusion matrix"
      ],
      "execution_count": null,
      "outputs": [
        {
          "output_type": "stream",
          "name": "stdout",
          "text": [
            "Logistic Regression Accuracy:  0.9423076923076923\n",
            "[[ 4  3]\n",
            " [ 1 12]]\n",
            "\n",
            "Accuracy :  0.8\n",
            "Classification Report :                precision    recall  f1-score   support\n",
            "\n",
            "           0       0.80      0.57      0.67         7\n",
            "           1       0.80      0.92      0.86        13\n",
            "\n",
            "    accuracy                           0.80        20\n",
            "   macro avg       0.80      0.75      0.76        20\n",
            "weighted avg       0.80      0.80      0.79        20\n",
            "\n"
          ]
        }
      ]
    },
    {
      "cell_type": "markdown",
      "metadata": {
        "id": "g4rrlPJ_VqsW"
      },
      "source": [
        "#Provo a dare un risultato"
      ]
    },
    {
      "cell_type": "code",
      "metadata": {
        "id": "SZ7wK3puVgkW",
        "colab": {
          "base_uri": "https://localhost:8080/",
          "height": 1000
        },
        "outputId": "fce666b1-2f44-4051-b99f-4a7625c10676"
      },
      "source": [
        "# importo il csv\n",
        "\n",
        "with open(\"/content/drive/MyDrive/Minicontest1/Test.csv\", 'r') as fp:\n",
        "    df_test = pd.read_csv(fp)\n",
        "\n",
        "df_test"
      ],
      "execution_count": null,
      "outputs": [
        {
          "output_type": "execute_result",
          "data": {
            "text/html": [
              "<div>\n",
              "<style scoped>\n",
              "    .dataframe tbody tr th:only-of-type {\n",
              "        vertical-align: middle;\n",
              "    }\n",
              "\n",
              "    .dataframe tbody tr th {\n",
              "        vertical-align: top;\n",
              "    }\n",
              "\n",
              "    .dataframe thead th {\n",
              "        text-align: right;\n",
              "    }\n",
              "</style>\n",
              "<table border=\"1\" class=\"dataframe\">\n",
              "  <thead>\n",
              "    <tr style=\"text-align: right;\">\n",
              "      <th></th>\n",
              "      <th>row ID</th>\n",
              "      <th>PESO_KG</th>\n",
              "      <th>ALTEZZA_M</th>\n",
              "      <th>BMI</th>\n",
              "      <th>base_sx</th>\n",
              "      <th>base_med</th>\n",
              "      <th>base_dx</th>\n",
              "      <th>equ_sx</th>\n",
              "      <th>equ_med</th>\n",
              "      <th>equ_dx</th>\n",
              "      <th>ap_sx</th>\n",
              "      <th>ap_med</th>\n",
              "      <th>ap_dx</th>\n",
              "      <th>tran_sx</th>\n",
              "      <th>tran_med</th>\n",
              "      <th>tran_dx</th>\n",
              "      <th>train_nd</th>\n",
              "      <th>TOT_ZONE</th>\n",
              "      <th>VOLUME_PROSTATICO</th>\n",
              "      <th>PSA</th>\n",
              "      <th>psa_density</th>\n",
              "      <th>FREE_PSA</th>\n",
              "      <th>RATIO</th>\n",
              "      <th>Glicemia</th>\n",
              "      <th>Colesterolo</th>\n",
              "      <th>HDL</th>\n",
              "      <th>LDL</th>\n",
              "      <th>Trigliceridi</th>\n",
              "      <th>Creatinina</th>\n",
              "    </tr>\n",
              "  </thead>\n",
              "  <tbody>\n",
              "    <tr>\n",
              "      <th>0</th>\n",
              "      <td>1.0</td>\n",
              "      <td>100</td>\n",
              "      <td>1.70</td>\n",
              "      <td>34.602076</td>\n",
              "      <td>0</td>\n",
              "      <td>0</td>\n",
              "      <td>0</td>\n",
              "      <td>1</td>\n",
              "      <td>0</td>\n",
              "      <td>0</td>\n",
              "      <td>0</td>\n",
              "      <td>0</td>\n",
              "      <td>0</td>\n",
              "      <td>0</td>\n",
              "      <td>1</td>\n",
              "      <td>0</td>\n",
              "      <td>0</td>\n",
              "      <td>2</td>\n",
              "      <td>84.0</td>\n",
              "      <td>4.26</td>\n",
              "      <td>0.050714</td>\n",
              "      <td>1.3000</td>\n",
              "      <td>0.305164</td>\n",
              "      <td>101</td>\n",
              "      <td>194</td>\n",
              "      <td>28</td>\n",
              "      <td>70</td>\n",
              "      <td>103</td>\n",
              "      <td>1.00</td>\n",
              "    </tr>\n",
              "    <tr>\n",
              "      <th>1</th>\n",
              "      <td>5.0</td>\n",
              "      <td>80</td>\n",
              "      <td>1.80</td>\n",
              "      <td>24.691358</td>\n",
              "      <td>0</td>\n",
              "      <td>0</td>\n",
              "      <td>0</td>\n",
              "      <td>1</td>\n",
              "      <td>0</td>\n",
              "      <td>0</td>\n",
              "      <td>0</td>\n",
              "      <td>0</td>\n",
              "      <td>0</td>\n",
              "      <td>0</td>\n",
              "      <td>0</td>\n",
              "      <td>0</td>\n",
              "      <td>0</td>\n",
              "      <td>1</td>\n",
              "      <td>78.0</td>\n",
              "      <td>5.45</td>\n",
              "      <td>0.069872</td>\n",
              "      <td>1.0200</td>\n",
              "      <td>0.187156</td>\n",
              "      <td>80</td>\n",
              "      <td>203</td>\n",
              "      <td>53</td>\n",
              "      <td>123</td>\n",
              "      <td>144</td>\n",
              "      <td>1.10</td>\n",
              "    </tr>\n",
              "    <tr>\n",
              "      <th>2</th>\n",
              "      <td>7.0</td>\n",
              "      <td>72</td>\n",
              "      <td>1.69</td>\n",
              "      <td>25.209201</td>\n",
              "      <td>0</td>\n",
              "      <td>0</td>\n",
              "      <td>0</td>\n",
              "      <td>0</td>\n",
              "      <td>0</td>\n",
              "      <td>0</td>\n",
              "      <td>1</td>\n",
              "      <td>0</td>\n",
              "      <td>0</td>\n",
              "      <td>0</td>\n",
              "      <td>0</td>\n",
              "      <td>0</td>\n",
              "      <td>0</td>\n",
              "      <td>1</td>\n",
              "      <td>35.0</td>\n",
              "      <td>2.18</td>\n",
              "      <td>0.062286</td>\n",
              "      <td>0.4700</td>\n",
              "      <td>0.215596</td>\n",
              "      <td>95</td>\n",
              "      <td>115</td>\n",
              "      <td>36</td>\n",
              "      <td>75</td>\n",
              "      <td>91</td>\n",
              "      <td>1.31</td>\n",
              "    </tr>\n",
              "    <tr>\n",
              "      <th>3</th>\n",
              "      <td>9.0</td>\n",
              "      <td>76</td>\n",
              "      <td>1.75</td>\n",
              "      <td>24.816327</td>\n",
              "      <td>0</td>\n",
              "      <td>0</td>\n",
              "      <td>0</td>\n",
              "      <td>0</td>\n",
              "      <td>0</td>\n",
              "      <td>0</td>\n",
              "      <td>0</td>\n",
              "      <td>0</td>\n",
              "      <td>1</td>\n",
              "      <td>0</td>\n",
              "      <td>0</td>\n",
              "      <td>0</td>\n",
              "      <td>0</td>\n",
              "      <td>1</td>\n",
              "      <td>27.5</td>\n",
              "      <td>6.77</td>\n",
              "      <td>0.246182</td>\n",
              "      <td>1.0500</td>\n",
              "      <td>0.155096</td>\n",
              "      <td>89</td>\n",
              "      <td>177</td>\n",
              "      <td>39</td>\n",
              "      <td>123</td>\n",
              "      <td>128</td>\n",
              "      <td>1.00</td>\n",
              "    </tr>\n",
              "    <tr>\n",
              "      <th>4</th>\n",
              "      <td>10.0</td>\n",
              "      <td>90</td>\n",
              "      <td>1.67</td>\n",
              "      <td>32.270788</td>\n",
              "      <td>0</td>\n",
              "      <td>0</td>\n",
              "      <td>1</td>\n",
              "      <td>0</td>\n",
              "      <td>0</td>\n",
              "      <td>0</td>\n",
              "      <td>0</td>\n",
              "      <td>0</td>\n",
              "      <td>0</td>\n",
              "      <td>0</td>\n",
              "      <td>0</td>\n",
              "      <td>0</td>\n",
              "      <td>0</td>\n",
              "      <td>1</td>\n",
              "      <td>22.0</td>\n",
              "      <td>8.74</td>\n",
              "      <td>0.397273</td>\n",
              "      <td>0.6900</td>\n",
              "      <td>0.078947</td>\n",
              "      <td>100</td>\n",
              "      <td>226</td>\n",
              "      <td>53</td>\n",
              "      <td>153</td>\n",
              "      <td>146</td>\n",
              "      <td>0.91</td>\n",
              "    </tr>\n",
              "    <tr>\n",
              "      <th>5</th>\n",
              "      <td>11.0</td>\n",
              "      <td>91</td>\n",
              "      <td>1.84</td>\n",
              "      <td>26.878544</td>\n",
              "      <td>0</td>\n",
              "      <td>0</td>\n",
              "      <td>1</td>\n",
              "      <td>0</td>\n",
              "      <td>0</td>\n",
              "      <td>0</td>\n",
              "      <td>0</td>\n",
              "      <td>0</td>\n",
              "      <td>0</td>\n",
              "      <td>0</td>\n",
              "      <td>0</td>\n",
              "      <td>0</td>\n",
              "      <td>0</td>\n",
              "      <td>1</td>\n",
              "      <td>35.0</td>\n",
              "      <td>7.30</td>\n",
              "      <td>0.208571</td>\n",
              "      <td>0.7300</td>\n",
              "      <td>0.100000</td>\n",
              "      <td>112</td>\n",
              "      <td>166</td>\n",
              "      <td>62</td>\n",
              "      <td>144</td>\n",
              "      <td>112</td>\n",
              "      <td>1.00</td>\n",
              "    </tr>\n",
              "    <tr>\n",
              "      <th>6</th>\n",
              "      <td>16.0</td>\n",
              "      <td>91</td>\n",
              "      <td>1.75</td>\n",
              "      <td>29.714286</td>\n",
              "      <td>0</td>\n",
              "      <td>0</td>\n",
              "      <td>0</td>\n",
              "      <td>0</td>\n",
              "      <td>0</td>\n",
              "      <td>0</td>\n",
              "      <td>1</td>\n",
              "      <td>0</td>\n",
              "      <td>0</td>\n",
              "      <td>0</td>\n",
              "      <td>0</td>\n",
              "      <td>0</td>\n",
              "      <td>0</td>\n",
              "      <td>1</td>\n",
              "      <td>62.0</td>\n",
              "      <td>6.20</td>\n",
              "      <td>0.100000</td>\n",
              "      <td>0.8060</td>\n",
              "      <td>0.130000</td>\n",
              "      <td>99</td>\n",
              "      <td>111</td>\n",
              "      <td>39</td>\n",
              "      <td>122</td>\n",
              "      <td>90</td>\n",
              "      <td>0.91</td>\n",
              "    </tr>\n",
              "    <tr>\n",
              "      <th>7</th>\n",
              "      <td>18.0</td>\n",
              "      <td>87</td>\n",
              "      <td>1.72</td>\n",
              "      <td>29.407788</td>\n",
              "      <td>0</td>\n",
              "      <td>0</td>\n",
              "      <td>0</td>\n",
              "      <td>0</td>\n",
              "      <td>0</td>\n",
              "      <td>0</td>\n",
              "      <td>1</td>\n",
              "      <td>0</td>\n",
              "      <td>0</td>\n",
              "      <td>0</td>\n",
              "      <td>0</td>\n",
              "      <td>0</td>\n",
              "      <td>0</td>\n",
              "      <td>1</td>\n",
              "      <td>25.0</td>\n",
              "      <td>5.90</td>\n",
              "      <td>0.236000</td>\n",
              "      <td>0.5310</td>\n",
              "      <td>0.090000</td>\n",
              "      <td>95</td>\n",
              "      <td>222</td>\n",
              "      <td>45</td>\n",
              "      <td>108</td>\n",
              "      <td>153</td>\n",
              "      <td>1.22</td>\n",
              "    </tr>\n",
              "    <tr>\n",
              "      <th>8</th>\n",
              "      <td>19.0</td>\n",
              "      <td>75</td>\n",
              "      <td>1.80</td>\n",
              "      <td>23.148148</td>\n",
              "      <td>0</td>\n",
              "      <td>0</td>\n",
              "      <td>1</td>\n",
              "      <td>0</td>\n",
              "      <td>0</td>\n",
              "      <td>1</td>\n",
              "      <td>0</td>\n",
              "      <td>0</td>\n",
              "      <td>1</td>\n",
              "      <td>0</td>\n",
              "      <td>0</td>\n",
              "      <td>0</td>\n",
              "      <td>0</td>\n",
              "      <td>3</td>\n",
              "      <td>35.0</td>\n",
              "      <td>10.98</td>\n",
              "      <td>0.313714</td>\n",
              "      <td>1.1900</td>\n",
              "      <td>0.108379</td>\n",
              "      <td>116</td>\n",
              "      <td>166</td>\n",
              "      <td>53</td>\n",
              "      <td>106</td>\n",
              "      <td>92</td>\n",
              "      <td>0.81</td>\n",
              "    </tr>\n",
              "    <tr>\n",
              "      <th>9</th>\n",
              "      <td>25.0</td>\n",
              "      <td>92</td>\n",
              "      <td>1.80</td>\n",
              "      <td>28.395062</td>\n",
              "      <td>0</td>\n",
              "      <td>0</td>\n",
              "      <td>1</td>\n",
              "      <td>0</td>\n",
              "      <td>0</td>\n",
              "      <td>0</td>\n",
              "      <td>0</td>\n",
              "      <td>0</td>\n",
              "      <td>0</td>\n",
              "      <td>0</td>\n",
              "      <td>0</td>\n",
              "      <td>0</td>\n",
              "      <td>0</td>\n",
              "      <td>1</td>\n",
              "      <td>45.0</td>\n",
              "      <td>1.50</td>\n",
              "      <td>0.033333</td>\n",
              "      <td>NaN</td>\n",
              "      <td>NaN</td>\n",
              "      <td>95</td>\n",
              "      <td>168</td>\n",
              "      <td>45</td>\n",
              "      <td>130</td>\n",
              "      <td>95</td>\n",
              "      <td>1.00</td>\n",
              "    </tr>\n",
              "    <tr>\n",
              "      <th>10</th>\n",
              "      <td>26.0</td>\n",
              "      <td>80</td>\n",
              "      <td>1.75</td>\n",
              "      <td>26.122449</td>\n",
              "      <td>0</td>\n",
              "      <td>0</td>\n",
              "      <td>0</td>\n",
              "      <td>0</td>\n",
              "      <td>0</td>\n",
              "      <td>0</td>\n",
              "      <td>1</td>\n",
              "      <td>0</td>\n",
              "      <td>0</td>\n",
              "      <td>0</td>\n",
              "      <td>0</td>\n",
              "      <td>0</td>\n",
              "      <td>0</td>\n",
              "      <td>1</td>\n",
              "      <td>44.0</td>\n",
              "      <td>6.82</td>\n",
              "      <td>0.155000</td>\n",
              "      <td>1.2200</td>\n",
              "      <td>0.178886</td>\n",
              "      <td>81</td>\n",
              "      <td>164</td>\n",
              "      <td>51</td>\n",
              "      <td>89</td>\n",
              "      <td>120</td>\n",
              "      <td>0.91</td>\n",
              "    </tr>\n",
              "    <tr>\n",
              "      <th>11</th>\n",
              "      <td>29.0</td>\n",
              "      <td>100</td>\n",
              "      <td>1.75</td>\n",
              "      <td>32.653061</td>\n",
              "      <td>1</td>\n",
              "      <td>1</td>\n",
              "      <td>0</td>\n",
              "      <td>0</td>\n",
              "      <td>0</td>\n",
              "      <td>0</td>\n",
              "      <td>0</td>\n",
              "      <td>0</td>\n",
              "      <td>0</td>\n",
              "      <td>0</td>\n",
              "      <td>0</td>\n",
              "      <td>0</td>\n",
              "      <td>0</td>\n",
              "      <td>2</td>\n",
              "      <td>53.0</td>\n",
              "      <td>8.32</td>\n",
              "      <td>0.156981</td>\n",
              "      <td>1.1600</td>\n",
              "      <td>0.139423</td>\n",
              "      <td>93</td>\n",
              "      <td>128</td>\n",
              "      <td>35</td>\n",
              "      <td>111</td>\n",
              "      <td>160</td>\n",
              "      <td>1.31</td>\n",
              "    </tr>\n",
              "    <tr>\n",
              "      <th>12</th>\n",
              "      <td>30.0</td>\n",
              "      <td>71</td>\n",
              "      <td>1.75</td>\n",
              "      <td>23.183673</td>\n",
              "      <td>0</td>\n",
              "      <td>0</td>\n",
              "      <td>0</td>\n",
              "      <td>1</td>\n",
              "      <td>0</td>\n",
              "      <td>0</td>\n",
              "      <td>0</td>\n",
              "      <td>0</td>\n",
              "      <td>0</td>\n",
              "      <td>0</td>\n",
              "      <td>0</td>\n",
              "      <td>0</td>\n",
              "      <td>1</td>\n",
              "      <td>2</td>\n",
              "      <td>70.0</td>\n",
              "      <td>5.21</td>\n",
              "      <td>0.074429</td>\n",
              "      <td>1.2200</td>\n",
              "      <td>0.234165</td>\n",
              "      <td>107</td>\n",
              "      <td>141</td>\n",
              "      <td>50</td>\n",
              "      <td>70</td>\n",
              "      <td>105</td>\n",
              "      <td>1.20</td>\n",
              "    </tr>\n",
              "    <tr>\n",
              "      <th>13</th>\n",
              "      <td>31.0</td>\n",
              "      <td>91</td>\n",
              "      <td>1.84</td>\n",
              "      <td>26.878544</td>\n",
              "      <td>0</td>\n",
              "      <td>0</td>\n",
              "      <td>0</td>\n",
              "      <td>1</td>\n",
              "      <td>0</td>\n",
              "      <td>0</td>\n",
              "      <td>0</td>\n",
              "      <td>0</td>\n",
              "      <td>0</td>\n",
              "      <td>0</td>\n",
              "      <td>0</td>\n",
              "      <td>0</td>\n",
              "      <td>1</td>\n",
              "      <td>2</td>\n",
              "      <td>110.0</td>\n",
              "      <td>10.18</td>\n",
              "      <td>0.092545</td>\n",
              "      <td>NaN</td>\n",
              "      <td>NaN</td>\n",
              "      <td>73</td>\n",
              "      <td>210</td>\n",
              "      <td>35</td>\n",
              "      <td>153</td>\n",
              "      <td>110</td>\n",
              "      <td>0.80</td>\n",
              "    </tr>\n",
              "    <tr>\n",
              "      <th>14</th>\n",
              "      <td>34.0</td>\n",
              "      <td>72</td>\n",
              "      <td>1.77</td>\n",
              "      <td>22.981902</td>\n",
              "      <td>0</td>\n",
              "      <td>0</td>\n",
              "      <td>0</td>\n",
              "      <td>1</td>\n",
              "      <td>0</td>\n",
              "      <td>0</td>\n",
              "      <td>1</td>\n",
              "      <td>0</td>\n",
              "      <td>0</td>\n",
              "      <td>0</td>\n",
              "      <td>0</td>\n",
              "      <td>0</td>\n",
              "      <td>0</td>\n",
              "      <td>2</td>\n",
              "      <td>48.0</td>\n",
              "      <td>4.71</td>\n",
              "      <td>0.098125</td>\n",
              "      <td>0.7400</td>\n",
              "      <td>0.157113</td>\n",
              "      <td>110</td>\n",
              "      <td>170</td>\n",
              "      <td>33</td>\n",
              "      <td>107</td>\n",
              "      <td>150</td>\n",
              "      <td>2.00</td>\n",
              "    </tr>\n",
              "    <tr>\n",
              "      <th>15</th>\n",
              "      <td>37.0</td>\n",
              "      <td>80</td>\n",
              "      <td>1.80</td>\n",
              "      <td>24.691358</td>\n",
              "      <td>0</td>\n",
              "      <td>0</td>\n",
              "      <td>0</td>\n",
              "      <td>0</td>\n",
              "      <td>0</td>\n",
              "      <td>0</td>\n",
              "      <td>0</td>\n",
              "      <td>0</td>\n",
              "      <td>0</td>\n",
              "      <td>1</td>\n",
              "      <td>0</td>\n",
              "      <td>0</td>\n",
              "      <td>0</td>\n",
              "      <td>1</td>\n",
              "      <td>68.0</td>\n",
              "      <td>5.69</td>\n",
              "      <td>0.083676</td>\n",
              "      <td>1.2500</td>\n",
              "      <td>0.219684</td>\n",
              "      <td>90</td>\n",
              "      <td>200</td>\n",
              "      <td>60</td>\n",
              "      <td>110</td>\n",
              "      <td>150</td>\n",
              "      <td>1.00</td>\n",
              "    </tr>\n",
              "    <tr>\n",
              "      <th>16</th>\n",
              "      <td>40.0</td>\n",
              "      <td>65</td>\n",
              "      <td>1.67</td>\n",
              "      <td>23.306680</td>\n",
              "      <td>0</td>\n",
              "      <td>0</td>\n",
              "      <td>0</td>\n",
              "      <td>0</td>\n",
              "      <td>0</td>\n",
              "      <td>0</td>\n",
              "      <td>1</td>\n",
              "      <td>1</td>\n",
              "      <td>0</td>\n",
              "      <td>0</td>\n",
              "      <td>0</td>\n",
              "      <td>0</td>\n",
              "      <td>0</td>\n",
              "      <td>2</td>\n",
              "      <td>32.0</td>\n",
              "      <td>1.53</td>\n",
              "      <td>0.047813</td>\n",
              "      <td>0.1836</td>\n",
              "      <td>0.120000</td>\n",
              "      <td>86</td>\n",
              "      <td>147</td>\n",
              "      <td>39</td>\n",
              "      <td>86</td>\n",
              "      <td>85</td>\n",
              "      <td>8.95</td>\n",
              "    </tr>\n",
              "    <tr>\n",
              "      <th>17</th>\n",
              "      <td>41.0</td>\n",
              "      <td>84</td>\n",
              "      <td>1.82</td>\n",
              "      <td>25.359256</td>\n",
              "      <td>0</td>\n",
              "      <td>0</td>\n",
              "      <td>0</td>\n",
              "      <td>0</td>\n",
              "      <td>0</td>\n",
              "      <td>0</td>\n",
              "      <td>1</td>\n",
              "      <td>0</td>\n",
              "      <td>0</td>\n",
              "      <td>0</td>\n",
              "      <td>0</td>\n",
              "      <td>0</td>\n",
              "      <td>0</td>\n",
              "      <td>1</td>\n",
              "      <td>35.0</td>\n",
              "      <td>4.06</td>\n",
              "      <td>0.116000</td>\n",
              "      <td>0.3200</td>\n",
              "      <td>0.078818</td>\n",
              "      <td>95</td>\n",
              "      <td>131</td>\n",
              "      <td>41</td>\n",
              "      <td>70</td>\n",
              "      <td>196</td>\n",
              "      <td>0.83</td>\n",
              "    </tr>\n",
              "    <tr>\n",
              "      <th>18</th>\n",
              "      <td>44.0</td>\n",
              "      <td>69</td>\n",
              "      <td>1.66</td>\n",
              "      <td>25.039919</td>\n",
              "      <td>0</td>\n",
              "      <td>0</td>\n",
              "      <td>0</td>\n",
              "      <td>1</td>\n",
              "      <td>0</td>\n",
              "      <td>0</td>\n",
              "      <td>0</td>\n",
              "      <td>0</td>\n",
              "      <td>0</td>\n",
              "      <td>0</td>\n",
              "      <td>0</td>\n",
              "      <td>0</td>\n",
              "      <td>0</td>\n",
              "      <td>1</td>\n",
              "      <td>46.0</td>\n",
              "      <td>5.40</td>\n",
              "      <td>0.117391</td>\n",
              "      <td>0.5940</td>\n",
              "      <td>0.110000</td>\n",
              "      <td>93</td>\n",
              "      <td>231</td>\n",
              "      <td>33</td>\n",
              "      <td>75</td>\n",
              "      <td>123</td>\n",
              "      <td>1.05</td>\n",
              "    </tr>\n",
              "    <tr>\n",
              "      <th>19</th>\n",
              "      <td>45.0</td>\n",
              "      <td>87</td>\n",
              "      <td>1.64</td>\n",
              "      <td>32.346817</td>\n",
              "      <td>0</td>\n",
              "      <td>0</td>\n",
              "      <td>0</td>\n",
              "      <td>0</td>\n",
              "      <td>0</td>\n",
              "      <td>1</td>\n",
              "      <td>0</td>\n",
              "      <td>0</td>\n",
              "      <td>0</td>\n",
              "      <td>0</td>\n",
              "      <td>0</td>\n",
              "      <td>0</td>\n",
              "      <td>0</td>\n",
              "      <td>1</td>\n",
              "      <td>68.0</td>\n",
              "      <td>8.30</td>\n",
              "      <td>0.122059</td>\n",
              "      <td>0.9960</td>\n",
              "      <td>0.120000</td>\n",
              "      <td>99</td>\n",
              "      <td>210</td>\n",
              "      <td>51</td>\n",
              "      <td>123</td>\n",
              "      <td>95</td>\n",
              "      <td>1.02</td>\n",
              "    </tr>\n",
              "    <tr>\n",
              "      <th>20</th>\n",
              "      <td>46.0</td>\n",
              "      <td>94</td>\n",
              "      <td>1.64</td>\n",
              "      <td>34.949435</td>\n",
              "      <td>0</td>\n",
              "      <td>0</td>\n",
              "      <td>0</td>\n",
              "      <td>0</td>\n",
              "      <td>0</td>\n",
              "      <td>1</td>\n",
              "      <td>0</td>\n",
              "      <td>0</td>\n",
              "      <td>0</td>\n",
              "      <td>0</td>\n",
              "      <td>0</td>\n",
              "      <td>0</td>\n",
              "      <td>0</td>\n",
              "      <td>1</td>\n",
              "      <td>23.0</td>\n",
              "      <td>9.40</td>\n",
              "      <td>0.408696</td>\n",
              "      <td>1.1280</td>\n",
              "      <td>0.120000</td>\n",
              "      <td>95</td>\n",
              "      <td>248</td>\n",
              "      <td>47</td>\n",
              "      <td>129</td>\n",
              "      <td>123</td>\n",
              "      <td>1.12</td>\n",
              "    </tr>\n",
              "    <tr>\n",
              "      <th>21</th>\n",
              "      <td>48.0</td>\n",
              "      <td>82</td>\n",
              "      <td>1.75</td>\n",
              "      <td>26.775510</td>\n",
              "      <td>0</td>\n",
              "      <td>0</td>\n",
              "      <td>0</td>\n",
              "      <td>0</td>\n",
              "      <td>0</td>\n",
              "      <td>0</td>\n",
              "      <td>1</td>\n",
              "      <td>0</td>\n",
              "      <td>0</td>\n",
              "      <td>0</td>\n",
              "      <td>0</td>\n",
              "      <td>0</td>\n",
              "      <td>0</td>\n",
              "      <td>1</td>\n",
              "      <td>35.0</td>\n",
              "      <td>4.90</td>\n",
              "      <td>0.140000</td>\n",
              "      <td>0.6370</td>\n",
              "      <td>0.130000</td>\n",
              "      <td>96</td>\n",
              "      <td>164</td>\n",
              "      <td>51</td>\n",
              "      <td>86</td>\n",
              "      <td>145</td>\n",
              "      <td>1.00</td>\n",
              "    </tr>\n",
              "    <tr>\n",
              "      <th>22</th>\n",
              "      <td>49.0</td>\n",
              "      <td>87</td>\n",
              "      <td>1.77</td>\n",
              "      <td>27.769798</td>\n",
              "      <td>0</td>\n",
              "      <td>0</td>\n",
              "      <td>0</td>\n",
              "      <td>0</td>\n",
              "      <td>0</td>\n",
              "      <td>0</td>\n",
              "      <td>0</td>\n",
              "      <td>0</td>\n",
              "      <td>1</td>\n",
              "      <td>0</td>\n",
              "      <td>0</td>\n",
              "      <td>0</td>\n",
              "      <td>0</td>\n",
              "      <td>1</td>\n",
              "      <td>68.0</td>\n",
              "      <td>6.40</td>\n",
              "      <td>0.094118</td>\n",
              "      <td>0.5120</td>\n",
              "      <td>0.080000</td>\n",
              "      <td>146</td>\n",
              "      <td>196</td>\n",
              "      <td>40</td>\n",
              "      <td>165</td>\n",
              "      <td>123</td>\n",
              "      <td>0.84</td>\n",
              "    </tr>\n",
              "    <tr>\n",
              "      <th>23</th>\n",
              "      <td>52.0</td>\n",
              "      <td>61</td>\n",
              "      <td>1.65</td>\n",
              "      <td>22.405877</td>\n",
              "      <td>0</td>\n",
              "      <td>0</td>\n",
              "      <td>0</td>\n",
              "      <td>0</td>\n",
              "      <td>0</td>\n",
              "      <td>1</td>\n",
              "      <td>0</td>\n",
              "      <td>0</td>\n",
              "      <td>0</td>\n",
              "      <td>0</td>\n",
              "      <td>0</td>\n",
              "      <td>0</td>\n",
              "      <td>0</td>\n",
              "      <td>1</td>\n",
              "      <td>70.0</td>\n",
              "      <td>4.80</td>\n",
              "      <td>0.068571</td>\n",
              "      <td>0.5280</td>\n",
              "      <td>0.110000</td>\n",
              "      <td>81</td>\n",
              "      <td>248</td>\n",
              "      <td>51</td>\n",
              "      <td>170</td>\n",
              "      <td>123</td>\n",
              "      <td>1.22</td>\n",
              "    </tr>\n",
              "    <tr>\n",
              "      <th>24</th>\n",
              "      <td>53.0</td>\n",
              "      <td>71</td>\n",
              "      <td>1.73</td>\n",
              "      <td>23.722811</td>\n",
              "      <td>0</td>\n",
              "      <td>0</td>\n",
              "      <td>1</td>\n",
              "      <td>0</td>\n",
              "      <td>0</td>\n",
              "      <td>0</td>\n",
              "      <td>0</td>\n",
              "      <td>0</td>\n",
              "      <td>0</td>\n",
              "      <td>0</td>\n",
              "      <td>0</td>\n",
              "      <td>0</td>\n",
              "      <td>0</td>\n",
              "      <td>1</td>\n",
              "      <td>35.0</td>\n",
              "      <td>5.80</td>\n",
              "      <td>0.165714</td>\n",
              "      <td>0.5800</td>\n",
              "      <td>0.100000</td>\n",
              "      <td>130</td>\n",
              "      <td>211</td>\n",
              "      <td>45</td>\n",
              "      <td>98</td>\n",
              "      <td>110</td>\n",
              "      <td>0.84</td>\n",
              "    </tr>\n",
              "    <tr>\n",
              "      <th>25</th>\n",
              "      <td>57.0</td>\n",
              "      <td>72</td>\n",
              "      <td>1.77</td>\n",
              "      <td>22.981902</td>\n",
              "      <td>0</td>\n",
              "      <td>0</td>\n",
              "      <td>0</td>\n",
              "      <td>0</td>\n",
              "      <td>0</td>\n",
              "      <td>0</td>\n",
              "      <td>0</td>\n",
              "      <td>0</td>\n",
              "      <td>0</td>\n",
              "      <td>0</td>\n",
              "      <td>0</td>\n",
              "      <td>1</td>\n",
              "      <td>0</td>\n",
              "      <td>1</td>\n",
              "      <td>48.0</td>\n",
              "      <td>8.30</td>\n",
              "      <td>0.172917</td>\n",
              "      <td>0.5810</td>\n",
              "      <td>0.070000</td>\n",
              "      <td>73</td>\n",
              "      <td>168</td>\n",
              "      <td>53</td>\n",
              "      <td>135</td>\n",
              "      <td>145</td>\n",
              "      <td>0.84</td>\n",
              "    </tr>\n",
              "    <tr>\n",
              "      <th>26</th>\n",
              "      <td>62.0</td>\n",
              "      <td>88</td>\n",
              "      <td>1.72</td>\n",
              "      <td>29.745809</td>\n",
              "      <td>0</td>\n",
              "      <td>0</td>\n",
              "      <td>0</td>\n",
              "      <td>0</td>\n",
              "      <td>0</td>\n",
              "      <td>0</td>\n",
              "      <td>0</td>\n",
              "      <td>0</td>\n",
              "      <td>1</td>\n",
              "      <td>0</td>\n",
              "      <td>0</td>\n",
              "      <td>0</td>\n",
              "      <td>0</td>\n",
              "      <td>1</td>\n",
              "      <td>32.0</td>\n",
              "      <td>7.10</td>\n",
              "      <td>0.221875</td>\n",
              "      <td>0.4970</td>\n",
              "      <td>0.070000</td>\n",
              "      <td>95</td>\n",
              "      <td>128</td>\n",
              "      <td>60</td>\n",
              "      <td>122</td>\n",
              "      <td>150</td>\n",
              "      <td>0.84</td>\n",
              "    </tr>\n",
              "    <tr>\n",
              "      <th>27</th>\n",
              "      <td>63.0</td>\n",
              "      <td>85</td>\n",
              "      <td>1.73</td>\n",
              "      <td>28.400548</td>\n",
              "      <td>0</td>\n",
              "      <td>0</td>\n",
              "      <td>0</td>\n",
              "      <td>0</td>\n",
              "      <td>0</td>\n",
              "      <td>1</td>\n",
              "      <td>0</td>\n",
              "      <td>0</td>\n",
              "      <td>0</td>\n",
              "      <td>0</td>\n",
              "      <td>0</td>\n",
              "      <td>0</td>\n",
              "      <td>0</td>\n",
              "      <td>1</td>\n",
              "      <td>48.0</td>\n",
              "      <td>5.60</td>\n",
              "      <td>0.116667</td>\n",
              "      <td>0.3360</td>\n",
              "      <td>0.060000</td>\n",
              "      <td>86</td>\n",
              "      <td>166</td>\n",
              "      <td>28</td>\n",
              "      <td>110</td>\n",
              "      <td>128</td>\n",
              "      <td>0.80</td>\n",
              "    </tr>\n",
              "    <tr>\n",
              "      <th>28</th>\n",
              "      <td>72.0</td>\n",
              "      <td>85</td>\n",
              "      <td>1.75</td>\n",
              "      <td>27.755102</td>\n",
              "      <td>0</td>\n",
              "      <td>0</td>\n",
              "      <td>0</td>\n",
              "      <td>0</td>\n",
              "      <td>0</td>\n",
              "      <td>0</td>\n",
              "      <td>1</td>\n",
              "      <td>0</td>\n",
              "      <td>0</td>\n",
              "      <td>0</td>\n",
              "      <td>0</td>\n",
              "      <td>0</td>\n",
              "      <td>0</td>\n",
              "      <td>1</td>\n",
              "      <td>46.0</td>\n",
              "      <td>7.05</td>\n",
              "      <td>0.153261</td>\n",
              "      <td>1.8500</td>\n",
              "      <td>0.262411</td>\n",
              "      <td>111</td>\n",
              "      <td>181</td>\n",
              "      <td>60</td>\n",
              "      <td>86</td>\n",
              "      <td>155</td>\n",
              "      <td>1.13</td>\n",
              "    </tr>\n",
              "    <tr>\n",
              "      <th>29</th>\n",
              "      <td>77.0</td>\n",
              "      <td>85</td>\n",
              "      <td>1.75</td>\n",
              "      <td>27.755102</td>\n",
              "      <td>1</td>\n",
              "      <td>0</td>\n",
              "      <td>0</td>\n",
              "      <td>0</td>\n",
              "      <td>0</td>\n",
              "      <td>0</td>\n",
              "      <td>0</td>\n",
              "      <td>0</td>\n",
              "      <td>0</td>\n",
              "      <td>0</td>\n",
              "      <td>0</td>\n",
              "      <td>0</td>\n",
              "      <td>0</td>\n",
              "      <td>1</td>\n",
              "      <td>62.0</td>\n",
              "      <td>5.90</td>\n",
              "      <td>0.095161</td>\n",
              "      <td>0.7080</td>\n",
              "      <td>0.120000</td>\n",
              "      <td>86</td>\n",
              "      <td>166</td>\n",
              "      <td>28</td>\n",
              "      <td>110</td>\n",
              "      <td>128</td>\n",
              "      <td>0.80</td>\n",
              "    </tr>\n",
              "    <tr>\n",
              "      <th>30</th>\n",
              "      <td>79.0</td>\n",
              "      <td>88</td>\n",
              "      <td>1.66</td>\n",
              "      <td>31.934969</td>\n",
              "      <td>0</td>\n",
              "      <td>0</td>\n",
              "      <td>0</td>\n",
              "      <td>0</td>\n",
              "      <td>0</td>\n",
              "      <td>0</td>\n",
              "      <td>0</td>\n",
              "      <td>0</td>\n",
              "      <td>0</td>\n",
              "      <td>1</td>\n",
              "      <td>0</td>\n",
              "      <td>0</td>\n",
              "      <td>0</td>\n",
              "      <td>1</td>\n",
              "      <td>53.0</td>\n",
              "      <td>5.90</td>\n",
              "      <td>0.111321</td>\n",
              "      <td>0.9440</td>\n",
              "      <td>0.160000</td>\n",
              "      <td>99</td>\n",
              "      <td>171</td>\n",
              "      <td>58</td>\n",
              "      <td>135</td>\n",
              "      <td>146</td>\n",
              "      <td>1.10</td>\n",
              "    </tr>\n",
              "    <tr>\n",
              "      <th>31</th>\n",
              "      <td>82.0</td>\n",
              "      <td>80</td>\n",
              "      <td>1.80</td>\n",
              "      <td>24.691358</td>\n",
              "      <td>0</td>\n",
              "      <td>0</td>\n",
              "      <td>0</td>\n",
              "      <td>1</td>\n",
              "      <td>0</td>\n",
              "      <td>0</td>\n",
              "      <td>0</td>\n",
              "      <td>0</td>\n",
              "      <td>0</td>\n",
              "      <td>0</td>\n",
              "      <td>0</td>\n",
              "      <td>0</td>\n",
              "      <td>0</td>\n",
              "      <td>1</td>\n",
              "      <td>34.0</td>\n",
              "      <td>10.60</td>\n",
              "      <td>0.311765</td>\n",
              "      <td>1.2720</td>\n",
              "      <td>0.120000</td>\n",
              "      <td>94</td>\n",
              "      <td>219</td>\n",
              "      <td>62</td>\n",
              "      <td>123</td>\n",
              "      <td>128</td>\n",
              "      <td>0.88</td>\n",
              "    </tr>\n",
              "    <tr>\n",
              "      <th>32</th>\n",
              "      <td>86.0</td>\n",
              "      <td>69</td>\n",
              "      <td>1.67</td>\n",
              "      <td>24.740937</td>\n",
              "      <td>1</td>\n",
              "      <td>0</td>\n",
              "      <td>0</td>\n",
              "      <td>0</td>\n",
              "      <td>0</td>\n",
              "      <td>0</td>\n",
              "      <td>0</td>\n",
              "      <td>0</td>\n",
              "      <td>0</td>\n",
              "      <td>0</td>\n",
              "      <td>0</td>\n",
              "      <td>0</td>\n",
              "      <td>0</td>\n",
              "      <td>1</td>\n",
              "      <td>62.0</td>\n",
              "      <td>9.29</td>\n",
              "      <td>0.149839</td>\n",
              "      <td>0.7300</td>\n",
              "      <td>0.078579</td>\n",
              "      <td>90</td>\n",
              "      <td>248</td>\n",
              "      <td>60</td>\n",
              "      <td>86</td>\n",
              "      <td>110</td>\n",
              "      <td>1.22</td>\n",
              "    </tr>\n",
              "    <tr>\n",
              "      <th>33</th>\n",
              "      <td>87.0</td>\n",
              "      <td>64</td>\n",
              "      <td>1.65</td>\n",
              "      <td>23.507805</td>\n",
              "      <td>0</td>\n",
              "      <td>0</td>\n",
              "      <td>0</td>\n",
              "      <td>0</td>\n",
              "      <td>0</td>\n",
              "      <td>0</td>\n",
              "      <td>0</td>\n",
              "      <td>0</td>\n",
              "      <td>0</td>\n",
              "      <td>0</td>\n",
              "      <td>0</td>\n",
              "      <td>1</td>\n",
              "      <td>0</td>\n",
              "      <td>1</td>\n",
              "      <td>80.0</td>\n",
              "      <td>10.36</td>\n",
              "      <td>0.129500</td>\n",
              "      <td>NaN</td>\n",
              "      <td>NaN</td>\n",
              "      <td>86</td>\n",
              "      <td>134</td>\n",
              "      <td>62</td>\n",
              "      <td>123</td>\n",
              "      <td>166</td>\n",
              "      <td>1.10</td>\n",
              "    </tr>\n",
              "    <tr>\n",
              "      <th>34</th>\n",
              "      <td>89.0</td>\n",
              "      <td>90</td>\n",
              "      <td>1.70</td>\n",
              "      <td>31.141869</td>\n",
              "      <td>1</td>\n",
              "      <td>0</td>\n",
              "      <td>0</td>\n",
              "      <td>0</td>\n",
              "      <td>0</td>\n",
              "      <td>0</td>\n",
              "      <td>0</td>\n",
              "      <td>0</td>\n",
              "      <td>0</td>\n",
              "      <td>0</td>\n",
              "      <td>0</td>\n",
              "      <td>0</td>\n",
              "      <td>0</td>\n",
              "      <td>1</td>\n",
              "      <td>45.0</td>\n",
              "      <td>3.88</td>\n",
              "      <td>0.086222</td>\n",
              "      <td>1.0800</td>\n",
              "      <td>0.278351</td>\n",
              "      <td>130</td>\n",
              "      <td>134</td>\n",
              "      <td>28</td>\n",
              "      <td>87</td>\n",
              "      <td>96</td>\n",
              "      <td>0.88</td>\n",
              "    </tr>\n",
              "    <tr>\n",
              "      <th>35</th>\n",
              "      <td>90.0</td>\n",
              "      <td>80</td>\n",
              "      <td>1.67</td>\n",
              "      <td>28.685145</td>\n",
              "      <td>0</td>\n",
              "      <td>0</td>\n",
              "      <td>1</td>\n",
              "      <td>0</td>\n",
              "      <td>0</td>\n",
              "      <td>0</td>\n",
              "      <td>0</td>\n",
              "      <td>0</td>\n",
              "      <td>0</td>\n",
              "      <td>0</td>\n",
              "      <td>0</td>\n",
              "      <td>0</td>\n",
              "      <td>0</td>\n",
              "      <td>1</td>\n",
              "      <td>21.7</td>\n",
              "      <td>1.36</td>\n",
              "      <td>0.062673</td>\n",
              "      <td>NaN</td>\n",
              "      <td>NaN</td>\n",
              "      <td>84</td>\n",
              "      <td>165</td>\n",
              "      <td>59</td>\n",
              "      <td>73</td>\n",
              "      <td>165</td>\n",
              "      <td>0.80</td>\n",
              "    </tr>\n",
              "    <tr>\n",
              "      <th>36</th>\n",
              "      <td>91.0</td>\n",
              "      <td>85</td>\n",
              "      <td>1.70</td>\n",
              "      <td>29.411765</td>\n",
              "      <td>0</td>\n",
              "      <td>0</td>\n",
              "      <td>0</td>\n",
              "      <td>1</td>\n",
              "      <td>0</td>\n",
              "      <td>0</td>\n",
              "      <td>0</td>\n",
              "      <td>0</td>\n",
              "      <td>0</td>\n",
              "      <td>0</td>\n",
              "      <td>0</td>\n",
              "      <td>0</td>\n",
              "      <td>0</td>\n",
              "      <td>1</td>\n",
              "      <td>52.0</td>\n",
              "      <td>3.06</td>\n",
              "      <td>0.058846</td>\n",
              "      <td>0.4900</td>\n",
              "      <td>0.160131</td>\n",
              "      <td>90</td>\n",
              "      <td>204</td>\n",
              "      <td>53</td>\n",
              "      <td>70</td>\n",
              "      <td>123</td>\n",
              "      <td>1.10</td>\n",
              "    </tr>\n",
              "    <tr>\n",
              "      <th>37</th>\n",
              "      <td>93.0</td>\n",
              "      <td>77</td>\n",
              "      <td>1.63</td>\n",
              "      <td>28.981143</td>\n",
              "      <td>0</td>\n",
              "      <td>0</td>\n",
              "      <td>0</td>\n",
              "      <td>0</td>\n",
              "      <td>0</td>\n",
              "      <td>1</td>\n",
              "      <td>0</td>\n",
              "      <td>0</td>\n",
              "      <td>1</td>\n",
              "      <td>0</td>\n",
              "      <td>0</td>\n",
              "      <td>0</td>\n",
              "      <td>0</td>\n",
              "      <td>2</td>\n",
              "      <td>95.0</td>\n",
              "      <td>3.65</td>\n",
              "      <td>0.038421</td>\n",
              "      <td>0.6400</td>\n",
              "      <td>0.175342</td>\n",
              "      <td>76</td>\n",
              "      <td>171</td>\n",
              "      <td>28</td>\n",
              "      <td>123</td>\n",
              "      <td>144</td>\n",
              "      <td>1.02</td>\n",
              "    </tr>\n",
              "    <tr>\n",
              "      <th>38</th>\n",
              "      <td>98.0</td>\n",
              "      <td>85</td>\n",
              "      <td>1.75</td>\n",
              "      <td>27.755102</td>\n",
              "      <td>0</td>\n",
              "      <td>0</td>\n",
              "      <td>1</td>\n",
              "      <td>0</td>\n",
              "      <td>0</td>\n",
              "      <td>0</td>\n",
              "      <td>0</td>\n",
              "      <td>0</td>\n",
              "      <td>0</td>\n",
              "      <td>0</td>\n",
              "      <td>0</td>\n",
              "      <td>0</td>\n",
              "      <td>0</td>\n",
              "      <td>1</td>\n",
              "      <td>26.8</td>\n",
              "      <td>3.42</td>\n",
              "      <td>0.127612</td>\n",
              "      <td>0.3900</td>\n",
              "      <td>0.114035</td>\n",
              "      <td>91</td>\n",
              "      <td>220</td>\n",
              "      <td>62</td>\n",
              "      <td>165</td>\n",
              "      <td>123</td>\n",
              "      <td>1.05</td>\n",
              "    </tr>\n",
              "    <tr>\n",
              "      <th>39</th>\n",
              "      <td>100.0</td>\n",
              "      <td>68</td>\n",
              "      <td>1.70</td>\n",
              "      <td>23.529412</td>\n",
              "      <td>0</td>\n",
              "      <td>0</td>\n",
              "      <td>0</td>\n",
              "      <td>0</td>\n",
              "      <td>0</td>\n",
              "      <td>0</td>\n",
              "      <td>0</td>\n",
              "      <td>0</td>\n",
              "      <td>0</td>\n",
              "      <td>0</td>\n",
              "      <td>0</td>\n",
              "      <td>0</td>\n",
              "      <td>1</td>\n",
              "      <td>1</td>\n",
              "      <td>95.0</td>\n",
              "      <td>4.74</td>\n",
              "      <td>0.049895</td>\n",
              "      <td>1.6600</td>\n",
              "      <td>0.350211</td>\n",
              "      <td>101</td>\n",
              "      <td>220</td>\n",
              "      <td>50</td>\n",
              "      <td>165</td>\n",
              "      <td>142</td>\n",
              "      <td>0.91</td>\n",
              "    </tr>\n",
              "    <tr>\n",
              "      <th>40</th>\n",
              "      <td>101.0</td>\n",
              "      <td>85</td>\n",
              "      <td>1.70</td>\n",
              "      <td>29.411765</td>\n",
              "      <td>0</td>\n",
              "      <td>0</td>\n",
              "      <td>0</td>\n",
              "      <td>1</td>\n",
              "      <td>0</td>\n",
              "      <td>0</td>\n",
              "      <td>0</td>\n",
              "      <td>0</td>\n",
              "      <td>0</td>\n",
              "      <td>0</td>\n",
              "      <td>0</td>\n",
              "      <td>0</td>\n",
              "      <td>0</td>\n",
              "      <td>1</td>\n",
              "      <td>52.0</td>\n",
              "      <td>6.21</td>\n",
              "      <td>0.119423</td>\n",
              "      <td>1.7700</td>\n",
              "      <td>0.285024</td>\n",
              "      <td>131</td>\n",
              "      <td>125</td>\n",
              "      <td>30</td>\n",
              "      <td>78</td>\n",
              "      <td>106</td>\n",
              "      <td>1.30</td>\n",
              "    </tr>\n",
              "    <tr>\n",
              "      <th>41</th>\n",
              "      <td>102.0</td>\n",
              "      <td>77</td>\n",
              "      <td>1.75</td>\n",
              "      <td>25.142857</td>\n",
              "      <td>0</td>\n",
              "      <td>0</td>\n",
              "      <td>1</td>\n",
              "      <td>0</td>\n",
              "      <td>0</td>\n",
              "      <td>0</td>\n",
              "      <td>0</td>\n",
              "      <td>0</td>\n",
              "      <td>0</td>\n",
              "      <td>0</td>\n",
              "      <td>0</td>\n",
              "      <td>0</td>\n",
              "      <td>0</td>\n",
              "      <td>1</td>\n",
              "      <td>94.0</td>\n",
              "      <td>5.74</td>\n",
              "      <td>0.061064</td>\n",
              "      <td>1.0500</td>\n",
              "      <td>0.182927</td>\n",
              "      <td>80</td>\n",
              "      <td>124</td>\n",
              "      <td>30</td>\n",
              "      <td>78</td>\n",
              "      <td>132</td>\n",
              "      <td>1.21</td>\n",
              "    </tr>\n",
              "    <tr>\n",
              "      <th>42</th>\n",
              "      <td>103.0</td>\n",
              "      <td>80</td>\n",
              "      <td>1.90</td>\n",
              "      <td>22.160665</td>\n",
              "      <td>1</td>\n",
              "      <td>1</td>\n",
              "      <td>1</td>\n",
              "      <td>1</td>\n",
              "      <td>1</td>\n",
              "      <td>1</td>\n",
              "      <td>1</td>\n",
              "      <td>1</td>\n",
              "      <td>1</td>\n",
              "      <td>0</td>\n",
              "      <td>0</td>\n",
              "      <td>0</td>\n",
              "      <td>0</td>\n",
              "      <td>9</td>\n",
              "      <td>31.8</td>\n",
              "      <td>0.02</td>\n",
              "      <td>0.000629</td>\n",
              "      <td>NaN</td>\n",
              "      <td>NaN</td>\n",
              "      <td>90</td>\n",
              "      <td>222</td>\n",
              "      <td>51</td>\n",
              "      <td>133</td>\n",
              "      <td>218</td>\n",
              "      <td>1.33</td>\n",
              "    </tr>\n",
              "    <tr>\n",
              "      <th>43</th>\n",
              "      <td>105.0</td>\n",
              "      <td>88</td>\n",
              "      <td>1.64</td>\n",
              "      <td>32.718620</td>\n",
              "      <td>1</td>\n",
              "      <td>0</td>\n",
              "      <td>0</td>\n",
              "      <td>1</td>\n",
              "      <td>0</td>\n",
              "      <td>0</td>\n",
              "      <td>1</td>\n",
              "      <td>0</td>\n",
              "      <td>0</td>\n",
              "      <td>0</td>\n",
              "      <td>0</td>\n",
              "      <td>0</td>\n",
              "      <td>0</td>\n",
              "      <td>3</td>\n",
              "      <td>23.0</td>\n",
              "      <td>11.93</td>\n",
              "      <td>0.518696</td>\n",
              "      <td>NaN</td>\n",
              "      <td>NaN</td>\n",
              "      <td>87</td>\n",
              "      <td>216</td>\n",
              "      <td>45</td>\n",
              "      <td>145</td>\n",
              "      <td>169</td>\n",
              "      <td>0.80</td>\n",
              "    </tr>\n",
              "  </tbody>\n",
              "</table>\n",
              "</div>"
            ],
            "text/plain": [
              "    row ID  PESO_KG  ALTEZZA_M        BMI  ...  HDL  LDL  Trigliceridi  Creatinina\n",
              "0      1.0      100       1.70  34.602076  ...   28   70           103        1.00\n",
              "1      5.0       80       1.80  24.691358  ...   53  123           144        1.10\n",
              "2      7.0       72       1.69  25.209201  ...   36   75            91        1.31\n",
              "3      9.0       76       1.75  24.816327  ...   39  123           128        1.00\n",
              "4     10.0       90       1.67  32.270788  ...   53  153           146        0.91\n",
              "5     11.0       91       1.84  26.878544  ...   62  144           112        1.00\n",
              "6     16.0       91       1.75  29.714286  ...   39  122            90        0.91\n",
              "7     18.0       87       1.72  29.407788  ...   45  108           153        1.22\n",
              "8     19.0       75       1.80  23.148148  ...   53  106            92        0.81\n",
              "9     25.0       92       1.80  28.395062  ...   45  130            95        1.00\n",
              "10    26.0       80       1.75  26.122449  ...   51   89           120        0.91\n",
              "11    29.0      100       1.75  32.653061  ...   35  111           160        1.31\n",
              "12    30.0       71       1.75  23.183673  ...   50   70           105        1.20\n",
              "13    31.0       91       1.84  26.878544  ...   35  153           110        0.80\n",
              "14    34.0       72       1.77  22.981902  ...   33  107           150        2.00\n",
              "15    37.0       80       1.80  24.691358  ...   60  110           150        1.00\n",
              "16    40.0       65       1.67  23.306680  ...   39   86            85        8.95\n",
              "17    41.0       84       1.82  25.359256  ...   41   70           196        0.83\n",
              "18    44.0       69       1.66  25.039919  ...   33   75           123        1.05\n",
              "19    45.0       87       1.64  32.346817  ...   51  123            95        1.02\n",
              "20    46.0       94       1.64  34.949435  ...   47  129           123        1.12\n",
              "21    48.0       82       1.75  26.775510  ...   51   86           145        1.00\n",
              "22    49.0       87       1.77  27.769798  ...   40  165           123        0.84\n",
              "23    52.0       61       1.65  22.405877  ...   51  170           123        1.22\n",
              "24    53.0       71       1.73  23.722811  ...   45   98           110        0.84\n",
              "25    57.0       72       1.77  22.981902  ...   53  135           145        0.84\n",
              "26    62.0       88       1.72  29.745809  ...   60  122           150        0.84\n",
              "27    63.0       85       1.73  28.400548  ...   28  110           128        0.80\n",
              "28    72.0       85       1.75  27.755102  ...   60   86           155        1.13\n",
              "29    77.0       85       1.75  27.755102  ...   28  110           128        0.80\n",
              "30    79.0       88       1.66  31.934969  ...   58  135           146        1.10\n",
              "31    82.0       80       1.80  24.691358  ...   62  123           128        0.88\n",
              "32    86.0       69       1.67  24.740937  ...   60   86           110        1.22\n",
              "33    87.0       64       1.65  23.507805  ...   62  123           166        1.10\n",
              "34    89.0       90       1.70  31.141869  ...   28   87            96        0.88\n",
              "35    90.0       80       1.67  28.685145  ...   59   73           165        0.80\n",
              "36    91.0       85       1.70  29.411765  ...   53   70           123        1.10\n",
              "37    93.0       77       1.63  28.981143  ...   28  123           144        1.02\n",
              "38    98.0       85       1.75  27.755102  ...   62  165           123        1.05\n",
              "39   100.0       68       1.70  23.529412  ...   50  165           142        0.91\n",
              "40   101.0       85       1.70  29.411765  ...   30   78           106        1.30\n",
              "41   102.0       77       1.75  25.142857  ...   30   78           132        1.21\n",
              "42   103.0       80       1.90  22.160665  ...   51  133           218        1.33\n",
              "43   105.0       88       1.64  32.718620  ...   45  145           169        0.80\n",
              "\n",
              "[44 rows x 29 columns]"
            ]
          },
          "metadata": {},
          "execution_count": 97
        }
      ]
    },
    {
      "cell_type": "code",
      "metadata": {
        "colab": {
          "base_uri": "https://localhost:8080/"
        },
        "id": "uEvB1WCeWSAn",
        "outputId": "5f9e704c-f0cd-4d62-bcbc-2c8d854f08c2"
      },
      "source": [
        "df_test.shape"
      ],
      "execution_count": null,
      "outputs": [
        {
          "output_type": "execute_result",
          "data": {
            "text/plain": [
              "(44, 29)"
            ]
          },
          "metadata": {},
          "execution_count": 98
        }
      ]
    },
    {
      "cell_type": "code",
      "metadata": {
        "id": "bKD_FGfJoK7s"
      },
      "source": [
        "Test=df_test.drop(columns=[\"row ID\"]) #Features"
      ],
      "execution_count": null,
      "outputs": []
    },
    {
      "cell_type": "code",
      "metadata": {
        "id": "2Ct0vu8RQKmL"
      },
      "source": [
        "Test[\"FREE_PSA\"].fillna(PSA_Median)\n",
        "Test[\"RATIO\"].fillna(Ratio_median)\n",
        "Test=Test.fillna(-1)"
      ],
      "execution_count": null,
      "outputs": []
    },
    {
      "cell_type": "code",
      "metadata": {
        "colab": {
          "base_uri": "https://localhost:8080/",
          "height": 69
        },
        "id": "4fOzXhPjmqrx",
        "outputId": "691ce0f0-ab13-45fe-bb40-9d4c3036d420"
      },
      "source": [
        "df1 = Test[Test.isna().any(axis=1)]\n",
        "\n",
        "df1"
      ],
      "execution_count": null,
      "outputs": [
        {
          "output_type": "execute_result",
          "data": {
            "text/html": [
              "<div>\n",
              "<style scoped>\n",
              "    .dataframe tbody tr th:only-of-type {\n",
              "        vertical-align: middle;\n",
              "    }\n",
              "\n",
              "    .dataframe tbody tr th {\n",
              "        vertical-align: top;\n",
              "    }\n",
              "\n",
              "    .dataframe thead th {\n",
              "        text-align: right;\n",
              "    }\n",
              "</style>\n",
              "<table border=\"1\" class=\"dataframe\">\n",
              "  <thead>\n",
              "    <tr style=\"text-align: right;\">\n",
              "      <th></th>\n",
              "      <th>PESO_KG</th>\n",
              "      <th>ALTEZZA_M</th>\n",
              "      <th>BMI</th>\n",
              "      <th>base_sx</th>\n",
              "      <th>base_med</th>\n",
              "      <th>base_dx</th>\n",
              "      <th>equ_sx</th>\n",
              "      <th>equ_med</th>\n",
              "      <th>equ_dx</th>\n",
              "      <th>ap_sx</th>\n",
              "      <th>ap_med</th>\n",
              "      <th>ap_dx</th>\n",
              "      <th>tran_sx</th>\n",
              "      <th>tran_med</th>\n",
              "      <th>tran_dx</th>\n",
              "      <th>train_nd</th>\n",
              "      <th>TOT_ZONE</th>\n",
              "      <th>VOLUME_PROSTATICO</th>\n",
              "      <th>PSA</th>\n",
              "      <th>psa_density</th>\n",
              "      <th>FREE_PSA</th>\n",
              "      <th>RATIO</th>\n",
              "      <th>Glicemia</th>\n",
              "      <th>Colesterolo</th>\n",
              "      <th>HDL</th>\n",
              "      <th>LDL</th>\n",
              "      <th>Trigliceridi</th>\n",
              "      <th>Creatinina</th>\n",
              "    </tr>\n",
              "  </thead>\n",
              "  <tbody>\n",
              "  </tbody>\n",
              "</table>\n",
              "</div>"
            ],
            "text/plain": [
              "Empty DataFrame\n",
              "Columns: [PESO_KG, ALTEZZA_M, BMI, base_sx, base_med, base_dx, equ_sx, equ_med, equ_dx, ap_sx, ap_med, ap_dx, tran_sx, tran_med, tran_dx, train_nd, TOT_ZONE, VOLUME_PROSTATICO, PSA, psa_density, FREE_PSA, RATIO, Glicemia, Colesterolo, HDL, LDL, Trigliceridi, Creatinina]\n",
              "Index: []"
            ]
          },
          "metadata": {},
          "execution_count": 101
        }
      ]
    },
    {
      "cell_type": "code",
      "metadata": {
        "id": "1OPKBvZh_PJo"
      },
      "source": [
        "Test_finale=Test.drop(columns=[\"tran_med\",\"PESO_KG\",\"ALTEZZA_M\",\"psa_density\",\"base_dx\",\"ap_dx\",\"tran_sx\",\"tran_dx\",'Colesterolo'], axis=1)"
      ],
      "execution_count": null,
      "outputs": []
    },
    {
      "cell_type": "code",
      "metadata": {
        "colab": {
          "base_uri": "https://localhost:8080/"
        },
        "id": "wSq2I1R6_RXk",
        "outputId": "4dade03f-2e12-404e-f332-b10f72809f61"
      },
      "source": [
        "Test_finale.shape"
      ],
      "execution_count": null,
      "outputs": [
        {
          "output_type": "execute_result",
          "data": {
            "text/plain": [
              "(44, 19)"
            ]
          },
          "metadata": {},
          "execution_count": 103
        }
      ]
    },
    {
      "cell_type": "markdown",
      "metadata": {
        "id": "rY87f8CcuVo4"
      },
      "source": [
        "#Normalizzo"
      ]
    },
    {
      "cell_type": "code",
      "metadata": {
        "id": "m4v77s4qRCko"
      },
      "source": [
        "X=df.drop(columns=[\"row ID\",\"CANCER\"])\n",
        "Y=df[\"CANCER\"]\n",
        "\n",
        "X[\"FREE_PSA\"].fillna(PSA_Median)\n",
        "X[\"RATIO\"].fillna(Ratio_median)\n",
        "X=X.fillna(-1)"
      ],
      "execution_count": null,
      "outputs": []
    },
    {
      "cell_type": "code",
      "metadata": {
        "id": "9Fi17Ct0X4Zg"
      },
      "source": [
        "from sklearn.preprocessing import StandardScaler\n",
        "sc=StandardScaler()\n",
        "X_Normalizzato = sc.fit_transform(X)\n",
        "Test_finale_Normalizzato = sc.transform(Test_finale)"
      ],
      "execution_count": null,
      "outputs": []
    },
    {
      "cell_type": "markdown",
      "metadata": {
        "id": "tb7kNM4dCx-a"
      },
      "source": [
        "#Provo la SVM"
      ]
    },
    {
      "cell_type": "code",
      "metadata": {
        "colab": {
          "base_uri": "https://localhost:8080/"
        },
        "id": "1ExTWTGBbFXK",
        "outputId": "8f115218-f797-4f6d-cbc0-da9ee09fe7de"
      },
      "source": [
        "from sklearn.svm import SVC\n",
        "support_vector_machine=SVC(kernel='linear', C=10, random_state=0)\n",
        "support_vector_machine.fit(X_Normalizzato,Y)"
      ],
      "execution_count": null,
      "outputs": [
        {
          "output_type": "execute_result",
          "data": {
            "text/plain": [
              "SVC(C=10, kernel='linear', random_state=0)"
            ]
          },
          "metadata": {},
          "execution_count": 86
        }
      ]
    },
    {
      "cell_type": "markdown",
      "metadata": {
        "id": "8DSv5_2qtiya"
      },
      "source": [
        "#Provo una regressione logistica"
      ]
    },
    {
      "cell_type": "code",
      "metadata": {
        "colab": {
          "base_uri": "https://localhost:8080/"
        },
        "id": "BRh_zYfLtmLA",
        "outputId": "756799ea-87fa-4e0d-831f-6198939f7bae"
      },
      "source": [
        "from sklearn.linear_model import LogisticRegression\n",
        "log=LogisticRegression(penalty='l2', random_state=20, solver='lbfgs', C=10)\n",
        "log.fit(X_train,Y_train)\n"
      ],
      "execution_count": null,
      "outputs": [
        {
          "output_type": "execute_result",
          "data": {
            "text/plain": [
              "LogisticRegression(C=10, random_state=20)"
            ]
          },
          "metadata": {},
          "execution_count": 106
        }
      ]
    },
    {
      "cell_type": "markdown",
      "metadata": {
        "id": "zzuy2_DaC6jE"
      },
      "source": [
        "#Creo Il risultato finale"
      ]
    },
    {
      "cell_type": "code",
      "metadata": {
        "id": "V2qcpKv5CfqL"
      },
      "source": [
        "Test_finale_array=np.array(Test_finale_Normalizzato)"
      ],
      "execution_count": null,
      "outputs": []
    },
    {
      "cell_type": "code",
      "metadata": {
        "colab": {
          "base_uri": "https://localhost:8080/"
        },
        "id": "mqDlAEoERKNX",
        "outputId": "488dd479-0903-4f40-ca89-e4d6b4c4a8af"
      },
      "source": [
        "Test_finale_array.shape"
      ],
      "execution_count": null,
      "outputs": [
        {
          "output_type": "execute_result",
          "data": {
            "text/plain": [
              "(44, 19)"
            ]
          },
          "metadata": {},
          "execution_count": 108
        }
      ]
    },
    {
      "cell_type": "code",
      "metadata": {
        "colab": {
          "base_uri": "https://localhost:8080/"
        },
        "id": "CVqGYf87WCAu",
        "outputId": "f32e8ecd-4f43-4f42-c3d4-5f61afe947db"
      },
      "source": [
        "#pred=support_vector_machine.predict(Test_finale_array)\n",
        "pred=log.predict(Test_finale_array)\n",
        "\n",
        "print(pred)\n",
        "\n",
        "\n",
        "\n",
        "\n"
      ],
      "execution_count": null,
      "outputs": [
        {
          "output_type": "stream",
          "name": "stdout",
          "text": [
            "[0 1 1 1 1 1 1 1 0 1 1 1 0 0 1 0 1 1 1 0 1 1 1 0 1 1 1 1 1 0 1 1 0 1 0 1 1\n",
            " 0 1 0 1 0 0 1]\n"
          ]
        }
      ]
    },
    {
      "cell_type": "code",
      "metadata": {
        "id": "swmY1K8KbcY4",
        "colab": {
          "base_uri": "https://localhost:8080/"
        },
        "outputId": "40f375fb-4e14-4955-8290-226fcf54f0f3"
      },
      "source": [
        "id=np.array(df_test[\"row ID\"])  #id\n",
        "\n",
        "id"
      ],
      "execution_count": null,
      "outputs": [
        {
          "output_type": "execute_result",
          "data": {
            "text/plain": [
              "array([  1.,   5.,   7.,   9.,  10.,  11.,  16.,  18.,  19.,  25.,  26.,\n",
              "        29.,  30.,  31.,  34.,  37.,  40.,  41.,  44.,  45.,  46.,  48.,\n",
              "        49.,  52.,  53.,  57.,  62.,  63.,  72.,  77.,  79.,  82.,  86.,\n",
              "        87.,  89.,  90.,  91.,  93.,  98., 100., 101., 102., 103., 105.])"
            ]
          },
          "metadata": {},
          "execution_count": 110
        }
      ]
    },
    {
      "cell_type": "code",
      "metadata": {
        "id": "iopBuGHscxLS"
      },
      "source": [
        "colonna_1=pd.DataFrame(id, columns=['ID'])\n",
        "\n",
        "colonna_1"
      ],
      "execution_count": null,
      "outputs": []
    },
    {
      "cell_type": "code",
      "metadata": {
        "id": "hHDz4jipbnoe"
      },
      "source": [
        "colonna_2=pd.DataFrame(pred, columns=['CANCER'])\n",
        "\n",
        "colonna_2\n"
      ],
      "execution_count": null,
      "outputs": []
    },
    {
      "cell_type": "code",
      "metadata": {
        "id": "6jPM7fGedLuW"
      },
      "source": [
        "# concatenating along columns\n",
        "horizontal_concat = pd.concat([colonna_1, colonna_2], axis=1)"
      ],
      "execution_count": null,
      "outputs": []
    },
    {
      "cell_type": "code",
      "metadata": {
        "id": "6f-JyCUEdSNM"
      },
      "source": [
        "horizontal_concat"
      ],
      "execution_count": null,
      "outputs": []
    },
    {
      "cell_type": "code",
      "metadata": {
        "id": "iRAbMKrldoHl"
      },
      "source": [
        "horizontal_concat.to_csv('Risultato_Log.csv', index = False)"
      ],
      "execution_count": null,
      "outputs": []
    }
  ]
}